{
  "nbformat": 4,
  "nbformat_minor": 0,
  "metadata": {
    "colab": {
      "provenance": [],
      "gpuType": "T4"
    },
    "kernelspec": {
      "name": "python3",
      "display_name": "Python 3"
    },
    "language_info": {
      "name": "python"
    },
    "accelerator": "GPU"
  },
  "cells": [
    {
      "cell_type": "code",
      "execution_count": 2,
      "metadata": {
        "colab": {
          "base_uri": "https://localhost:8080/"
        },
        "id": "_w9QWQlY3sYq",
        "outputId": "89d2aeb3-bff8-49ea-b347-b889e6eea02f"
      },
      "outputs": [
        {
          "output_type": "stream",
          "name": "stdout",
          "text": [
            "Collecting ultralytics\n",
            "  Downloading ultralytics-8.1.40-py3-none-any.whl (744 kB)\n",
            "\u001b[2K     \u001b[90m━━━━━━━━━━━━━━━━━━━━━━━━━━━━━━━━━━━━━━━━\u001b[0m \u001b[32m744.7/744.7 kB\u001b[0m \u001b[31m12.6 MB/s\u001b[0m eta \u001b[36m0:00:00\u001b[0m\n",
            "\u001b[?25hRequirement already satisfied: matplotlib>=3.3.0 in /usr/local/lib/python3.10/dist-packages (from ultralytics) (3.7.1)\n",
            "Requirement already satisfied: opencv-python>=4.6.0 in /usr/local/lib/python3.10/dist-packages (from ultralytics) (4.8.0.76)\n",
            "Requirement already satisfied: pillow>=7.1.2 in /usr/local/lib/python3.10/dist-packages (from ultralytics) (9.4.0)\n",
            "Requirement already satisfied: pyyaml>=5.3.1 in /usr/local/lib/python3.10/dist-packages (from ultralytics) (6.0.1)\n",
            "Requirement already satisfied: requests>=2.23.0 in /usr/local/lib/python3.10/dist-packages (from ultralytics) (2.31.0)\n",
            "Requirement already satisfied: scipy>=1.4.1 in /usr/local/lib/python3.10/dist-packages (from ultralytics) (1.11.4)\n",
            "Requirement already satisfied: torch>=1.8.0 in /usr/local/lib/python3.10/dist-packages (from ultralytics) (2.2.1+cu121)\n",
            "Requirement already satisfied: torchvision>=0.9.0 in /usr/local/lib/python3.10/dist-packages (from ultralytics) (0.17.1+cu121)\n",
            "Requirement already satisfied: tqdm>=4.64.0 in /usr/local/lib/python3.10/dist-packages (from ultralytics) (4.66.2)\n",
            "Requirement already satisfied: psutil in /usr/local/lib/python3.10/dist-packages (from ultralytics) (5.9.5)\n",
            "Requirement already satisfied: py-cpuinfo in /usr/local/lib/python3.10/dist-packages (from ultralytics) (9.0.0)\n",
            "Collecting thop>=0.1.1 (from ultralytics)\n",
            "  Downloading thop-0.1.1.post2209072238-py3-none-any.whl (15 kB)\n",
            "Requirement already satisfied: pandas>=1.1.4 in /usr/local/lib/python3.10/dist-packages (from ultralytics) (1.5.3)\n",
            "Requirement already satisfied: seaborn>=0.11.0 in /usr/local/lib/python3.10/dist-packages (from ultralytics) (0.13.1)\n",
            "Requirement already satisfied: contourpy>=1.0.1 in /usr/local/lib/python3.10/dist-packages (from matplotlib>=3.3.0->ultralytics) (1.2.0)\n",
            "Requirement already satisfied: cycler>=0.10 in /usr/local/lib/python3.10/dist-packages (from matplotlib>=3.3.0->ultralytics) (0.12.1)\n",
            "Requirement already satisfied: fonttools>=4.22.0 in /usr/local/lib/python3.10/dist-packages (from matplotlib>=3.3.0->ultralytics) (4.50.0)\n",
            "Requirement already satisfied: kiwisolver>=1.0.1 in /usr/local/lib/python3.10/dist-packages (from matplotlib>=3.3.0->ultralytics) (1.4.5)\n",
            "Requirement already satisfied: numpy>=1.20 in /usr/local/lib/python3.10/dist-packages (from matplotlib>=3.3.0->ultralytics) (1.25.2)\n",
            "Requirement already satisfied: packaging>=20.0 in /usr/local/lib/python3.10/dist-packages (from matplotlib>=3.3.0->ultralytics) (24.0)\n",
            "Requirement already satisfied: pyparsing>=2.3.1 in /usr/local/lib/python3.10/dist-packages (from matplotlib>=3.3.0->ultralytics) (3.1.2)\n",
            "Requirement already satisfied: python-dateutil>=2.7 in /usr/local/lib/python3.10/dist-packages (from matplotlib>=3.3.0->ultralytics) (2.8.2)\n",
            "Requirement already satisfied: pytz>=2020.1 in /usr/local/lib/python3.10/dist-packages (from pandas>=1.1.4->ultralytics) (2023.4)\n",
            "Requirement already satisfied: charset-normalizer<4,>=2 in /usr/local/lib/python3.10/dist-packages (from requests>=2.23.0->ultralytics) (3.3.2)\n",
            "Requirement already satisfied: idna<4,>=2.5 in /usr/local/lib/python3.10/dist-packages (from requests>=2.23.0->ultralytics) (3.6)\n",
            "Requirement already satisfied: urllib3<3,>=1.21.1 in /usr/local/lib/python3.10/dist-packages (from requests>=2.23.0->ultralytics) (2.0.7)\n",
            "Requirement already satisfied: certifi>=2017.4.17 in /usr/local/lib/python3.10/dist-packages (from requests>=2.23.0->ultralytics) (2024.2.2)\n",
            "Requirement already satisfied: filelock in /usr/local/lib/python3.10/dist-packages (from torch>=1.8.0->ultralytics) (3.13.3)\n",
            "Requirement already satisfied: typing-extensions>=4.8.0 in /usr/local/lib/python3.10/dist-packages (from torch>=1.8.0->ultralytics) (4.10.0)\n",
            "Requirement already satisfied: sympy in /usr/local/lib/python3.10/dist-packages (from torch>=1.8.0->ultralytics) (1.12)\n",
            "Requirement already satisfied: networkx in /usr/local/lib/python3.10/dist-packages (from torch>=1.8.0->ultralytics) (3.2.1)\n",
            "Requirement already satisfied: jinja2 in /usr/local/lib/python3.10/dist-packages (from torch>=1.8.0->ultralytics) (3.1.3)\n",
            "Requirement already satisfied: fsspec in /usr/local/lib/python3.10/dist-packages (from torch>=1.8.0->ultralytics) (2023.6.0)\n",
            "Collecting nvidia-cuda-nvrtc-cu12==12.1.105 (from torch>=1.8.0->ultralytics)\n",
            "  Downloading nvidia_cuda_nvrtc_cu12-12.1.105-py3-none-manylinux1_x86_64.whl (23.7 MB)\n",
            "\u001b[2K     \u001b[90m━━━━━━━━━━━━━━━━━━━━━━━━━━━━━━━━━━━━━━━━\u001b[0m \u001b[32m23.7/23.7 MB\u001b[0m \u001b[31m64.6 MB/s\u001b[0m eta \u001b[36m0:00:00\u001b[0m\n",
            "\u001b[?25hCollecting nvidia-cuda-runtime-cu12==12.1.105 (from torch>=1.8.0->ultralytics)\n",
            "  Downloading nvidia_cuda_runtime_cu12-12.1.105-py3-none-manylinux1_x86_64.whl (823 kB)\n",
            "\u001b[2K     \u001b[90m━━━━━━━━━━━━━━━━━━━━━━━━━━━━━━━━━━━━━━━━\u001b[0m \u001b[32m823.6/823.6 kB\u001b[0m \u001b[31m68.1 MB/s\u001b[0m eta \u001b[36m0:00:00\u001b[0m\n",
            "\u001b[?25hCollecting nvidia-cuda-cupti-cu12==12.1.105 (from torch>=1.8.0->ultralytics)\n",
            "  Downloading nvidia_cuda_cupti_cu12-12.1.105-py3-none-manylinux1_x86_64.whl (14.1 MB)\n",
            "\u001b[2K     \u001b[90m━━━━━━━━━━━━━━━━━━━━━━━━━━━━━━━━━━━━━━━━\u001b[0m \u001b[32m14.1/14.1 MB\u001b[0m \u001b[31m89.3 MB/s\u001b[0m eta \u001b[36m0:00:00\u001b[0m\n",
            "\u001b[?25hCollecting nvidia-cudnn-cu12==8.9.2.26 (from torch>=1.8.0->ultralytics)\n",
            "  Downloading nvidia_cudnn_cu12-8.9.2.26-py3-none-manylinux1_x86_64.whl (731.7 MB)\n",
            "\u001b[2K     \u001b[90m━━━━━━━━━━━━━━━━━━━━━━━━━━━━━━━━━━━━━━━━\u001b[0m \u001b[32m731.7/731.7 MB\u001b[0m \u001b[31m2.1 MB/s\u001b[0m eta \u001b[36m0:00:00\u001b[0m\n",
            "\u001b[?25hCollecting nvidia-cublas-cu12==12.1.3.1 (from torch>=1.8.0->ultralytics)\n",
            "  Downloading nvidia_cublas_cu12-12.1.3.1-py3-none-manylinux1_x86_64.whl (410.6 MB)\n",
            "\u001b[2K     \u001b[90m━━━━━━━━━━━━━━━━━━━━━━━━━━━━━━━━━━━━━━━━\u001b[0m \u001b[32m410.6/410.6 MB\u001b[0m \u001b[31m3.9 MB/s\u001b[0m eta \u001b[36m0:00:00\u001b[0m\n",
            "\u001b[?25hCollecting nvidia-cufft-cu12==11.0.2.54 (from torch>=1.8.0->ultralytics)\n",
            "  Downloading nvidia_cufft_cu12-11.0.2.54-py3-none-manylinux1_x86_64.whl (121.6 MB)\n",
            "\u001b[2K     \u001b[90m━━━━━━━━━━━━━━━━━━━━━━━━━━━━━━━━━━━━━━━━\u001b[0m \u001b[32m121.6/121.6 MB\u001b[0m \u001b[31m8.8 MB/s\u001b[0m eta \u001b[36m0:00:00\u001b[0m\n",
            "\u001b[?25hCollecting nvidia-curand-cu12==10.3.2.106 (from torch>=1.8.0->ultralytics)\n",
            "  Downloading nvidia_curand_cu12-10.3.2.106-py3-none-manylinux1_x86_64.whl (56.5 MB)\n",
            "\u001b[2K     \u001b[90m━━━━━━━━━━━━━━━━━━━━━━━━━━━━━━━━━━━━━━━━\u001b[0m \u001b[32m56.5/56.5 MB\u001b[0m \u001b[31m11.0 MB/s\u001b[0m eta \u001b[36m0:00:00\u001b[0m\n",
            "\u001b[?25hCollecting nvidia-cusolver-cu12==11.4.5.107 (from torch>=1.8.0->ultralytics)\n",
            "  Downloading nvidia_cusolver_cu12-11.4.5.107-py3-none-manylinux1_x86_64.whl (124.2 MB)\n",
            "\u001b[2K     \u001b[90m━━━━━━━━━━━━━━━━━━━━━━━━━━━━━━━━━━━━━━━━\u001b[0m \u001b[32m124.2/124.2 MB\u001b[0m \u001b[31m8.1 MB/s\u001b[0m eta \u001b[36m0:00:00\u001b[0m\n",
            "\u001b[?25hCollecting nvidia-cusparse-cu12==12.1.0.106 (from torch>=1.8.0->ultralytics)\n",
            "  Downloading nvidia_cusparse_cu12-12.1.0.106-py3-none-manylinux1_x86_64.whl (196.0 MB)\n",
            "\u001b[2K     \u001b[90m━━━━━━━━━━━━━━━━━━━━━━━━━━━━━━━━━━━━━━━━\u001b[0m \u001b[32m196.0/196.0 MB\u001b[0m \u001b[31m6.2 MB/s\u001b[0m eta \u001b[36m0:00:00\u001b[0m\n",
            "\u001b[?25hCollecting nvidia-nccl-cu12==2.19.3 (from torch>=1.8.0->ultralytics)\n",
            "  Downloading nvidia_nccl_cu12-2.19.3-py3-none-manylinux1_x86_64.whl (166.0 MB)\n",
            "\u001b[2K     \u001b[90m━━━━━━━━━━━━━━━━━━━━━━━━━━━━━━━━━━━━━━━━\u001b[0m \u001b[32m166.0/166.0 MB\u001b[0m \u001b[31m7.1 MB/s\u001b[0m eta \u001b[36m0:00:00\u001b[0m\n",
            "\u001b[?25hCollecting nvidia-nvtx-cu12==12.1.105 (from torch>=1.8.0->ultralytics)\n",
            "  Downloading nvidia_nvtx_cu12-12.1.105-py3-none-manylinux1_x86_64.whl (99 kB)\n",
            "\u001b[2K     \u001b[90m━━━━━━━━━━━━━━━━━━━━━━━━━━━━━━━━━━━━━━━━\u001b[0m \u001b[32m99.1/99.1 kB\u001b[0m \u001b[31m13.6 MB/s\u001b[0m eta \u001b[36m0:00:00\u001b[0m\n",
            "\u001b[?25hRequirement already satisfied: triton==2.2.0 in /usr/local/lib/python3.10/dist-packages (from torch>=1.8.0->ultralytics) (2.2.0)\n",
            "Collecting nvidia-nvjitlink-cu12 (from nvidia-cusolver-cu12==11.4.5.107->torch>=1.8.0->ultralytics)\n",
            "  Downloading nvidia_nvjitlink_cu12-12.4.99-py3-none-manylinux2014_x86_64.whl (21.1 MB)\n",
            "\u001b[2K     \u001b[90m━━━━━━━━━━━━━━━━━━━━━━━━━━━━━━━━━━━━━━━━\u001b[0m \u001b[32m21.1/21.1 MB\u001b[0m \u001b[31m55.0 MB/s\u001b[0m eta \u001b[36m0:00:00\u001b[0m\n",
            "\u001b[?25hRequirement already satisfied: six>=1.5 in /usr/local/lib/python3.10/dist-packages (from python-dateutil>=2.7->matplotlib>=3.3.0->ultralytics) (1.16.0)\n",
            "Requirement already satisfied: MarkupSafe>=2.0 in /usr/local/lib/python3.10/dist-packages (from jinja2->torch>=1.8.0->ultralytics) (2.1.5)\n",
            "Requirement already satisfied: mpmath>=0.19 in /usr/local/lib/python3.10/dist-packages (from sympy->torch>=1.8.0->ultralytics) (1.3.0)\n",
            "Installing collected packages: nvidia-nvtx-cu12, nvidia-nvjitlink-cu12, nvidia-nccl-cu12, nvidia-curand-cu12, nvidia-cufft-cu12, nvidia-cuda-runtime-cu12, nvidia-cuda-nvrtc-cu12, nvidia-cuda-cupti-cu12, nvidia-cublas-cu12, nvidia-cusparse-cu12, nvidia-cudnn-cu12, nvidia-cusolver-cu12, thop, ultralytics\n",
            "Successfully installed nvidia-cublas-cu12-12.1.3.1 nvidia-cuda-cupti-cu12-12.1.105 nvidia-cuda-nvrtc-cu12-12.1.105 nvidia-cuda-runtime-cu12-12.1.105 nvidia-cudnn-cu12-8.9.2.26 nvidia-cufft-cu12-11.0.2.54 nvidia-curand-cu12-10.3.2.106 nvidia-cusolver-cu12-11.4.5.107 nvidia-cusparse-cu12-12.1.0.106 nvidia-nccl-cu12-2.19.3 nvidia-nvjitlink-cu12-12.4.99 nvidia-nvtx-cu12-12.1.105 thop-0.1.1.post2209072238 ultralytics-8.1.40\n"
          ]
        }
      ],
      "source": [
        "!pip install ultralytics"
      ]
    },
    {
      "cell_type": "code",
      "source": [
        "from google.colab import drive\n",
        "drive.mount('/content/drive')"
      ],
      "metadata": {
        "colab": {
          "base_uri": "https://localhost:8080/"
        },
        "id": "jRYPkiiV9atC",
        "outputId": "f2b7923e-80b6-47f6-bf1c-4f233c7d9a0a"
      },
      "execution_count": 1,
      "outputs": [
        {
          "output_type": "stream",
          "name": "stdout",
          "text": [
            "Mounted at /content/drive\n"
          ]
        }
      ]
    },
    {
      "cell_type": "code",
      "source": [
        "!pip install roboflow\n",
        "\n",
        "from roboflow import Roboflow\n",
        "rf = Roboflow(api_key=\"LTpT6Qjy7cU4K0MGGjVk\")\n",
        "project = rf.workspace(\"litter-raking-project\").project(\"smart-poultry-farm-litter-raking\")\n",
        "version = project.version(3)\n",
        "dataset = version.download(\"yolov8\")"
      ],
      "metadata": {
        "colab": {
          "base_uri": "https://localhost:8080/",
          "height": 1000
        },
        "id": "g-5arzy_4lbg",
        "outputId": "ca80e76e-d9a8-4d60-af64-e0342057df0f"
      },
      "execution_count": 3,
      "outputs": [
        {
          "output_type": "stream",
          "name": "stdout",
          "text": [
            "Collecting roboflow\n",
            "  Downloading roboflow-1.1.26-py3-none-any.whl (71 kB)\n",
            "\u001b[?25l     \u001b[90m━━━━━━━━━━━━━━━━━━━━━━━━━━━━━━━━━━━━━━━━\u001b[0m \u001b[32m0.0/72.0 kB\u001b[0m \u001b[31m?\u001b[0m eta \u001b[36m-:--:--\u001b[0m\r\u001b[2K     \u001b[90m━━━━━━━━━━━━━━━━━━━━━━━━━━━━━━━━━━━━━━━━\u001b[0m \u001b[32m72.0/72.0 kB\u001b[0m \u001b[31m2.4 MB/s\u001b[0m eta \u001b[36m0:00:00\u001b[0m\n",
            "\u001b[?25hCollecting certifi==2023.7.22 (from roboflow)\n",
            "  Downloading certifi-2023.7.22-py3-none-any.whl (158 kB)\n",
            "\u001b[2K     \u001b[90m━━━━━━━━━━━━━━━━━━━━━━━━━━━━━━━━━━━━━━━━\u001b[0m \u001b[32m158.3/158.3 kB\u001b[0m \u001b[31m8.6 MB/s\u001b[0m eta \u001b[36m0:00:00\u001b[0m\n",
            "\u001b[?25hCollecting chardet==4.0.0 (from roboflow)\n",
            "  Downloading chardet-4.0.0-py2.py3-none-any.whl (178 kB)\n",
            "\u001b[2K     \u001b[90m━━━━━━━━━━━━━━━━━━━━━━━━━━━━━━━━━━━━━━━━\u001b[0m \u001b[32m178.7/178.7 kB\u001b[0m \u001b[31m24.3 MB/s\u001b[0m eta \u001b[36m0:00:00\u001b[0m\n",
            "\u001b[?25hCollecting cycler==0.10.0 (from roboflow)\n",
            "  Downloading cycler-0.10.0-py2.py3-none-any.whl (6.5 kB)\n",
            "Collecting idna==2.10 (from roboflow)\n",
            "  Downloading idna-2.10-py2.py3-none-any.whl (58 kB)\n",
            "\u001b[2K     \u001b[90m━━━━━━━━━━━━━━━━━━━━━━━━━━━━━━━━━━━━━━━━\u001b[0m \u001b[32m58.8/58.8 kB\u001b[0m \u001b[31m8.2 MB/s\u001b[0m eta \u001b[36m0:00:00\u001b[0m\n",
            "\u001b[?25hRequirement already satisfied: kiwisolver>=1.3.1 in /usr/local/lib/python3.10/dist-packages (from roboflow) (1.4.5)\n",
            "Requirement already satisfied: matplotlib in /usr/local/lib/python3.10/dist-packages (from roboflow) (3.7.1)\n",
            "Requirement already satisfied: numpy>=1.18.5 in /usr/local/lib/python3.10/dist-packages (from roboflow) (1.25.2)\n",
            "Collecting opencv-python-headless==4.8.0.74 (from roboflow)\n",
            "  Downloading opencv_python_headless-4.8.0.74-cp37-abi3-manylinux_2_17_x86_64.manylinux2014_x86_64.whl (49.1 MB)\n",
            "\u001b[2K     \u001b[90m━━━━━━━━━━━━━━━━━━━━━━━━━━━━━━━━━━━━━━━━\u001b[0m \u001b[32m49.1/49.1 MB\u001b[0m \u001b[31m10.8 MB/s\u001b[0m eta \u001b[36m0:00:00\u001b[0m\n",
            "\u001b[?25hRequirement already satisfied: Pillow>=7.1.2 in /usr/local/lib/python3.10/dist-packages (from roboflow) (9.4.0)\n",
            "Requirement already satisfied: python-dateutil in /usr/local/lib/python3.10/dist-packages (from roboflow) (2.8.2)\n",
            "Collecting python-dotenv (from roboflow)\n",
            "  Downloading python_dotenv-1.0.1-py3-none-any.whl (19 kB)\n",
            "Requirement already satisfied: requests in /usr/local/lib/python3.10/dist-packages (from roboflow) (2.31.0)\n",
            "Requirement already satisfied: six in /usr/local/lib/python3.10/dist-packages (from roboflow) (1.16.0)\n",
            "Requirement already satisfied: urllib3>=1.26.6 in /usr/local/lib/python3.10/dist-packages (from roboflow) (2.0.7)\n",
            "Requirement already satisfied: tqdm>=4.41.0 in /usr/local/lib/python3.10/dist-packages (from roboflow) (4.66.2)\n",
            "Requirement already satisfied: PyYAML>=5.3.1 in /usr/local/lib/python3.10/dist-packages (from roboflow) (6.0.1)\n",
            "Collecting requests-toolbelt (from roboflow)\n",
            "  Downloading requests_toolbelt-1.0.0-py2.py3-none-any.whl (54 kB)\n",
            "\u001b[2K     \u001b[90m━━━━━━━━━━━━━━━━━━━━━━━━━━━━━━━━━━━━━━━━\u001b[0m \u001b[32m54.5/54.5 kB\u001b[0m \u001b[31m7.5 MB/s\u001b[0m eta \u001b[36m0:00:00\u001b[0m\n",
            "\u001b[?25hCollecting python-magic (from roboflow)\n",
            "  Downloading python_magic-0.4.27-py2.py3-none-any.whl (13 kB)\n",
            "Requirement already satisfied: contourpy>=1.0.1 in /usr/local/lib/python3.10/dist-packages (from matplotlib->roboflow) (1.2.0)\n",
            "Requirement already satisfied: fonttools>=4.22.0 in /usr/local/lib/python3.10/dist-packages (from matplotlib->roboflow) (4.50.0)\n",
            "Requirement already satisfied: packaging>=20.0 in /usr/local/lib/python3.10/dist-packages (from matplotlib->roboflow) (24.0)\n",
            "Requirement already satisfied: pyparsing>=2.3.1 in /usr/local/lib/python3.10/dist-packages (from matplotlib->roboflow) (3.1.2)\n",
            "Requirement already satisfied: charset-normalizer<4,>=2 in /usr/local/lib/python3.10/dist-packages (from requests->roboflow) (3.3.2)\n",
            "Installing collected packages: python-magic, python-dotenv, opencv-python-headless, idna, cycler, chardet, certifi, requests-toolbelt, roboflow\n",
            "  Attempting uninstall: opencv-python-headless\n",
            "    Found existing installation: opencv-python-headless 4.9.0.80\n",
            "    Uninstalling opencv-python-headless-4.9.0.80:\n",
            "      Successfully uninstalled opencv-python-headless-4.9.0.80\n",
            "  Attempting uninstall: idna\n",
            "    Found existing installation: idna 3.6\n",
            "    Uninstalling idna-3.6:\n",
            "      Successfully uninstalled idna-3.6\n",
            "  Attempting uninstall: cycler\n",
            "    Found existing installation: cycler 0.12.1\n",
            "    Uninstalling cycler-0.12.1:\n",
            "      Successfully uninstalled cycler-0.12.1\n",
            "  Attempting uninstall: chardet\n",
            "    Found existing installation: chardet 5.2.0\n",
            "    Uninstalling chardet-5.2.0:\n",
            "      Successfully uninstalled chardet-5.2.0\n",
            "  Attempting uninstall: certifi\n",
            "    Found existing installation: certifi 2024.2.2\n",
            "    Uninstalling certifi-2024.2.2:\n",
            "      Successfully uninstalled certifi-2024.2.2\n",
            "Successfully installed certifi-2023.7.22 chardet-4.0.0 cycler-0.10.0 idna-2.10 opencv-python-headless-4.8.0.74 python-dotenv-1.0.1 python-magic-0.4.27 requests-toolbelt-1.0.0 roboflow-1.1.26\n"
          ]
        },
        {
          "output_type": "display_data",
          "data": {
            "application/vnd.colab-display-data+json": {
              "pip_warning": {
                "packages": [
                  "certifi",
                  "cycler"
                ]
              },
              "id": "871a94f6d9784323bd62c7ef56e336fe"
            }
          },
          "metadata": {}
        },
        {
          "output_type": "stream",
          "name": "stdout",
          "text": [
            "loading Roboflow workspace...\n",
            "loading Roboflow project...\n",
            "Dependency ultralytics==8.0.196 is required but found version=8.1.40, to fix: `pip install ultralytics==8.0.196`\n"
          ]
        },
        {
          "output_type": "stream",
          "name": "stderr",
          "text": [
            "Downloading Dataset Version Zip in smart-poultry-farm-litter-raking-3 to yolov8:: 100%|██████████| 1304773/1304773 [00:20<00:00, 62365.90it/s]"
          ]
        },
        {
          "output_type": "stream",
          "name": "stdout",
          "text": [
            "\n"
          ]
        },
        {
          "output_type": "stream",
          "name": "stderr",
          "text": [
            "\n",
            "Extracting Dataset Version Zip to smart-poultry-farm-litter-raking-3 in yolov8:: 100%|██████████| 31948/31948 [00:11<00:00, 2874.39it/s]\n"
          ]
        }
      ]
    },
    {
      "cell_type": "code",
      "source": [
        "import torch\n",
        "from ultralytics import YOLO\n",
        "\n",
        "model = YOLO('yolov8n.pt')\n",
        "\n",
        "batch = 50\n",
        "\n",
        "results = model.train(\n",
        "    data='/content/smart-poultry-farm-litter-raking-3/data.yaml',\n",
        "    epochs=25,\n",
        "    imgsz=640,\n",
        "    batch=batch,\n",
        "    device='cuda' if torch.cuda.is_available() else 'cpu',\n",
        "\n",
        ")\n",
        "\n",
        "model.save('yolov8n_custom.pt')"
      ],
      "metadata": {
        "colab": {
          "base_uri": "https://localhost:8080/"
        },
        "id": "ogVC0l1Bvd5I",
        "outputId": "c9ebdbc0-3cdf-4208-8669-3dbf2091881a"
      },
      "execution_count": null,
      "outputs": [
        {
          "output_type": "stream",
          "name": "stdout",
          "text": [
            "Downloading https://github.com/ultralytics/assets/releases/download/v8.1.0/yolov8n.pt to 'yolov8n.pt'...\n"
          ]
        },
        {
          "output_type": "stream",
          "name": "stderr",
          "text": [
            "100%|██████████| 6.23M/6.23M [00:00<00:00, 102MB/s]\n"
          ]
        },
        {
          "output_type": "stream",
          "name": "stdout",
          "text": [
            "Ultralytics YOLOv8.1.37 🚀 Python-3.10.12 torch-2.2.1+cu121 CUDA:0 (Tesla T4, 15102MiB)\n",
            "\u001b[34m\u001b[1mengine/trainer: \u001b[0mtask=detect, mode=train, model=yolov8n.pt, data=/content/smart-poultry-farm-litter-raking-3/data.yaml, epochs=25, time=None, patience=100, batch=50, imgsz=640, save=True, save_period=-1, cache=False, device=cuda, workers=8, project=None, name=train, exist_ok=False, pretrained=True, optimizer=auto, verbose=True, seed=0, deterministic=True, single_cls=False, rect=False, cos_lr=False, close_mosaic=10, resume=False, amp=True, fraction=1.0, profile=False, freeze=None, multi_scale=False, overlap_mask=True, mask_ratio=4, dropout=0.0, val=True, split=val, save_json=False, save_hybrid=False, conf=None, iou=0.7, max_det=300, half=False, dnn=False, plots=True, source=None, vid_stride=1, stream_buffer=False, visualize=False, augment=False, agnostic_nms=False, classes=None, retina_masks=False, embed=None, show=False, save_frames=False, save_txt=False, save_conf=False, save_crop=False, show_labels=True, show_conf=True, show_boxes=True, line_width=None, format=torchscript, keras=False, optimize=False, int8=False, dynamic=False, simplify=False, opset=None, workspace=4, nms=False, lr0=0.01, lrf=0.01, momentum=0.937, weight_decay=0.0005, warmup_epochs=3.0, warmup_momentum=0.8, warmup_bias_lr=0.1, box=7.5, cls=0.5, dfl=1.5, pose=12.0, kobj=1.0, label_smoothing=0.0, nbs=64, hsv_h=0.015, hsv_s=0.7, hsv_v=0.4, degrees=0.0, translate=0.1, scale=0.5, shear=0.0, perspective=0.0, flipud=0.0, fliplr=0.5, bgr=0.0, mosaic=1.0, mixup=0.0, copy_paste=0.0, auto_augment=randaugment, erasing=0.4, crop_fraction=1.0, cfg=None, tracker=botsort.yaml, save_dir=runs/detect/train\n",
            "Downloading https://ultralytics.com/assets/Arial.ttf to '/root/.config/Ultralytics/Arial.ttf'...\n"
          ]
        },
        {
          "output_type": "stream",
          "name": "stderr",
          "text": [
            "100%|██████████| 755k/755k [00:00<00:00, 26.3MB/s]\n"
          ]
        },
        {
          "output_type": "stream",
          "name": "stdout",
          "text": [
            "Overriding model.yaml nc=80 with nc=2\n",
            "\n",
            "                   from  n    params  module                                       arguments                     \n",
            "  0                  -1  1       464  ultralytics.nn.modules.conv.Conv             [3, 16, 3, 2]                 \n",
            "  1                  -1  1      4672  ultralytics.nn.modules.conv.Conv             [16, 32, 3, 2]                \n",
            "  2                  -1  1      7360  ultralytics.nn.modules.block.C2f             [32, 32, 1, True]             \n",
            "  3                  -1  1     18560  ultralytics.nn.modules.conv.Conv             [32, 64, 3, 2]                \n",
            "  4                  -1  2     49664  ultralytics.nn.modules.block.C2f             [64, 64, 2, True]             \n",
            "  5                  -1  1     73984  ultralytics.nn.modules.conv.Conv             [64, 128, 3, 2]               \n",
            "  6                  -1  2    197632  ultralytics.nn.modules.block.C2f             [128, 128, 2, True]           \n",
            "  7                  -1  1    295424  ultralytics.nn.modules.conv.Conv             [128, 256, 3, 2]              \n",
            "  8                  -1  1    460288  ultralytics.nn.modules.block.C2f             [256, 256, 1, True]           \n",
            "  9                  -1  1    164608  ultralytics.nn.modules.block.SPPF            [256, 256, 5]                 \n",
            " 10                  -1  1         0  torch.nn.modules.upsampling.Upsample         [None, 2, 'nearest']          \n",
            " 11             [-1, 6]  1         0  ultralytics.nn.modules.conv.Concat           [1]                           \n",
            " 12                  -1  1    148224  ultralytics.nn.modules.block.C2f             [384, 128, 1]                 \n",
            " 13                  -1  1         0  torch.nn.modules.upsampling.Upsample         [None, 2, 'nearest']          \n",
            " 14             [-1, 4]  1         0  ultralytics.nn.modules.conv.Concat           [1]                           \n",
            " 15                  -1  1     37248  ultralytics.nn.modules.block.C2f             [192, 64, 1]                  \n",
            " 16                  -1  1     36992  ultralytics.nn.modules.conv.Conv             [64, 64, 3, 2]                \n",
            " 17            [-1, 12]  1         0  ultralytics.nn.modules.conv.Concat           [1]                           \n",
            " 18                  -1  1    123648  ultralytics.nn.modules.block.C2f             [192, 128, 1]                 \n",
            " 19                  -1  1    147712  ultralytics.nn.modules.conv.Conv             [128, 128, 3, 2]              \n",
            " 20             [-1, 9]  1         0  ultralytics.nn.modules.conv.Concat           [1]                           \n",
            " 21                  -1  1    493056  ultralytics.nn.modules.block.C2f             [384, 256, 1]                 \n",
            " 22        [15, 18, 21]  1    751702  ultralytics.nn.modules.head.Detect           [2, [64, 128, 256]]           \n",
            "Model summary: 225 layers, 3011238 parameters, 3011222 gradients, 8.2 GFLOPs\n",
            "\n",
            "Transferred 319/355 items from pretrained weights\n",
            "\u001b[34m\u001b[1mTensorBoard: \u001b[0mStart with 'tensorboard --logdir runs/detect/train', view at http://localhost:6006/\n",
            "Freezing layer 'model.22.dfl.conv.weight'\n",
            "\u001b[34m\u001b[1mAMP: \u001b[0mrunning Automatic Mixed Precision (AMP) checks with YOLOv8n...\n",
            "\u001b[34m\u001b[1mAMP: \u001b[0mchecks passed ✅\n"
          ]
        },
        {
          "output_type": "stream",
          "name": "stderr",
          "text": [
            "\u001b[34m\u001b[1mtrain: \u001b[0mScanning /content/smart-poultry-farm-litter-raking-3/train/labels... 14184 images, 0 backgrounds, 0 corrupt: 100%|██████████| 14184/14184 [00:06<00:00, 2051.30it/s]\n"
          ]
        },
        {
          "output_type": "stream",
          "name": "stdout",
          "text": [
            "\u001b[34m\u001b[1mtrain: \u001b[0mNew cache created: /content/smart-poultry-farm-litter-raking-3/train/labels.cache\n",
            "WARNING ⚠️ Box and segment counts should be equal, but got len(segments) = 960, len(boxes) = 28695. To resolve this only boxes will be used and all segments will be removed. To avoid this please supply either a detect or segment dataset, not a detect-segment mixed dataset.\n",
            "\u001b[34m\u001b[1malbumentations: \u001b[0mBlur(p=0.01, blur_limit=(3, 7)), MedianBlur(p=0.01, blur_limit=(3, 7)), ToGray(p=0.01), CLAHE(p=0.01, clip_limit=(1, 4.0), tile_grid_size=(8, 8))\n"
          ]
        },
        {
          "output_type": "stream",
          "name": "stderr",
          "text": [
            "\u001b[34m\u001b[1mval: \u001b[0mScanning /content/smart-poultry-farm-litter-raking-3/valid/labels... 1181 images, 0 backgrounds, 0 corrupt: 100%|██████████| 1181/1181 [00:01<00:00, 947.71it/s]\n"
          ]
        },
        {
          "output_type": "stream",
          "name": "stdout",
          "text": [
            "\u001b[34m\u001b[1mval: \u001b[0mNew cache created: /content/smart-poultry-farm-litter-raking-3/valid/labels.cache\n",
            "Plotting labels to runs/detect/train/labels.jpg... \n",
            "\u001b[34m\u001b[1moptimizer:\u001b[0m 'optimizer=auto' found, ignoring 'lr0=0.01' and 'momentum=0.937' and determining best 'optimizer', 'lr0' and 'momentum' automatically... \n",
            "\u001b[34m\u001b[1moptimizer:\u001b[0m AdamW(lr=0.001667, momentum=0.9) with parameter groups 57 weight(decay=0.0), 64 weight(decay=0.000390625), 63 bias(decay=0.0)\n",
            "\u001b[34m\u001b[1mTensorBoard: \u001b[0mmodel graph visualization added ✅\n",
            "Image sizes 640 train, 640 val\n",
            "Using 2 dataloader workers\n",
            "Logging results to \u001b[1mruns/detect/train\u001b[0m\n",
            "Starting training for 25 epochs...\n",
            "\n",
            "      Epoch    GPU_mem   box_loss   cls_loss   dfl_loss  Instances       Size\n"
          ]
        },
        {
          "output_type": "stream",
          "name": "stderr",
          "text": [
            "       1/25      7.37G      1.493      1.858      1.609        145        640: 100%|██████████| 284/284 [04:48<00:00,  1.01s/it]\n",
            "                 Class     Images  Instances      Box(P          R      mAP50  mAP50-95): 100%|██████████| 12/12 [00:16<00:00,  1.37s/it]\n"
          ]
        },
        {
          "output_type": "stream",
          "name": "stdout",
          "text": [
            "                   all       1181       2223      0.742      0.653      0.713      0.311\n",
            "\n",
            "      Epoch    GPU_mem   box_loss   cls_loss   dfl_loss  Instances       Size\n"
          ]
        },
        {
          "output_type": "stream",
          "name": "stderr",
          "text": [
            "       2/25      6.82G      1.466      1.372      1.564        154        640: 100%|██████████| 284/284 [04:47<00:00,  1.01s/it]\n",
            "                 Class     Images  Instances      Box(P          R      mAP50  mAP50-95): 100%|██████████| 12/12 [00:14<00:00,  1.25s/it]\n"
          ]
        },
        {
          "output_type": "stream",
          "name": "stdout",
          "text": [
            "                   all       1181       2223      0.562       0.51      0.522      0.226\n",
            "\n",
            "      Epoch    GPU_mem   box_loss   cls_loss   dfl_loss  Instances       Size\n"
          ]
        },
        {
          "output_type": "stream",
          "name": "stderr",
          "text": [
            "       3/25       6.8G      1.467      1.294      1.561        131        640: 100%|██████████| 284/284 [04:48<00:00,  1.02s/it]\n",
            "                 Class     Images  Instances      Box(P          R      mAP50  mAP50-95): 100%|██████████| 12/12 [00:15<00:00,  1.33s/it]\n"
          ]
        },
        {
          "output_type": "stream",
          "name": "stdout",
          "text": [
            "                   all       1181       2223      0.699      0.487      0.544      0.265\n",
            "\n",
            "      Epoch    GPU_mem   box_loss   cls_loss   dfl_loss  Instances       Size\n"
          ]
        },
        {
          "output_type": "stream",
          "name": "stderr",
          "text": [
            "       4/25       6.8G      1.422      1.208      1.529         99        640: 100%|██████████| 284/284 [04:50<00:00,  1.02s/it]\n",
            "                 Class     Images  Instances      Box(P          R      mAP50  mAP50-95): 100%|██████████| 12/12 [00:14<00:00,  1.17s/it]"
          ]
        },
        {
          "output_type": "stream",
          "name": "stdout",
          "text": [
            "                   all       1181       2223      0.791      0.725      0.789      0.416\n"
          ]
        },
        {
          "output_type": "stream",
          "name": "stderr",
          "text": [
            "\n"
          ]
        },
        {
          "output_type": "stream",
          "name": "stdout",
          "text": [
            "\n",
            "      Epoch    GPU_mem   box_loss   cls_loss   dfl_loss  Instances       Size\n"
          ]
        },
        {
          "output_type": "stream",
          "name": "stderr",
          "text": [
            "       5/25      6.75G      1.366      1.116      1.487        131        640: 100%|██████████| 284/284 [04:52<00:00,  1.03s/it]\n",
            "                 Class     Images  Instances      Box(P          R      mAP50  mAP50-95): 100%|██████████| 12/12 [00:14<00:00,  1.23s/it]"
          ]
        },
        {
          "output_type": "stream",
          "name": "stdout",
          "text": [
            "                   all       1181       2223       0.78      0.762      0.803       0.42\n"
          ]
        },
        {
          "output_type": "stream",
          "name": "stderr",
          "text": [
            "\n"
          ]
        },
        {
          "output_type": "stream",
          "name": "stdout",
          "text": [
            "\n",
            "      Epoch    GPU_mem   box_loss   cls_loss   dfl_loss  Instances       Size\n"
          ]
        },
        {
          "output_type": "stream",
          "name": "stderr",
          "text": [
            "       6/25      6.81G      1.309      1.048      1.448        124        640: 100%|██████████| 284/284 [04:54<00:00,  1.04s/it]\n",
            "                 Class     Images  Instances      Box(P          R      mAP50  mAP50-95): 100%|██████████| 12/12 [00:16<00:00,  1.41s/it]\n"
          ]
        },
        {
          "output_type": "stream",
          "name": "stdout",
          "text": [
            "                   all       1181       2223      0.842      0.786      0.834      0.452\n",
            "\n",
            "      Epoch    GPU_mem   box_loss   cls_loss   dfl_loss  Instances       Size\n"
          ]
        },
        {
          "output_type": "stream",
          "name": "stderr",
          "text": [
            "       7/25      6.81G      1.274     0.9852      1.416        122        640: 100%|██████████| 284/284 [04:54<00:00,  1.04s/it]\n",
            "                 Class     Images  Instances      Box(P          R      mAP50  mAP50-95): 100%|██████████| 12/12 [00:14<00:00,  1.20s/it]"
          ]
        },
        {
          "output_type": "stream",
          "name": "stdout",
          "text": [
            "                   all       1181       2223      0.838      0.777      0.843      0.433\n"
          ]
        },
        {
          "output_type": "stream",
          "name": "stderr",
          "text": [
            "\n"
          ]
        },
        {
          "output_type": "stream",
          "name": "stdout",
          "text": [
            "\n",
            "      Epoch    GPU_mem   box_loss   cls_loss   dfl_loss  Instances       Size\n"
          ]
        },
        {
          "output_type": "stream",
          "name": "stderr",
          "text": [
            "       8/25      6.81G      1.236     0.9353      1.391        124        640: 100%|██████████| 284/284 [04:55<00:00,  1.04s/it]\n",
            "                 Class     Images  Instances      Box(P          R      mAP50  mAP50-95): 100%|██████████| 12/12 [00:14<00:00,  1.20s/it]"
          ]
        },
        {
          "output_type": "stream",
          "name": "stdout",
          "text": [
            "                   all       1181       2223      0.873       0.82      0.884      0.508\n"
          ]
        },
        {
          "output_type": "stream",
          "name": "stderr",
          "text": [
            "\n"
          ]
        },
        {
          "output_type": "stream",
          "name": "stdout",
          "text": [
            "\n",
            "      Epoch    GPU_mem   box_loss   cls_loss   dfl_loss  Instances       Size\n"
          ]
        },
        {
          "output_type": "stream",
          "name": "stderr",
          "text": [
            "       9/25      6.79G      1.204     0.8903      1.369        130        640: 100%|██████████| 284/284 [04:56<00:00,  1.04s/it]\n",
            "                 Class     Images  Instances      Box(P          R      mAP50  mAP50-95): 100%|██████████| 12/12 [00:15<00:00,  1.27s/it]"
          ]
        },
        {
          "output_type": "stream",
          "name": "stdout",
          "text": [
            "                   all       1181       2223      0.846       0.79      0.865      0.482\n"
          ]
        },
        {
          "output_type": "stream",
          "name": "stderr",
          "text": [
            "\n"
          ]
        },
        {
          "output_type": "stream",
          "name": "stdout",
          "text": [
            "\n",
            "      Epoch    GPU_mem   box_loss   cls_loss   dfl_loss  Instances       Size\n"
          ]
        },
        {
          "output_type": "stream",
          "name": "stderr",
          "text": [
            "      10/25      6.81G      1.186     0.8677      1.361        142        640: 100%|██████████| 284/284 [04:51<00:00,  1.03s/it]\n",
            "                 Class     Images  Instances      Box(P          R      mAP50  mAP50-95): 100%|██████████| 12/12 [00:16<00:00,  1.34s/it]"
          ]
        },
        {
          "output_type": "stream",
          "name": "stdout",
          "text": [
            "                   all       1181       2223       0.87      0.816       0.88      0.523\n"
          ]
        },
        {
          "output_type": "stream",
          "name": "stderr",
          "text": [
            "\n"
          ]
        },
        {
          "output_type": "stream",
          "name": "stdout",
          "text": [
            "\n",
            "      Epoch    GPU_mem   box_loss   cls_loss   dfl_loss  Instances       Size\n"
          ]
        },
        {
          "output_type": "stream",
          "name": "stderr",
          "text": [
            "      11/25      6.79G      1.157     0.8404      1.342        130        640: 100%|██████████| 284/284 [04:52<00:00,  1.03s/it]\n",
            "                 Class     Images  Instances      Box(P          R      mAP50  mAP50-95): 100%|██████████| 12/12 [00:14<00:00,  1.22s/it]"
          ]
        },
        {
          "output_type": "stream",
          "name": "stdout",
          "text": [
            "                   all       1181       2223      0.885       0.82       0.89      0.536\n"
          ]
        },
        {
          "output_type": "stream",
          "name": "stderr",
          "text": [
            "\n"
          ]
        },
        {
          "output_type": "stream",
          "name": "stdout",
          "text": [
            "\n",
            "      Epoch    GPU_mem   box_loss   cls_loss   dfl_loss  Instances       Size\n"
          ]
        },
        {
          "output_type": "stream",
          "name": "stderr",
          "text": [
            "      12/25      6.75G      1.139     0.8139      1.326        125        640: 100%|██████████| 284/284 [04:51<00:00,  1.03s/it]\n",
            "                 Class     Images  Instances      Box(P          R      mAP50  mAP50-95): 100%|██████████| 12/12 [00:15<00:00,  1.26s/it]"
          ]
        },
        {
          "output_type": "stream",
          "name": "stdout",
          "text": [
            "                   all       1181       2223      0.874      0.859      0.914      0.557\n"
          ]
        },
        {
          "output_type": "stream",
          "name": "stderr",
          "text": [
            "\n"
          ]
        },
        {
          "output_type": "stream",
          "name": "stdout",
          "text": [
            "\n",
            "      Epoch    GPU_mem   box_loss   cls_loss   dfl_loss  Instances       Size\n"
          ]
        },
        {
          "output_type": "stream",
          "name": "stderr",
          "text": [
            "      13/25      6.75G      1.121     0.7995      1.314        104        640: 100%|██████████| 284/284 [04:51<00:00,  1.03s/it]\n",
            "                 Class     Images  Instances      Box(P          R      mAP50  mAP50-95): 100%|██████████| 12/12 [00:15<00:00,  1.31s/it]"
          ]
        },
        {
          "output_type": "stream",
          "name": "stdout",
          "text": [
            "                   all       1181       2223       0.87      0.853      0.892      0.517\n"
          ]
        },
        {
          "output_type": "stream",
          "name": "stderr",
          "text": [
            "\n"
          ]
        },
        {
          "output_type": "stream",
          "name": "stdout",
          "text": [
            "\n",
            "      Epoch    GPU_mem   box_loss   cls_loss   dfl_loss  Instances       Size\n"
          ]
        },
        {
          "output_type": "stream",
          "name": "stderr",
          "text": [
            "      14/25      6.75G        1.1     0.7699      1.302        138        640: 100%|██████████| 284/284 [04:50<00:00,  1.02s/it]\n",
            "                 Class     Images  Instances      Box(P          R      mAP50  mAP50-95): 100%|██████████| 12/12 [00:14<00:00,  1.20s/it]"
          ]
        },
        {
          "output_type": "stream",
          "name": "stdout",
          "text": [
            "                   all       1181       2223      0.883      0.852        0.9      0.539\n"
          ]
        },
        {
          "output_type": "stream",
          "name": "stderr",
          "text": [
            "\n"
          ]
        },
        {
          "output_type": "stream",
          "name": "stdout",
          "text": [
            "\n",
            "      Epoch    GPU_mem   box_loss   cls_loss   dfl_loss  Instances       Size\n"
          ]
        },
        {
          "output_type": "stream",
          "name": "stderr",
          "text": [
            "      15/25      6.79G      1.081     0.7528      1.291        163        640: 100%|██████████| 284/284 [04:56<00:00,  1.04s/it]\n",
            "                 Class     Images  Instances      Box(P          R      mAP50  mAP50-95): 100%|██████████| 12/12 [00:13<00:00,  1.14s/it]"
          ]
        },
        {
          "output_type": "stream",
          "name": "stdout",
          "text": [
            "                   all       1181       2223      0.878      0.854      0.897       0.53\n"
          ]
        },
        {
          "output_type": "stream",
          "name": "stderr",
          "text": [
            "\n"
          ]
        },
        {
          "output_type": "stream",
          "name": "stdout",
          "text": [
            "Closing dataloader mosaic\n",
            "\u001b[34m\u001b[1malbumentations: \u001b[0mBlur(p=0.01, blur_limit=(3, 7)), MedianBlur(p=0.01, blur_limit=(3, 7)), ToGray(p=0.01), CLAHE(p=0.01, clip_limit=(1, 4.0), tile_grid_size=(8, 8))\n",
            "\n",
            "      Epoch    GPU_mem   box_loss   cls_loss   dfl_loss  Instances       Size\n"
          ]
        },
        {
          "output_type": "stream",
          "name": "stderr",
          "text": [
            "      16/25       6.7G      1.049     0.5689      1.313         66        640: 100%|██████████| 284/284 [04:37<00:00,  1.02it/s]\n",
            "                 Class     Images  Instances      Box(P          R      mAP50  mAP50-95): 100%|██████████| 12/12 [00:13<00:00,  1.15s/it]"
          ]
        },
        {
          "output_type": "stream",
          "name": "stdout",
          "text": [
            "                   all       1181       2223      0.889      0.861      0.898      0.548\n"
          ]
        },
        {
          "output_type": "stream",
          "name": "stderr",
          "text": [
            "\n"
          ]
        },
        {
          "output_type": "stream",
          "name": "stdout",
          "text": [
            "\n",
            "      Epoch    GPU_mem   box_loss   cls_loss   dfl_loss  Instances       Size\n"
          ]
        },
        {
          "output_type": "stream",
          "name": "stderr",
          "text": [
            "      17/25       6.7G      1.008     0.5395      1.285         69        640: 100%|██████████| 284/284 [04:30<00:00,  1.05it/s]\n",
            "                 Class     Images  Instances      Box(P          R      mAP50  mAP50-95): 100%|██████████| 12/12 [00:13<00:00,  1.11s/it]"
          ]
        },
        {
          "output_type": "stream",
          "name": "stdout",
          "text": [
            "                   all       1181       2223      0.889      0.877      0.908      0.569\n"
          ]
        },
        {
          "output_type": "stream",
          "name": "stderr",
          "text": [
            "\n"
          ]
        },
        {
          "output_type": "stream",
          "name": "stdout",
          "text": [
            "\n",
            "      Epoch    GPU_mem   box_loss   cls_loss   dfl_loss  Instances       Size\n"
          ]
        },
        {
          "output_type": "stream",
          "name": "stderr",
          "text": [
            "      18/25       6.7G     0.9835     0.5159      1.264         67        640: 100%|██████████| 284/284 [04:26<00:00,  1.06it/s]\n",
            "                 Class     Images  Instances      Box(P          R      mAP50  mAP50-95): 100%|██████████| 12/12 [00:13<00:00,  1.13s/it]"
          ]
        },
        {
          "output_type": "stream",
          "name": "stdout",
          "text": [
            "                   all       1181       2223      0.887      0.864      0.907      0.562\n"
          ]
        },
        {
          "output_type": "stream",
          "name": "stderr",
          "text": [
            "\n"
          ]
        },
        {
          "output_type": "stream",
          "name": "stdout",
          "text": [
            "\n",
            "      Epoch    GPU_mem   box_loss   cls_loss   dfl_loss  Instances       Size\n"
          ]
        },
        {
          "output_type": "stream",
          "name": "stderr",
          "text": [
            "      19/25       6.7G     0.9531     0.4955      1.242         65        640: 100%|██████████| 284/284 [04:22<00:00,  1.08it/s]\n",
            "                 Class     Images  Instances      Box(P          R      mAP50  mAP50-95): 100%|██████████| 12/12 [00:13<00:00,  1.16s/it]"
          ]
        },
        {
          "output_type": "stream",
          "name": "stdout",
          "text": [
            "                   all       1181       2223      0.906      0.865      0.917      0.581\n"
          ]
        },
        {
          "output_type": "stream",
          "name": "stderr",
          "text": [
            "\n"
          ]
        },
        {
          "output_type": "stream",
          "name": "stdout",
          "text": [
            "\n",
            "      Epoch    GPU_mem   box_loss   cls_loss   dfl_loss  Instances       Size\n"
          ]
        },
        {
          "output_type": "stream",
          "name": "stderr",
          "text": [
            "      20/25       6.7G     0.9309     0.4841      1.226         75        640: 100%|██████████| 284/284 [04:24<00:00,  1.07it/s]\n",
            "                 Class     Images  Instances      Box(P          R      mAP50  mAP50-95): 100%|██████████| 12/12 [00:13<00:00,  1.10s/it]"
          ]
        },
        {
          "output_type": "stream",
          "name": "stdout",
          "text": [
            "                   all       1181       2223       0.91      0.875      0.918      0.575\n"
          ]
        },
        {
          "output_type": "stream",
          "name": "stderr",
          "text": [
            "\n"
          ]
        },
        {
          "output_type": "stream",
          "name": "stdout",
          "text": [
            "\n",
            "      Epoch    GPU_mem   box_loss   cls_loss   dfl_loss  Instances       Size\n"
          ]
        },
        {
          "output_type": "stream",
          "name": "stderr",
          "text": [
            "      21/25       6.7G     0.9105     0.4664      1.217         73        640: 100%|██████████| 284/284 [04:23<00:00,  1.08it/s]\n",
            "                 Class     Images  Instances      Box(P          R      mAP50  mAP50-95): 100%|██████████| 12/12 [00:13<00:00,  1.15s/it]"
          ]
        },
        {
          "output_type": "stream",
          "name": "stdout",
          "text": [
            "                   all       1181       2223      0.904       0.86      0.908      0.566\n"
          ]
        },
        {
          "output_type": "stream",
          "name": "stderr",
          "text": [
            "\n"
          ]
        },
        {
          "output_type": "stream",
          "name": "stdout",
          "text": [
            "\n",
            "      Epoch    GPU_mem   box_loss   cls_loss   dfl_loss  Instances       Size\n"
          ]
        },
        {
          "output_type": "stream",
          "name": "stderr",
          "text": [
            "      22/25       6.7G     0.8866     0.4517        1.2         72        640: 100%|██████████| 284/284 [04:24<00:00,  1.07it/s]\n",
            "                 Class     Images  Instances      Box(P          R      mAP50  mAP50-95): 100%|██████████| 12/12 [00:13<00:00,  1.14s/it]"
          ]
        },
        {
          "output_type": "stream",
          "name": "stdout",
          "text": [
            "                   all       1181       2223      0.907      0.863      0.909      0.574\n"
          ]
        },
        {
          "output_type": "stream",
          "name": "stderr",
          "text": [
            "\n"
          ]
        },
        {
          "output_type": "stream",
          "name": "stdout",
          "text": [
            "\n",
            "      Epoch    GPU_mem   box_loss   cls_loss   dfl_loss  Instances       Size\n"
          ]
        },
        {
          "output_type": "stream",
          "name": "stderr",
          "text": [
            "      23/25       6.7G     0.8673     0.4396      1.185         66        640: 100%|██████████| 284/284 [04:24<00:00,  1.07it/s]\n",
            "                 Class     Images  Instances      Box(P          R      mAP50  mAP50-95): 100%|██████████| 12/12 [00:14<00:00,  1.17s/it]"
          ]
        },
        {
          "output_type": "stream",
          "name": "stdout",
          "text": [
            "                   all       1181       2223      0.903      0.861      0.909      0.571\n"
          ]
        },
        {
          "output_type": "stream",
          "name": "stderr",
          "text": [
            "\n"
          ]
        },
        {
          "output_type": "stream",
          "name": "stdout",
          "text": [
            "\n",
            "      Epoch    GPU_mem   box_loss   cls_loss   dfl_loss  Instances       Size\n"
          ]
        },
        {
          "output_type": "stream",
          "name": "stderr",
          "text": [
            "      24/25       6.7G     0.8492     0.4284      1.174         71        640: 100%|██████████| 284/284 [04:24<00:00,  1.07it/s]\n",
            "                 Class     Images  Instances      Box(P          R      mAP50  mAP50-95): 100%|██████████| 12/12 [00:13<00:00,  1.10s/it]"
          ]
        },
        {
          "output_type": "stream",
          "name": "stdout",
          "text": [
            "                   all       1181       2223      0.897      0.875      0.915      0.587\n"
          ]
        },
        {
          "output_type": "stream",
          "name": "stderr",
          "text": [
            "\n"
          ]
        },
        {
          "output_type": "stream",
          "name": "stdout",
          "text": [
            "\n",
            "      Epoch    GPU_mem   box_loss   cls_loss   dfl_loss  Instances       Size\n"
          ]
        },
        {
          "output_type": "stream",
          "name": "stderr",
          "text": [
            "      25/25       6.7G     0.8261     0.4169      1.159         73        640: 100%|██████████| 284/284 [04:23<00:00,  1.08it/s]\n",
            "                 Class     Images  Instances      Box(P          R      mAP50  mAP50-95): 100%|██████████| 12/12 [00:13<00:00,  1.14s/it]"
          ]
        },
        {
          "output_type": "stream",
          "name": "stdout",
          "text": [
            "                   all       1181       2223      0.905      0.877      0.917      0.582\n"
          ]
        },
        {
          "output_type": "stream",
          "name": "stderr",
          "text": [
            "\n"
          ]
        },
        {
          "output_type": "stream",
          "name": "stdout",
          "text": [
            "\n",
            "25 epochs completed in 2.068 hours.\n",
            "Optimizer stripped from runs/detect/train/weights/last.pt, 6.2MB\n",
            "Optimizer stripped from runs/detect/train/weights/best.pt, 6.2MB\n",
            "\n",
            "Validating runs/detect/train/weights/best.pt...\n",
            "Ultralytics YOLOv8.1.37 🚀 Python-3.10.12 torch-2.2.1+cu121 CUDA:0 (Tesla T4, 15102MiB)\n",
            "Model summary (fused): 168 layers, 3006038 parameters, 0 gradients, 8.1 GFLOPs\n"
          ]
        },
        {
          "output_type": "stream",
          "name": "stderr",
          "text": [
            "                 Class     Images  Instances      Box(P          R      mAP50  mAP50-95): 100%|██████████| 12/12 [00:18<00:00,  1.53s/it]\n"
          ]
        },
        {
          "output_type": "stream",
          "name": "stdout",
          "text": [
            "                   all       1181       2223      0.897      0.876      0.915      0.587\n",
            "                 human       1181       1089      0.877      0.925      0.921       0.63\n",
            "               machine       1181       1134      0.917      0.827      0.908      0.543\n",
            "Speed: 0.2ms preprocess, 2.4ms inference, 0.0ms loss, 3.2ms postprocess per image\n",
            "Results saved to \u001b[1mruns/detect/train\u001b[0m\n"
          ]
        }
      ]
    },
    {
      "cell_type": "code",
      "source": [
        "import torch\n",
        "from ultralytics import YOLO"
      ],
      "metadata": {
        "id": "_EIsVU7O-xdS"
      },
      "execution_count": 4,
      "outputs": []
    },
    {
      "cell_type": "code",
      "source": [
        "model = YOLO(\"/content/drive/MyDrive/best.pt\")"
      ],
      "metadata": {
        "id": "FMp2zSm2_SOR"
      },
      "execution_count": 19,
      "outputs": []
    },
    {
      "cell_type": "code",
      "source": [
        "val_results = model.val(\n",
        "\n",
        "    data='/content/smart-poultry-farm-litter-raking-3/data.yaml',\n",
        "\n",
        "    imgsz=640,\n",
        "\n",
        "    device='cuda' if torch.cuda.is_available() else 'cpu',\n",
        "\n",
        ")"
      ],
      "metadata": {
        "colab": {
          "base_uri": "https://localhost:8080/"
        },
        "id": "EHm3wC5-Aosc",
        "outputId": "83144590-b9ea-4167-80cb-19d162449a64"
      },
      "execution_count": 14,
      "outputs": [
        {
          "output_type": "stream",
          "name": "stdout",
          "text": [
            "Ultralytics YOLOv8.1.40 🚀 Python-3.10.12 torch-2.2.1+cu121 CUDA:0 (Tesla T4, 15102MiB)\n",
            "Model summary (fused): 168 layers, 3006038 parameters, 0 gradients, 8.1 GFLOPs\n",
            "Downloading https://ultralytics.com/assets/Arial.ttf to '/root/.config/Ultralytics/Arial.ttf'...\n"
          ]
        },
        {
          "output_type": "stream",
          "name": "stderr",
          "text": [
            "100%|██████████| 755k/755k [00:00<00:00, 16.7MB/s]\n",
            "\u001b[34m\u001b[1mval: \u001b[0mScanning /content/smart-poultry-farm-litter-raking-3/valid/labels... 1181 images, 0 backgrounds, 0 corrupt: 100%|██████████| 1181/1181 [00:00<00:00, 1710.34it/s]\n"
          ]
        },
        {
          "output_type": "stream",
          "name": "stdout",
          "text": [
            "\u001b[34m\u001b[1mval: \u001b[0mNew cache created: /content/smart-poultry-farm-litter-raking-3/valid/labels.cache\n"
          ]
        },
        {
          "output_type": "stream",
          "name": "stderr",
          "text": [
            "                 Class     Images  Instances      Box(P          R      mAP50  mAP50-95): 100%|██████████| 74/74 [00:17<00:00,  4.15it/s]\n"
          ]
        },
        {
          "output_type": "stream",
          "name": "stdout",
          "text": [
            "                   all       1181       2223      0.897      0.875      0.915      0.587\n",
            "                 human       1181       1089      0.878      0.925      0.922       0.63\n",
            "               machine       1181       1134      0.917      0.825      0.908      0.543\n",
            "Speed: 0.7ms preprocess, 4.2ms inference, 0.0ms loss, 2.2ms postprocess per image\n",
            "Results saved to \u001b[1mruns/detect/val\u001b[0m\n"
          ]
        }
      ]
    },
    {
      "cell_type": "code",
      "source": [
        "print(\"Validation Results:\")\n",
        "\n",
        "print(val_results)"
      ],
      "metadata": {
        "colab": {
          "base_uri": "https://localhost:8080/"
        },
        "id": "qfbrT0qvBNQp",
        "outputId": "363aadd9-b597-4037-f183-bcd17df3e795"
      },
      "execution_count": 15,
      "outputs": [
        {
          "output_type": "stream",
          "name": "stdout",
          "text": [
            "Validation Results:\n",
            "ultralytics.utils.metrics.DetMetrics object with attributes:\n",
            "\n",
            "ap_class_index: array([0, 1])\n",
            "box: ultralytics.utils.metrics.Metric object\n",
            "confusion_matrix: <ultralytics.utils.metrics.ConfusionMatrix object at 0x7e3974620160>\n",
            "curves: ['Precision-Recall(B)', 'F1-Confidence(B)', 'Precision-Confidence(B)', 'Recall-Confidence(B)']\n",
            "curves_results: [[array([          0,    0.001001,    0.002002,    0.003003,    0.004004,    0.005005,    0.006006,    0.007007,    0.008008,    0.009009,     0.01001,    0.011011,    0.012012,    0.013013,    0.014014,    0.015015,    0.016016,    0.017017,    0.018018,    0.019019,     0.02002,    0.021021,    0.022022,    0.023023,\n",
            "          0.024024,    0.025025,    0.026026,    0.027027,    0.028028,    0.029029,     0.03003,    0.031031,    0.032032,    0.033033,    0.034034,    0.035035,    0.036036,    0.037037,    0.038038,    0.039039,     0.04004,    0.041041,    0.042042,    0.043043,    0.044044,    0.045045,    0.046046,    0.047047,\n",
            "          0.048048,    0.049049,     0.05005,    0.051051,    0.052052,    0.053053,    0.054054,    0.055055,    0.056056,    0.057057,    0.058058,    0.059059,     0.06006,    0.061061,    0.062062,    0.063063,    0.064064,    0.065065,    0.066066,    0.067067,    0.068068,    0.069069,     0.07007,    0.071071,\n",
            "          0.072072,    0.073073,    0.074074,    0.075075,    0.076076,    0.077077,    0.078078,    0.079079,     0.08008,    0.081081,    0.082082,    0.083083,    0.084084,    0.085085,    0.086086,    0.087087,    0.088088,    0.089089,     0.09009,    0.091091,    0.092092,    0.093093,    0.094094,    0.095095,\n",
            "          0.096096,    0.097097,    0.098098,    0.099099,      0.1001,      0.1011,      0.1021,      0.1031,      0.1041,     0.10511,     0.10611,     0.10711,     0.10811,     0.10911,     0.11011,     0.11111,     0.11211,     0.11311,     0.11411,     0.11512,     0.11612,     0.11712,     0.11812,     0.11912,\n",
            "           0.12012,     0.12112,     0.12212,     0.12312,     0.12412,     0.12513,     0.12613,     0.12713,     0.12813,     0.12913,     0.13013,     0.13113,     0.13213,     0.13313,     0.13413,     0.13514,     0.13614,     0.13714,     0.13814,     0.13914,     0.14014,     0.14114,     0.14214,     0.14314,\n",
            "           0.14414,     0.14515,     0.14615,     0.14715,     0.14815,     0.14915,     0.15015,     0.15115,     0.15215,     0.15315,     0.15415,     0.15516,     0.15616,     0.15716,     0.15816,     0.15916,     0.16016,     0.16116,     0.16216,     0.16316,     0.16416,     0.16517,     0.16617,     0.16717,\n",
            "           0.16817,     0.16917,     0.17017,     0.17117,     0.17217,     0.17317,     0.17417,     0.17518,     0.17618,     0.17718,     0.17818,     0.17918,     0.18018,     0.18118,     0.18218,     0.18318,     0.18418,     0.18519,     0.18619,     0.18719,     0.18819,     0.18919,     0.19019,     0.19119,\n",
            "           0.19219,     0.19319,     0.19419,      0.1952,      0.1962,      0.1972,      0.1982,      0.1992,      0.2002,      0.2012,      0.2022,      0.2032,      0.2042,     0.20521,     0.20621,     0.20721,     0.20821,     0.20921,     0.21021,     0.21121,     0.21221,     0.21321,     0.21421,     0.21522,\n",
            "           0.21622,     0.21722,     0.21822,     0.21922,     0.22022,     0.22122,     0.22222,     0.22322,     0.22422,     0.22523,     0.22623,     0.22723,     0.22823,     0.22923,     0.23023,     0.23123,     0.23223,     0.23323,     0.23423,     0.23524,     0.23624,     0.23724,     0.23824,     0.23924,\n",
            "           0.24024,     0.24124,     0.24224,     0.24324,     0.24424,     0.24525,     0.24625,     0.24725,     0.24825,     0.24925,     0.25025,     0.25125,     0.25225,     0.25325,     0.25425,     0.25526,     0.25626,     0.25726,     0.25826,     0.25926,     0.26026,     0.26126,     0.26226,     0.26326,\n",
            "           0.26426,     0.26527,     0.26627,     0.26727,     0.26827,     0.26927,     0.27027,     0.27127,     0.27227,     0.27327,     0.27427,     0.27528,     0.27628,     0.27728,     0.27828,     0.27928,     0.28028,     0.28128,     0.28228,     0.28328,     0.28428,     0.28529,     0.28629,     0.28729,\n",
            "           0.28829,     0.28929,     0.29029,     0.29129,     0.29229,     0.29329,     0.29429,      0.2953,      0.2963,      0.2973,      0.2983,      0.2993,      0.3003,      0.3013,      0.3023,      0.3033,      0.3043,     0.30531,     0.30631,     0.30731,     0.30831,     0.30931,     0.31031,     0.31131,\n",
            "           0.31231,     0.31331,     0.31431,     0.31532,     0.31632,     0.31732,     0.31832,     0.31932,     0.32032,     0.32132,     0.32232,     0.32332,     0.32432,     0.32533,     0.32633,     0.32733,     0.32833,     0.32933,     0.33033,     0.33133,     0.33233,     0.33333,     0.33433,     0.33534,\n",
            "           0.33634,     0.33734,     0.33834,     0.33934,     0.34034,     0.34134,     0.34234,     0.34334,     0.34434,     0.34535,     0.34635,     0.34735,     0.34835,     0.34935,     0.35035,     0.35135,     0.35235,     0.35335,     0.35435,     0.35536,     0.35636,     0.35736,     0.35836,     0.35936,\n",
            "           0.36036,     0.36136,     0.36236,     0.36336,     0.36436,     0.36537,     0.36637,     0.36737,     0.36837,     0.36937,     0.37037,     0.37137,     0.37237,     0.37337,     0.37437,     0.37538,     0.37638,     0.37738,     0.37838,     0.37938,     0.38038,     0.38138,     0.38238,     0.38338,\n",
            "           0.38438,     0.38539,     0.38639,     0.38739,     0.38839,     0.38939,     0.39039,     0.39139,     0.39239,     0.39339,     0.39439,      0.3954,      0.3964,      0.3974,      0.3984,      0.3994,      0.4004,      0.4014,      0.4024,      0.4034,      0.4044,     0.40541,     0.40641,     0.40741,\n",
            "           0.40841,     0.40941,     0.41041,     0.41141,     0.41241,     0.41341,     0.41441,     0.41542,     0.41642,     0.41742,     0.41842,     0.41942,     0.42042,     0.42142,     0.42242,     0.42342,     0.42442,     0.42543,     0.42643,     0.42743,     0.42843,     0.42943,     0.43043,     0.43143,\n",
            "           0.43243,     0.43343,     0.43443,     0.43544,     0.43644,     0.43744,     0.43844,     0.43944,     0.44044,     0.44144,     0.44244,     0.44344,     0.44444,     0.44545,     0.44645,     0.44745,     0.44845,     0.44945,     0.45045,     0.45145,     0.45245,     0.45345,     0.45445,     0.45546,\n",
            "           0.45646,     0.45746,     0.45846,     0.45946,     0.46046,     0.46146,     0.46246,     0.46346,     0.46446,     0.46547,     0.46647,     0.46747,     0.46847,     0.46947,     0.47047,     0.47147,     0.47247,     0.47347,     0.47447,     0.47548,     0.47648,     0.47748,     0.47848,     0.47948,\n",
            "           0.48048,     0.48148,     0.48248,     0.48348,     0.48448,     0.48549,     0.48649,     0.48749,     0.48849,     0.48949,     0.49049,     0.49149,     0.49249,     0.49349,     0.49449,      0.4955,      0.4965,      0.4975,      0.4985,      0.4995,      0.5005,      0.5015,      0.5025,      0.5035,\n",
            "            0.5045,     0.50551,     0.50651,     0.50751,     0.50851,     0.50951,     0.51051,     0.51151,     0.51251,     0.51351,     0.51451,     0.51552,     0.51652,     0.51752,     0.51852,     0.51952,     0.52052,     0.52152,     0.52252,     0.52352,     0.52452,     0.52553,     0.52653,     0.52753,\n",
            "           0.52853,     0.52953,     0.53053,     0.53153,     0.53253,     0.53353,     0.53453,     0.53554,     0.53654,     0.53754,     0.53854,     0.53954,     0.54054,     0.54154,     0.54254,     0.54354,     0.54454,     0.54555,     0.54655,     0.54755,     0.54855,     0.54955,     0.55055,     0.55155,\n",
            "           0.55255,     0.55355,     0.55455,     0.55556,     0.55656,     0.55756,     0.55856,     0.55956,     0.56056,     0.56156,     0.56256,     0.56356,     0.56456,     0.56557,     0.56657,     0.56757,     0.56857,     0.56957,     0.57057,     0.57157,     0.57257,     0.57357,     0.57457,     0.57558,\n",
            "           0.57658,     0.57758,     0.57858,     0.57958,     0.58058,     0.58158,     0.58258,     0.58358,     0.58458,     0.58559,     0.58659,     0.58759,     0.58859,     0.58959,     0.59059,     0.59159,     0.59259,     0.59359,     0.59459,      0.5956,      0.5966,      0.5976,      0.5986,      0.5996,\n",
            "            0.6006,      0.6016,      0.6026,      0.6036,      0.6046,     0.60561,     0.60661,     0.60761,     0.60861,     0.60961,     0.61061,     0.61161,     0.61261,     0.61361,     0.61461,     0.61562,     0.61662,     0.61762,     0.61862,     0.61962,     0.62062,     0.62162,     0.62262,     0.62362,\n",
            "           0.62462,     0.62563,     0.62663,     0.62763,     0.62863,     0.62963,     0.63063,     0.63163,     0.63263,     0.63363,     0.63463,     0.63564,     0.63664,     0.63764,     0.63864,     0.63964,     0.64064,     0.64164,     0.64264,     0.64364,     0.64464,     0.64565,     0.64665,     0.64765,\n",
            "           0.64865,     0.64965,     0.65065,     0.65165,     0.65265,     0.65365,     0.65465,     0.65566,     0.65666,     0.65766,     0.65866,     0.65966,     0.66066,     0.66166,     0.66266,     0.66366,     0.66466,     0.66567,     0.66667,     0.66767,     0.66867,     0.66967,     0.67067,     0.67167,\n",
            "           0.67267,     0.67367,     0.67467,     0.67568,     0.67668,     0.67768,     0.67868,     0.67968,     0.68068,     0.68168,     0.68268,     0.68368,     0.68468,     0.68569,     0.68669,     0.68769,     0.68869,     0.68969,     0.69069,     0.69169,     0.69269,     0.69369,     0.69469,      0.6957,\n",
            "            0.6967,      0.6977,      0.6987,      0.6997,      0.7007,      0.7017,      0.7027,      0.7037,      0.7047,     0.70571,     0.70671,     0.70771,     0.70871,     0.70971,     0.71071,     0.71171,     0.71271,     0.71371,     0.71471,     0.71572,     0.71672,     0.71772,     0.71872,     0.71972,\n",
            "           0.72072,     0.72172,     0.72272,     0.72372,     0.72472,     0.72573,     0.72673,     0.72773,     0.72873,     0.72973,     0.73073,     0.73173,     0.73273,     0.73373,     0.73473,     0.73574,     0.73674,     0.73774,     0.73874,     0.73974,     0.74074,     0.74174,     0.74274,     0.74374,\n",
            "           0.74474,     0.74575,     0.74675,     0.74775,     0.74875,     0.74975,     0.75075,     0.75175,     0.75275,     0.75375,     0.75475,     0.75576,     0.75676,     0.75776,     0.75876,     0.75976,     0.76076,     0.76176,     0.76276,     0.76376,     0.76476,     0.76577,     0.76677,     0.76777,\n",
            "           0.76877,     0.76977,     0.77077,     0.77177,     0.77277,     0.77377,     0.77477,     0.77578,     0.77678,     0.77778,     0.77878,     0.77978,     0.78078,     0.78178,     0.78278,     0.78378,     0.78478,     0.78579,     0.78679,     0.78779,     0.78879,     0.78979,     0.79079,     0.79179,\n",
            "           0.79279,     0.79379,     0.79479,      0.7958,      0.7968,      0.7978,      0.7988,      0.7998,      0.8008,      0.8018,      0.8028,      0.8038,      0.8048,     0.80581,     0.80681,     0.80781,     0.80881,     0.80981,     0.81081,     0.81181,     0.81281,     0.81381,     0.81481,     0.81582,\n",
            "           0.81682,     0.81782,     0.81882,     0.81982,     0.82082,     0.82182,     0.82282,     0.82382,     0.82482,     0.82583,     0.82683,     0.82783,     0.82883,     0.82983,     0.83083,     0.83183,     0.83283,     0.83383,     0.83483,     0.83584,     0.83684,     0.83784,     0.83884,     0.83984,\n",
            "           0.84084,     0.84184,     0.84284,     0.84384,     0.84484,     0.84585,     0.84685,     0.84785,     0.84885,     0.84985,     0.85085,     0.85185,     0.85285,     0.85385,     0.85485,     0.85586,     0.85686,     0.85786,     0.85886,     0.85986,     0.86086,     0.86186,     0.86286,     0.86386,\n",
            "           0.86486,     0.86587,     0.86687,     0.86787,     0.86887,     0.86987,     0.87087,     0.87187,     0.87287,     0.87387,     0.87487,     0.87588,     0.87688,     0.87788,     0.87888,     0.87988,     0.88088,     0.88188,     0.88288,     0.88388,     0.88488,     0.88589,     0.88689,     0.88789,\n",
            "           0.88889,     0.88989,     0.89089,     0.89189,     0.89289,     0.89389,     0.89489,      0.8959,      0.8969,      0.8979,      0.8989,      0.8999,      0.9009,      0.9019,      0.9029,      0.9039,      0.9049,     0.90591,     0.90691,     0.90791,     0.90891,     0.90991,     0.91091,     0.91191,\n",
            "           0.91291,     0.91391,     0.91491,     0.91592,     0.91692,     0.91792,     0.91892,     0.91992,     0.92092,     0.92192,     0.92292,     0.92392,     0.92492,     0.92593,     0.92693,     0.92793,     0.92893,     0.92993,     0.93093,     0.93193,     0.93293,     0.93393,     0.93493,     0.93594,\n",
            "           0.93694,     0.93794,     0.93894,     0.93994,     0.94094,     0.94194,     0.94294,     0.94394,     0.94494,     0.94595,     0.94695,     0.94795,     0.94895,     0.94995,     0.95095,     0.95195,     0.95295,     0.95395,     0.95495,     0.95596,     0.95696,     0.95796,     0.95896,     0.95996,\n",
            "           0.96096,     0.96196,     0.96296,     0.96396,     0.96496,     0.96597,     0.96697,     0.96797,     0.96897,     0.96997,     0.97097,     0.97197,     0.97297,     0.97397,     0.97497,     0.97598,     0.97698,     0.97798,     0.97898,     0.97998,     0.98098,     0.98198,     0.98298,     0.98398,\n",
            "           0.98498,     0.98599,     0.98699,     0.98799,     0.98899,     0.98999,     0.99099,     0.99199,     0.99299,     0.99399,     0.99499,       0.996,       0.997,       0.998,       0.999,           1]), array([[          1,           1,     0.98148, ...,    0.016298,   0.0081491,           0],\n",
            "       [          1,           1,           1, ...,   0.0097342,   0.0048671,           0]]), 'Recall', 'Precision'], [array([          0,    0.001001,    0.002002,    0.003003,    0.004004,    0.005005,    0.006006,    0.007007,    0.008008,    0.009009,     0.01001,    0.011011,    0.012012,    0.013013,    0.014014,    0.015015,    0.016016,    0.017017,    0.018018,    0.019019,     0.02002,    0.021021,    0.022022,    0.023023,\n",
            "          0.024024,    0.025025,    0.026026,    0.027027,    0.028028,    0.029029,     0.03003,    0.031031,    0.032032,    0.033033,    0.034034,    0.035035,    0.036036,    0.037037,    0.038038,    0.039039,     0.04004,    0.041041,    0.042042,    0.043043,    0.044044,    0.045045,    0.046046,    0.047047,\n",
            "          0.048048,    0.049049,     0.05005,    0.051051,    0.052052,    0.053053,    0.054054,    0.055055,    0.056056,    0.057057,    0.058058,    0.059059,     0.06006,    0.061061,    0.062062,    0.063063,    0.064064,    0.065065,    0.066066,    0.067067,    0.068068,    0.069069,     0.07007,    0.071071,\n",
            "          0.072072,    0.073073,    0.074074,    0.075075,    0.076076,    0.077077,    0.078078,    0.079079,     0.08008,    0.081081,    0.082082,    0.083083,    0.084084,    0.085085,    0.086086,    0.087087,    0.088088,    0.089089,     0.09009,    0.091091,    0.092092,    0.093093,    0.094094,    0.095095,\n",
            "          0.096096,    0.097097,    0.098098,    0.099099,      0.1001,      0.1011,      0.1021,      0.1031,      0.1041,     0.10511,     0.10611,     0.10711,     0.10811,     0.10911,     0.11011,     0.11111,     0.11211,     0.11311,     0.11411,     0.11512,     0.11612,     0.11712,     0.11812,     0.11912,\n",
            "           0.12012,     0.12112,     0.12212,     0.12312,     0.12412,     0.12513,     0.12613,     0.12713,     0.12813,     0.12913,     0.13013,     0.13113,     0.13213,     0.13313,     0.13413,     0.13514,     0.13614,     0.13714,     0.13814,     0.13914,     0.14014,     0.14114,     0.14214,     0.14314,\n",
            "           0.14414,     0.14515,     0.14615,     0.14715,     0.14815,     0.14915,     0.15015,     0.15115,     0.15215,     0.15315,     0.15415,     0.15516,     0.15616,     0.15716,     0.15816,     0.15916,     0.16016,     0.16116,     0.16216,     0.16316,     0.16416,     0.16517,     0.16617,     0.16717,\n",
            "           0.16817,     0.16917,     0.17017,     0.17117,     0.17217,     0.17317,     0.17417,     0.17518,     0.17618,     0.17718,     0.17818,     0.17918,     0.18018,     0.18118,     0.18218,     0.18318,     0.18418,     0.18519,     0.18619,     0.18719,     0.18819,     0.18919,     0.19019,     0.19119,\n",
            "           0.19219,     0.19319,     0.19419,      0.1952,      0.1962,      0.1972,      0.1982,      0.1992,      0.2002,      0.2012,      0.2022,      0.2032,      0.2042,     0.20521,     0.20621,     0.20721,     0.20821,     0.20921,     0.21021,     0.21121,     0.21221,     0.21321,     0.21421,     0.21522,\n",
            "           0.21622,     0.21722,     0.21822,     0.21922,     0.22022,     0.22122,     0.22222,     0.22322,     0.22422,     0.22523,     0.22623,     0.22723,     0.22823,     0.22923,     0.23023,     0.23123,     0.23223,     0.23323,     0.23423,     0.23524,     0.23624,     0.23724,     0.23824,     0.23924,\n",
            "           0.24024,     0.24124,     0.24224,     0.24324,     0.24424,     0.24525,     0.24625,     0.24725,     0.24825,     0.24925,     0.25025,     0.25125,     0.25225,     0.25325,     0.25425,     0.25526,     0.25626,     0.25726,     0.25826,     0.25926,     0.26026,     0.26126,     0.26226,     0.26326,\n",
            "           0.26426,     0.26527,     0.26627,     0.26727,     0.26827,     0.26927,     0.27027,     0.27127,     0.27227,     0.27327,     0.27427,     0.27528,     0.27628,     0.27728,     0.27828,     0.27928,     0.28028,     0.28128,     0.28228,     0.28328,     0.28428,     0.28529,     0.28629,     0.28729,\n",
            "           0.28829,     0.28929,     0.29029,     0.29129,     0.29229,     0.29329,     0.29429,      0.2953,      0.2963,      0.2973,      0.2983,      0.2993,      0.3003,      0.3013,      0.3023,      0.3033,      0.3043,     0.30531,     0.30631,     0.30731,     0.30831,     0.30931,     0.31031,     0.31131,\n",
            "           0.31231,     0.31331,     0.31431,     0.31532,     0.31632,     0.31732,     0.31832,     0.31932,     0.32032,     0.32132,     0.32232,     0.32332,     0.32432,     0.32533,     0.32633,     0.32733,     0.32833,     0.32933,     0.33033,     0.33133,     0.33233,     0.33333,     0.33433,     0.33534,\n",
            "           0.33634,     0.33734,     0.33834,     0.33934,     0.34034,     0.34134,     0.34234,     0.34334,     0.34434,     0.34535,     0.34635,     0.34735,     0.34835,     0.34935,     0.35035,     0.35135,     0.35235,     0.35335,     0.35435,     0.35536,     0.35636,     0.35736,     0.35836,     0.35936,\n",
            "           0.36036,     0.36136,     0.36236,     0.36336,     0.36436,     0.36537,     0.36637,     0.36737,     0.36837,     0.36937,     0.37037,     0.37137,     0.37237,     0.37337,     0.37437,     0.37538,     0.37638,     0.37738,     0.37838,     0.37938,     0.38038,     0.38138,     0.38238,     0.38338,\n",
            "           0.38438,     0.38539,     0.38639,     0.38739,     0.38839,     0.38939,     0.39039,     0.39139,     0.39239,     0.39339,     0.39439,      0.3954,      0.3964,      0.3974,      0.3984,      0.3994,      0.4004,      0.4014,      0.4024,      0.4034,      0.4044,     0.40541,     0.40641,     0.40741,\n",
            "           0.40841,     0.40941,     0.41041,     0.41141,     0.41241,     0.41341,     0.41441,     0.41542,     0.41642,     0.41742,     0.41842,     0.41942,     0.42042,     0.42142,     0.42242,     0.42342,     0.42442,     0.42543,     0.42643,     0.42743,     0.42843,     0.42943,     0.43043,     0.43143,\n",
            "           0.43243,     0.43343,     0.43443,     0.43544,     0.43644,     0.43744,     0.43844,     0.43944,     0.44044,     0.44144,     0.44244,     0.44344,     0.44444,     0.44545,     0.44645,     0.44745,     0.44845,     0.44945,     0.45045,     0.45145,     0.45245,     0.45345,     0.45445,     0.45546,\n",
            "           0.45646,     0.45746,     0.45846,     0.45946,     0.46046,     0.46146,     0.46246,     0.46346,     0.46446,     0.46547,     0.46647,     0.46747,     0.46847,     0.46947,     0.47047,     0.47147,     0.47247,     0.47347,     0.47447,     0.47548,     0.47648,     0.47748,     0.47848,     0.47948,\n",
            "           0.48048,     0.48148,     0.48248,     0.48348,     0.48448,     0.48549,     0.48649,     0.48749,     0.48849,     0.48949,     0.49049,     0.49149,     0.49249,     0.49349,     0.49449,      0.4955,      0.4965,      0.4975,      0.4985,      0.4995,      0.5005,      0.5015,      0.5025,      0.5035,\n",
            "            0.5045,     0.50551,     0.50651,     0.50751,     0.50851,     0.50951,     0.51051,     0.51151,     0.51251,     0.51351,     0.51451,     0.51552,     0.51652,     0.51752,     0.51852,     0.51952,     0.52052,     0.52152,     0.52252,     0.52352,     0.52452,     0.52553,     0.52653,     0.52753,\n",
            "           0.52853,     0.52953,     0.53053,     0.53153,     0.53253,     0.53353,     0.53453,     0.53554,     0.53654,     0.53754,     0.53854,     0.53954,     0.54054,     0.54154,     0.54254,     0.54354,     0.54454,     0.54555,     0.54655,     0.54755,     0.54855,     0.54955,     0.55055,     0.55155,\n",
            "           0.55255,     0.55355,     0.55455,     0.55556,     0.55656,     0.55756,     0.55856,     0.55956,     0.56056,     0.56156,     0.56256,     0.56356,     0.56456,     0.56557,     0.56657,     0.56757,     0.56857,     0.56957,     0.57057,     0.57157,     0.57257,     0.57357,     0.57457,     0.57558,\n",
            "           0.57658,     0.57758,     0.57858,     0.57958,     0.58058,     0.58158,     0.58258,     0.58358,     0.58458,     0.58559,     0.58659,     0.58759,     0.58859,     0.58959,     0.59059,     0.59159,     0.59259,     0.59359,     0.59459,      0.5956,      0.5966,      0.5976,      0.5986,      0.5996,\n",
            "            0.6006,      0.6016,      0.6026,      0.6036,      0.6046,     0.60561,     0.60661,     0.60761,     0.60861,     0.60961,     0.61061,     0.61161,     0.61261,     0.61361,     0.61461,     0.61562,     0.61662,     0.61762,     0.61862,     0.61962,     0.62062,     0.62162,     0.62262,     0.62362,\n",
            "           0.62462,     0.62563,     0.62663,     0.62763,     0.62863,     0.62963,     0.63063,     0.63163,     0.63263,     0.63363,     0.63463,     0.63564,     0.63664,     0.63764,     0.63864,     0.63964,     0.64064,     0.64164,     0.64264,     0.64364,     0.64464,     0.64565,     0.64665,     0.64765,\n",
            "           0.64865,     0.64965,     0.65065,     0.65165,     0.65265,     0.65365,     0.65465,     0.65566,     0.65666,     0.65766,     0.65866,     0.65966,     0.66066,     0.66166,     0.66266,     0.66366,     0.66466,     0.66567,     0.66667,     0.66767,     0.66867,     0.66967,     0.67067,     0.67167,\n",
            "           0.67267,     0.67367,     0.67467,     0.67568,     0.67668,     0.67768,     0.67868,     0.67968,     0.68068,     0.68168,     0.68268,     0.68368,     0.68468,     0.68569,     0.68669,     0.68769,     0.68869,     0.68969,     0.69069,     0.69169,     0.69269,     0.69369,     0.69469,      0.6957,\n",
            "            0.6967,      0.6977,      0.6987,      0.6997,      0.7007,      0.7017,      0.7027,      0.7037,      0.7047,     0.70571,     0.70671,     0.70771,     0.70871,     0.70971,     0.71071,     0.71171,     0.71271,     0.71371,     0.71471,     0.71572,     0.71672,     0.71772,     0.71872,     0.71972,\n",
            "           0.72072,     0.72172,     0.72272,     0.72372,     0.72472,     0.72573,     0.72673,     0.72773,     0.72873,     0.72973,     0.73073,     0.73173,     0.73273,     0.73373,     0.73473,     0.73574,     0.73674,     0.73774,     0.73874,     0.73974,     0.74074,     0.74174,     0.74274,     0.74374,\n",
            "           0.74474,     0.74575,     0.74675,     0.74775,     0.74875,     0.74975,     0.75075,     0.75175,     0.75275,     0.75375,     0.75475,     0.75576,     0.75676,     0.75776,     0.75876,     0.75976,     0.76076,     0.76176,     0.76276,     0.76376,     0.76476,     0.76577,     0.76677,     0.76777,\n",
            "           0.76877,     0.76977,     0.77077,     0.77177,     0.77277,     0.77377,     0.77477,     0.77578,     0.77678,     0.77778,     0.77878,     0.77978,     0.78078,     0.78178,     0.78278,     0.78378,     0.78478,     0.78579,     0.78679,     0.78779,     0.78879,     0.78979,     0.79079,     0.79179,\n",
            "           0.79279,     0.79379,     0.79479,      0.7958,      0.7968,      0.7978,      0.7988,      0.7998,      0.8008,      0.8018,      0.8028,      0.8038,      0.8048,     0.80581,     0.80681,     0.80781,     0.80881,     0.80981,     0.81081,     0.81181,     0.81281,     0.81381,     0.81481,     0.81582,\n",
            "           0.81682,     0.81782,     0.81882,     0.81982,     0.82082,     0.82182,     0.82282,     0.82382,     0.82482,     0.82583,     0.82683,     0.82783,     0.82883,     0.82983,     0.83083,     0.83183,     0.83283,     0.83383,     0.83483,     0.83584,     0.83684,     0.83784,     0.83884,     0.83984,\n",
            "           0.84084,     0.84184,     0.84284,     0.84384,     0.84484,     0.84585,     0.84685,     0.84785,     0.84885,     0.84985,     0.85085,     0.85185,     0.85285,     0.85385,     0.85485,     0.85586,     0.85686,     0.85786,     0.85886,     0.85986,     0.86086,     0.86186,     0.86286,     0.86386,\n",
            "           0.86486,     0.86587,     0.86687,     0.86787,     0.86887,     0.86987,     0.87087,     0.87187,     0.87287,     0.87387,     0.87487,     0.87588,     0.87688,     0.87788,     0.87888,     0.87988,     0.88088,     0.88188,     0.88288,     0.88388,     0.88488,     0.88589,     0.88689,     0.88789,\n",
            "           0.88889,     0.88989,     0.89089,     0.89189,     0.89289,     0.89389,     0.89489,      0.8959,      0.8969,      0.8979,      0.8989,      0.8999,      0.9009,      0.9019,      0.9029,      0.9039,      0.9049,     0.90591,     0.90691,     0.90791,     0.90891,     0.90991,     0.91091,     0.91191,\n",
            "           0.91291,     0.91391,     0.91491,     0.91592,     0.91692,     0.91792,     0.91892,     0.91992,     0.92092,     0.92192,     0.92292,     0.92392,     0.92492,     0.92593,     0.92693,     0.92793,     0.92893,     0.92993,     0.93093,     0.93193,     0.93293,     0.93393,     0.93493,     0.93594,\n",
            "           0.93694,     0.93794,     0.93894,     0.93994,     0.94094,     0.94194,     0.94294,     0.94394,     0.94494,     0.94595,     0.94695,     0.94795,     0.94895,     0.94995,     0.95095,     0.95195,     0.95295,     0.95395,     0.95495,     0.95596,     0.95696,     0.95796,     0.95896,     0.95996,\n",
            "           0.96096,     0.96196,     0.96296,     0.96396,     0.96496,     0.96597,     0.96697,     0.96797,     0.96897,     0.96997,     0.97097,     0.97197,     0.97297,     0.97397,     0.97497,     0.97598,     0.97698,     0.97798,     0.97898,     0.97998,     0.98098,     0.98198,     0.98298,     0.98398,\n",
            "           0.98498,     0.98599,     0.98699,     0.98799,     0.98899,     0.98999,     0.99099,     0.99199,     0.99299,     0.99399,     0.99499,       0.996,       0.997,       0.998,       0.999,           1]), array([[    0.36448,     0.36474,     0.44897, ...,           0,           0,           0],\n",
            "       [    0.33303,     0.33317,     0.41715, ...,           0,           0,           0]]), 'Confidence', 'F1'], [array([          0,    0.001001,    0.002002,    0.003003,    0.004004,    0.005005,    0.006006,    0.007007,    0.008008,    0.009009,     0.01001,    0.011011,    0.012012,    0.013013,    0.014014,    0.015015,    0.016016,    0.017017,    0.018018,    0.019019,     0.02002,    0.021021,    0.022022,    0.023023,\n",
            "          0.024024,    0.025025,    0.026026,    0.027027,    0.028028,    0.029029,     0.03003,    0.031031,    0.032032,    0.033033,    0.034034,    0.035035,    0.036036,    0.037037,    0.038038,    0.039039,     0.04004,    0.041041,    0.042042,    0.043043,    0.044044,    0.045045,    0.046046,    0.047047,\n",
            "          0.048048,    0.049049,     0.05005,    0.051051,    0.052052,    0.053053,    0.054054,    0.055055,    0.056056,    0.057057,    0.058058,    0.059059,     0.06006,    0.061061,    0.062062,    0.063063,    0.064064,    0.065065,    0.066066,    0.067067,    0.068068,    0.069069,     0.07007,    0.071071,\n",
            "          0.072072,    0.073073,    0.074074,    0.075075,    0.076076,    0.077077,    0.078078,    0.079079,     0.08008,    0.081081,    0.082082,    0.083083,    0.084084,    0.085085,    0.086086,    0.087087,    0.088088,    0.089089,     0.09009,    0.091091,    0.092092,    0.093093,    0.094094,    0.095095,\n",
            "          0.096096,    0.097097,    0.098098,    0.099099,      0.1001,      0.1011,      0.1021,      0.1031,      0.1041,     0.10511,     0.10611,     0.10711,     0.10811,     0.10911,     0.11011,     0.11111,     0.11211,     0.11311,     0.11411,     0.11512,     0.11612,     0.11712,     0.11812,     0.11912,\n",
            "           0.12012,     0.12112,     0.12212,     0.12312,     0.12412,     0.12513,     0.12613,     0.12713,     0.12813,     0.12913,     0.13013,     0.13113,     0.13213,     0.13313,     0.13413,     0.13514,     0.13614,     0.13714,     0.13814,     0.13914,     0.14014,     0.14114,     0.14214,     0.14314,\n",
            "           0.14414,     0.14515,     0.14615,     0.14715,     0.14815,     0.14915,     0.15015,     0.15115,     0.15215,     0.15315,     0.15415,     0.15516,     0.15616,     0.15716,     0.15816,     0.15916,     0.16016,     0.16116,     0.16216,     0.16316,     0.16416,     0.16517,     0.16617,     0.16717,\n",
            "           0.16817,     0.16917,     0.17017,     0.17117,     0.17217,     0.17317,     0.17417,     0.17518,     0.17618,     0.17718,     0.17818,     0.17918,     0.18018,     0.18118,     0.18218,     0.18318,     0.18418,     0.18519,     0.18619,     0.18719,     0.18819,     0.18919,     0.19019,     0.19119,\n",
            "           0.19219,     0.19319,     0.19419,      0.1952,      0.1962,      0.1972,      0.1982,      0.1992,      0.2002,      0.2012,      0.2022,      0.2032,      0.2042,     0.20521,     0.20621,     0.20721,     0.20821,     0.20921,     0.21021,     0.21121,     0.21221,     0.21321,     0.21421,     0.21522,\n",
            "           0.21622,     0.21722,     0.21822,     0.21922,     0.22022,     0.22122,     0.22222,     0.22322,     0.22422,     0.22523,     0.22623,     0.22723,     0.22823,     0.22923,     0.23023,     0.23123,     0.23223,     0.23323,     0.23423,     0.23524,     0.23624,     0.23724,     0.23824,     0.23924,\n",
            "           0.24024,     0.24124,     0.24224,     0.24324,     0.24424,     0.24525,     0.24625,     0.24725,     0.24825,     0.24925,     0.25025,     0.25125,     0.25225,     0.25325,     0.25425,     0.25526,     0.25626,     0.25726,     0.25826,     0.25926,     0.26026,     0.26126,     0.26226,     0.26326,\n",
            "           0.26426,     0.26527,     0.26627,     0.26727,     0.26827,     0.26927,     0.27027,     0.27127,     0.27227,     0.27327,     0.27427,     0.27528,     0.27628,     0.27728,     0.27828,     0.27928,     0.28028,     0.28128,     0.28228,     0.28328,     0.28428,     0.28529,     0.28629,     0.28729,\n",
            "           0.28829,     0.28929,     0.29029,     0.29129,     0.29229,     0.29329,     0.29429,      0.2953,      0.2963,      0.2973,      0.2983,      0.2993,      0.3003,      0.3013,      0.3023,      0.3033,      0.3043,     0.30531,     0.30631,     0.30731,     0.30831,     0.30931,     0.31031,     0.31131,\n",
            "           0.31231,     0.31331,     0.31431,     0.31532,     0.31632,     0.31732,     0.31832,     0.31932,     0.32032,     0.32132,     0.32232,     0.32332,     0.32432,     0.32533,     0.32633,     0.32733,     0.32833,     0.32933,     0.33033,     0.33133,     0.33233,     0.33333,     0.33433,     0.33534,\n",
            "           0.33634,     0.33734,     0.33834,     0.33934,     0.34034,     0.34134,     0.34234,     0.34334,     0.34434,     0.34535,     0.34635,     0.34735,     0.34835,     0.34935,     0.35035,     0.35135,     0.35235,     0.35335,     0.35435,     0.35536,     0.35636,     0.35736,     0.35836,     0.35936,\n",
            "           0.36036,     0.36136,     0.36236,     0.36336,     0.36436,     0.36537,     0.36637,     0.36737,     0.36837,     0.36937,     0.37037,     0.37137,     0.37237,     0.37337,     0.37437,     0.37538,     0.37638,     0.37738,     0.37838,     0.37938,     0.38038,     0.38138,     0.38238,     0.38338,\n",
            "           0.38438,     0.38539,     0.38639,     0.38739,     0.38839,     0.38939,     0.39039,     0.39139,     0.39239,     0.39339,     0.39439,      0.3954,      0.3964,      0.3974,      0.3984,      0.3994,      0.4004,      0.4014,      0.4024,      0.4034,      0.4044,     0.40541,     0.40641,     0.40741,\n",
            "           0.40841,     0.40941,     0.41041,     0.41141,     0.41241,     0.41341,     0.41441,     0.41542,     0.41642,     0.41742,     0.41842,     0.41942,     0.42042,     0.42142,     0.42242,     0.42342,     0.42442,     0.42543,     0.42643,     0.42743,     0.42843,     0.42943,     0.43043,     0.43143,\n",
            "           0.43243,     0.43343,     0.43443,     0.43544,     0.43644,     0.43744,     0.43844,     0.43944,     0.44044,     0.44144,     0.44244,     0.44344,     0.44444,     0.44545,     0.44645,     0.44745,     0.44845,     0.44945,     0.45045,     0.45145,     0.45245,     0.45345,     0.45445,     0.45546,\n",
            "           0.45646,     0.45746,     0.45846,     0.45946,     0.46046,     0.46146,     0.46246,     0.46346,     0.46446,     0.46547,     0.46647,     0.46747,     0.46847,     0.46947,     0.47047,     0.47147,     0.47247,     0.47347,     0.47447,     0.47548,     0.47648,     0.47748,     0.47848,     0.47948,\n",
            "           0.48048,     0.48148,     0.48248,     0.48348,     0.48448,     0.48549,     0.48649,     0.48749,     0.48849,     0.48949,     0.49049,     0.49149,     0.49249,     0.49349,     0.49449,      0.4955,      0.4965,      0.4975,      0.4985,      0.4995,      0.5005,      0.5015,      0.5025,      0.5035,\n",
            "            0.5045,     0.50551,     0.50651,     0.50751,     0.50851,     0.50951,     0.51051,     0.51151,     0.51251,     0.51351,     0.51451,     0.51552,     0.51652,     0.51752,     0.51852,     0.51952,     0.52052,     0.52152,     0.52252,     0.52352,     0.52452,     0.52553,     0.52653,     0.52753,\n",
            "           0.52853,     0.52953,     0.53053,     0.53153,     0.53253,     0.53353,     0.53453,     0.53554,     0.53654,     0.53754,     0.53854,     0.53954,     0.54054,     0.54154,     0.54254,     0.54354,     0.54454,     0.54555,     0.54655,     0.54755,     0.54855,     0.54955,     0.55055,     0.55155,\n",
            "           0.55255,     0.55355,     0.55455,     0.55556,     0.55656,     0.55756,     0.55856,     0.55956,     0.56056,     0.56156,     0.56256,     0.56356,     0.56456,     0.56557,     0.56657,     0.56757,     0.56857,     0.56957,     0.57057,     0.57157,     0.57257,     0.57357,     0.57457,     0.57558,\n",
            "           0.57658,     0.57758,     0.57858,     0.57958,     0.58058,     0.58158,     0.58258,     0.58358,     0.58458,     0.58559,     0.58659,     0.58759,     0.58859,     0.58959,     0.59059,     0.59159,     0.59259,     0.59359,     0.59459,      0.5956,      0.5966,      0.5976,      0.5986,      0.5996,\n",
            "            0.6006,      0.6016,      0.6026,      0.6036,      0.6046,     0.60561,     0.60661,     0.60761,     0.60861,     0.60961,     0.61061,     0.61161,     0.61261,     0.61361,     0.61461,     0.61562,     0.61662,     0.61762,     0.61862,     0.61962,     0.62062,     0.62162,     0.62262,     0.62362,\n",
            "           0.62462,     0.62563,     0.62663,     0.62763,     0.62863,     0.62963,     0.63063,     0.63163,     0.63263,     0.63363,     0.63463,     0.63564,     0.63664,     0.63764,     0.63864,     0.63964,     0.64064,     0.64164,     0.64264,     0.64364,     0.64464,     0.64565,     0.64665,     0.64765,\n",
            "           0.64865,     0.64965,     0.65065,     0.65165,     0.65265,     0.65365,     0.65465,     0.65566,     0.65666,     0.65766,     0.65866,     0.65966,     0.66066,     0.66166,     0.66266,     0.66366,     0.66466,     0.66567,     0.66667,     0.66767,     0.66867,     0.66967,     0.67067,     0.67167,\n",
            "           0.67267,     0.67367,     0.67467,     0.67568,     0.67668,     0.67768,     0.67868,     0.67968,     0.68068,     0.68168,     0.68268,     0.68368,     0.68468,     0.68569,     0.68669,     0.68769,     0.68869,     0.68969,     0.69069,     0.69169,     0.69269,     0.69369,     0.69469,      0.6957,\n",
            "            0.6967,      0.6977,      0.6987,      0.6997,      0.7007,      0.7017,      0.7027,      0.7037,      0.7047,     0.70571,     0.70671,     0.70771,     0.70871,     0.70971,     0.71071,     0.71171,     0.71271,     0.71371,     0.71471,     0.71572,     0.71672,     0.71772,     0.71872,     0.71972,\n",
            "           0.72072,     0.72172,     0.72272,     0.72372,     0.72472,     0.72573,     0.72673,     0.72773,     0.72873,     0.72973,     0.73073,     0.73173,     0.73273,     0.73373,     0.73473,     0.73574,     0.73674,     0.73774,     0.73874,     0.73974,     0.74074,     0.74174,     0.74274,     0.74374,\n",
            "           0.74474,     0.74575,     0.74675,     0.74775,     0.74875,     0.74975,     0.75075,     0.75175,     0.75275,     0.75375,     0.75475,     0.75576,     0.75676,     0.75776,     0.75876,     0.75976,     0.76076,     0.76176,     0.76276,     0.76376,     0.76476,     0.76577,     0.76677,     0.76777,\n",
            "           0.76877,     0.76977,     0.77077,     0.77177,     0.77277,     0.77377,     0.77477,     0.77578,     0.77678,     0.77778,     0.77878,     0.77978,     0.78078,     0.78178,     0.78278,     0.78378,     0.78478,     0.78579,     0.78679,     0.78779,     0.78879,     0.78979,     0.79079,     0.79179,\n",
            "           0.79279,     0.79379,     0.79479,      0.7958,      0.7968,      0.7978,      0.7988,      0.7998,      0.8008,      0.8018,      0.8028,      0.8038,      0.8048,     0.80581,     0.80681,     0.80781,     0.80881,     0.80981,     0.81081,     0.81181,     0.81281,     0.81381,     0.81481,     0.81582,\n",
            "           0.81682,     0.81782,     0.81882,     0.81982,     0.82082,     0.82182,     0.82282,     0.82382,     0.82482,     0.82583,     0.82683,     0.82783,     0.82883,     0.82983,     0.83083,     0.83183,     0.83283,     0.83383,     0.83483,     0.83584,     0.83684,     0.83784,     0.83884,     0.83984,\n",
            "           0.84084,     0.84184,     0.84284,     0.84384,     0.84484,     0.84585,     0.84685,     0.84785,     0.84885,     0.84985,     0.85085,     0.85185,     0.85285,     0.85385,     0.85485,     0.85586,     0.85686,     0.85786,     0.85886,     0.85986,     0.86086,     0.86186,     0.86286,     0.86386,\n",
            "           0.86486,     0.86587,     0.86687,     0.86787,     0.86887,     0.86987,     0.87087,     0.87187,     0.87287,     0.87387,     0.87487,     0.87588,     0.87688,     0.87788,     0.87888,     0.87988,     0.88088,     0.88188,     0.88288,     0.88388,     0.88488,     0.88589,     0.88689,     0.88789,\n",
            "           0.88889,     0.88989,     0.89089,     0.89189,     0.89289,     0.89389,     0.89489,      0.8959,      0.8969,      0.8979,      0.8989,      0.8999,      0.9009,      0.9019,      0.9029,      0.9039,      0.9049,     0.90591,     0.90691,     0.90791,     0.90891,     0.90991,     0.91091,     0.91191,\n",
            "           0.91291,     0.91391,     0.91491,     0.91592,     0.91692,     0.91792,     0.91892,     0.91992,     0.92092,     0.92192,     0.92292,     0.92392,     0.92492,     0.92593,     0.92693,     0.92793,     0.92893,     0.92993,     0.93093,     0.93193,     0.93293,     0.93393,     0.93493,     0.93594,\n",
            "           0.93694,     0.93794,     0.93894,     0.93994,     0.94094,     0.94194,     0.94294,     0.94394,     0.94494,     0.94595,     0.94695,     0.94795,     0.94895,     0.94995,     0.95095,     0.95195,     0.95295,     0.95395,     0.95495,     0.95596,     0.95696,     0.95796,     0.95896,     0.95996,\n",
            "           0.96096,     0.96196,     0.96296,     0.96396,     0.96496,     0.96597,     0.96697,     0.96797,     0.96897,     0.96997,     0.97097,     0.97197,     0.97297,     0.97397,     0.97497,     0.97598,     0.97698,     0.97798,     0.97898,     0.97998,     0.98098,     0.98198,     0.98298,     0.98398,\n",
            "           0.98498,     0.98599,     0.98699,     0.98799,     0.98899,     0.98999,     0.99099,     0.99199,     0.99299,     0.99399,     0.99499,       0.996,       0.997,       0.998,       0.999,           1]), array([[    0.22427,     0.22446,      0.2922, ...,           1,           1,           1],\n",
            "       [    0.20152,     0.20162,     0.26699, ...,           1,           1,           1]]), 'Confidence', 'Precision'], [array([          0,    0.001001,    0.002002,    0.003003,    0.004004,    0.005005,    0.006006,    0.007007,    0.008008,    0.009009,     0.01001,    0.011011,    0.012012,    0.013013,    0.014014,    0.015015,    0.016016,    0.017017,    0.018018,    0.019019,     0.02002,    0.021021,    0.022022,    0.023023,\n",
            "          0.024024,    0.025025,    0.026026,    0.027027,    0.028028,    0.029029,     0.03003,    0.031031,    0.032032,    0.033033,    0.034034,    0.035035,    0.036036,    0.037037,    0.038038,    0.039039,     0.04004,    0.041041,    0.042042,    0.043043,    0.044044,    0.045045,    0.046046,    0.047047,\n",
            "          0.048048,    0.049049,     0.05005,    0.051051,    0.052052,    0.053053,    0.054054,    0.055055,    0.056056,    0.057057,    0.058058,    0.059059,     0.06006,    0.061061,    0.062062,    0.063063,    0.064064,    0.065065,    0.066066,    0.067067,    0.068068,    0.069069,     0.07007,    0.071071,\n",
            "          0.072072,    0.073073,    0.074074,    0.075075,    0.076076,    0.077077,    0.078078,    0.079079,     0.08008,    0.081081,    0.082082,    0.083083,    0.084084,    0.085085,    0.086086,    0.087087,    0.088088,    0.089089,     0.09009,    0.091091,    0.092092,    0.093093,    0.094094,    0.095095,\n",
            "          0.096096,    0.097097,    0.098098,    0.099099,      0.1001,      0.1011,      0.1021,      0.1031,      0.1041,     0.10511,     0.10611,     0.10711,     0.10811,     0.10911,     0.11011,     0.11111,     0.11211,     0.11311,     0.11411,     0.11512,     0.11612,     0.11712,     0.11812,     0.11912,\n",
            "           0.12012,     0.12112,     0.12212,     0.12312,     0.12412,     0.12513,     0.12613,     0.12713,     0.12813,     0.12913,     0.13013,     0.13113,     0.13213,     0.13313,     0.13413,     0.13514,     0.13614,     0.13714,     0.13814,     0.13914,     0.14014,     0.14114,     0.14214,     0.14314,\n",
            "           0.14414,     0.14515,     0.14615,     0.14715,     0.14815,     0.14915,     0.15015,     0.15115,     0.15215,     0.15315,     0.15415,     0.15516,     0.15616,     0.15716,     0.15816,     0.15916,     0.16016,     0.16116,     0.16216,     0.16316,     0.16416,     0.16517,     0.16617,     0.16717,\n",
            "           0.16817,     0.16917,     0.17017,     0.17117,     0.17217,     0.17317,     0.17417,     0.17518,     0.17618,     0.17718,     0.17818,     0.17918,     0.18018,     0.18118,     0.18218,     0.18318,     0.18418,     0.18519,     0.18619,     0.18719,     0.18819,     0.18919,     0.19019,     0.19119,\n",
            "           0.19219,     0.19319,     0.19419,      0.1952,      0.1962,      0.1972,      0.1982,      0.1992,      0.2002,      0.2012,      0.2022,      0.2032,      0.2042,     0.20521,     0.20621,     0.20721,     0.20821,     0.20921,     0.21021,     0.21121,     0.21221,     0.21321,     0.21421,     0.21522,\n",
            "           0.21622,     0.21722,     0.21822,     0.21922,     0.22022,     0.22122,     0.22222,     0.22322,     0.22422,     0.22523,     0.22623,     0.22723,     0.22823,     0.22923,     0.23023,     0.23123,     0.23223,     0.23323,     0.23423,     0.23524,     0.23624,     0.23724,     0.23824,     0.23924,\n",
            "           0.24024,     0.24124,     0.24224,     0.24324,     0.24424,     0.24525,     0.24625,     0.24725,     0.24825,     0.24925,     0.25025,     0.25125,     0.25225,     0.25325,     0.25425,     0.25526,     0.25626,     0.25726,     0.25826,     0.25926,     0.26026,     0.26126,     0.26226,     0.26326,\n",
            "           0.26426,     0.26527,     0.26627,     0.26727,     0.26827,     0.26927,     0.27027,     0.27127,     0.27227,     0.27327,     0.27427,     0.27528,     0.27628,     0.27728,     0.27828,     0.27928,     0.28028,     0.28128,     0.28228,     0.28328,     0.28428,     0.28529,     0.28629,     0.28729,\n",
            "           0.28829,     0.28929,     0.29029,     0.29129,     0.29229,     0.29329,     0.29429,      0.2953,      0.2963,      0.2973,      0.2983,      0.2993,      0.3003,      0.3013,      0.3023,      0.3033,      0.3043,     0.30531,     0.30631,     0.30731,     0.30831,     0.30931,     0.31031,     0.31131,\n",
            "           0.31231,     0.31331,     0.31431,     0.31532,     0.31632,     0.31732,     0.31832,     0.31932,     0.32032,     0.32132,     0.32232,     0.32332,     0.32432,     0.32533,     0.32633,     0.32733,     0.32833,     0.32933,     0.33033,     0.33133,     0.33233,     0.33333,     0.33433,     0.33534,\n",
            "           0.33634,     0.33734,     0.33834,     0.33934,     0.34034,     0.34134,     0.34234,     0.34334,     0.34434,     0.34535,     0.34635,     0.34735,     0.34835,     0.34935,     0.35035,     0.35135,     0.35235,     0.35335,     0.35435,     0.35536,     0.35636,     0.35736,     0.35836,     0.35936,\n",
            "           0.36036,     0.36136,     0.36236,     0.36336,     0.36436,     0.36537,     0.36637,     0.36737,     0.36837,     0.36937,     0.37037,     0.37137,     0.37237,     0.37337,     0.37437,     0.37538,     0.37638,     0.37738,     0.37838,     0.37938,     0.38038,     0.38138,     0.38238,     0.38338,\n",
            "           0.38438,     0.38539,     0.38639,     0.38739,     0.38839,     0.38939,     0.39039,     0.39139,     0.39239,     0.39339,     0.39439,      0.3954,      0.3964,      0.3974,      0.3984,      0.3994,      0.4004,      0.4014,      0.4024,      0.4034,      0.4044,     0.40541,     0.40641,     0.40741,\n",
            "           0.40841,     0.40941,     0.41041,     0.41141,     0.41241,     0.41341,     0.41441,     0.41542,     0.41642,     0.41742,     0.41842,     0.41942,     0.42042,     0.42142,     0.42242,     0.42342,     0.42442,     0.42543,     0.42643,     0.42743,     0.42843,     0.42943,     0.43043,     0.43143,\n",
            "           0.43243,     0.43343,     0.43443,     0.43544,     0.43644,     0.43744,     0.43844,     0.43944,     0.44044,     0.44144,     0.44244,     0.44344,     0.44444,     0.44545,     0.44645,     0.44745,     0.44845,     0.44945,     0.45045,     0.45145,     0.45245,     0.45345,     0.45445,     0.45546,\n",
            "           0.45646,     0.45746,     0.45846,     0.45946,     0.46046,     0.46146,     0.46246,     0.46346,     0.46446,     0.46547,     0.46647,     0.46747,     0.46847,     0.46947,     0.47047,     0.47147,     0.47247,     0.47347,     0.47447,     0.47548,     0.47648,     0.47748,     0.47848,     0.47948,\n",
            "           0.48048,     0.48148,     0.48248,     0.48348,     0.48448,     0.48549,     0.48649,     0.48749,     0.48849,     0.48949,     0.49049,     0.49149,     0.49249,     0.49349,     0.49449,      0.4955,      0.4965,      0.4975,      0.4985,      0.4995,      0.5005,      0.5015,      0.5025,      0.5035,\n",
            "            0.5045,     0.50551,     0.50651,     0.50751,     0.50851,     0.50951,     0.51051,     0.51151,     0.51251,     0.51351,     0.51451,     0.51552,     0.51652,     0.51752,     0.51852,     0.51952,     0.52052,     0.52152,     0.52252,     0.52352,     0.52452,     0.52553,     0.52653,     0.52753,\n",
            "           0.52853,     0.52953,     0.53053,     0.53153,     0.53253,     0.53353,     0.53453,     0.53554,     0.53654,     0.53754,     0.53854,     0.53954,     0.54054,     0.54154,     0.54254,     0.54354,     0.54454,     0.54555,     0.54655,     0.54755,     0.54855,     0.54955,     0.55055,     0.55155,\n",
            "           0.55255,     0.55355,     0.55455,     0.55556,     0.55656,     0.55756,     0.55856,     0.55956,     0.56056,     0.56156,     0.56256,     0.56356,     0.56456,     0.56557,     0.56657,     0.56757,     0.56857,     0.56957,     0.57057,     0.57157,     0.57257,     0.57357,     0.57457,     0.57558,\n",
            "           0.57658,     0.57758,     0.57858,     0.57958,     0.58058,     0.58158,     0.58258,     0.58358,     0.58458,     0.58559,     0.58659,     0.58759,     0.58859,     0.58959,     0.59059,     0.59159,     0.59259,     0.59359,     0.59459,      0.5956,      0.5966,      0.5976,      0.5986,      0.5996,\n",
            "            0.6006,      0.6016,      0.6026,      0.6036,      0.6046,     0.60561,     0.60661,     0.60761,     0.60861,     0.60961,     0.61061,     0.61161,     0.61261,     0.61361,     0.61461,     0.61562,     0.61662,     0.61762,     0.61862,     0.61962,     0.62062,     0.62162,     0.62262,     0.62362,\n",
            "           0.62462,     0.62563,     0.62663,     0.62763,     0.62863,     0.62963,     0.63063,     0.63163,     0.63263,     0.63363,     0.63463,     0.63564,     0.63664,     0.63764,     0.63864,     0.63964,     0.64064,     0.64164,     0.64264,     0.64364,     0.64464,     0.64565,     0.64665,     0.64765,\n",
            "           0.64865,     0.64965,     0.65065,     0.65165,     0.65265,     0.65365,     0.65465,     0.65566,     0.65666,     0.65766,     0.65866,     0.65966,     0.66066,     0.66166,     0.66266,     0.66366,     0.66466,     0.66567,     0.66667,     0.66767,     0.66867,     0.66967,     0.67067,     0.67167,\n",
            "           0.67267,     0.67367,     0.67467,     0.67568,     0.67668,     0.67768,     0.67868,     0.67968,     0.68068,     0.68168,     0.68268,     0.68368,     0.68468,     0.68569,     0.68669,     0.68769,     0.68869,     0.68969,     0.69069,     0.69169,     0.69269,     0.69369,     0.69469,      0.6957,\n",
            "            0.6967,      0.6977,      0.6987,      0.6997,      0.7007,      0.7017,      0.7027,      0.7037,      0.7047,     0.70571,     0.70671,     0.70771,     0.70871,     0.70971,     0.71071,     0.71171,     0.71271,     0.71371,     0.71471,     0.71572,     0.71672,     0.71772,     0.71872,     0.71972,\n",
            "           0.72072,     0.72172,     0.72272,     0.72372,     0.72472,     0.72573,     0.72673,     0.72773,     0.72873,     0.72973,     0.73073,     0.73173,     0.73273,     0.73373,     0.73473,     0.73574,     0.73674,     0.73774,     0.73874,     0.73974,     0.74074,     0.74174,     0.74274,     0.74374,\n",
            "           0.74474,     0.74575,     0.74675,     0.74775,     0.74875,     0.74975,     0.75075,     0.75175,     0.75275,     0.75375,     0.75475,     0.75576,     0.75676,     0.75776,     0.75876,     0.75976,     0.76076,     0.76176,     0.76276,     0.76376,     0.76476,     0.76577,     0.76677,     0.76777,\n",
            "           0.76877,     0.76977,     0.77077,     0.77177,     0.77277,     0.77377,     0.77477,     0.77578,     0.77678,     0.77778,     0.77878,     0.77978,     0.78078,     0.78178,     0.78278,     0.78378,     0.78478,     0.78579,     0.78679,     0.78779,     0.78879,     0.78979,     0.79079,     0.79179,\n",
            "           0.79279,     0.79379,     0.79479,      0.7958,      0.7968,      0.7978,      0.7988,      0.7998,      0.8008,      0.8018,      0.8028,      0.8038,      0.8048,     0.80581,     0.80681,     0.80781,     0.80881,     0.80981,     0.81081,     0.81181,     0.81281,     0.81381,     0.81481,     0.81582,\n",
            "           0.81682,     0.81782,     0.81882,     0.81982,     0.82082,     0.82182,     0.82282,     0.82382,     0.82482,     0.82583,     0.82683,     0.82783,     0.82883,     0.82983,     0.83083,     0.83183,     0.83283,     0.83383,     0.83483,     0.83584,     0.83684,     0.83784,     0.83884,     0.83984,\n",
            "           0.84084,     0.84184,     0.84284,     0.84384,     0.84484,     0.84585,     0.84685,     0.84785,     0.84885,     0.84985,     0.85085,     0.85185,     0.85285,     0.85385,     0.85485,     0.85586,     0.85686,     0.85786,     0.85886,     0.85986,     0.86086,     0.86186,     0.86286,     0.86386,\n",
            "           0.86486,     0.86587,     0.86687,     0.86787,     0.86887,     0.86987,     0.87087,     0.87187,     0.87287,     0.87387,     0.87487,     0.87588,     0.87688,     0.87788,     0.87888,     0.87988,     0.88088,     0.88188,     0.88288,     0.88388,     0.88488,     0.88589,     0.88689,     0.88789,\n",
            "           0.88889,     0.88989,     0.89089,     0.89189,     0.89289,     0.89389,     0.89489,      0.8959,      0.8969,      0.8979,      0.8989,      0.8999,      0.9009,      0.9019,      0.9029,      0.9039,      0.9049,     0.90591,     0.90691,     0.90791,     0.90891,     0.90991,     0.91091,     0.91191,\n",
            "           0.91291,     0.91391,     0.91491,     0.91592,     0.91692,     0.91792,     0.91892,     0.91992,     0.92092,     0.92192,     0.92292,     0.92392,     0.92492,     0.92593,     0.92693,     0.92793,     0.92893,     0.92993,     0.93093,     0.93193,     0.93293,     0.93393,     0.93493,     0.93594,\n",
            "           0.93694,     0.93794,     0.93894,     0.93994,     0.94094,     0.94194,     0.94294,     0.94394,     0.94494,     0.94595,     0.94695,     0.94795,     0.94895,     0.94995,     0.95095,     0.95195,     0.95295,     0.95395,     0.95495,     0.95596,     0.95696,     0.95796,     0.95896,     0.95996,\n",
            "           0.96096,     0.96196,     0.96296,     0.96396,     0.96496,     0.96597,     0.96697,     0.96797,     0.96897,     0.96997,     0.97097,     0.97197,     0.97297,     0.97397,     0.97497,     0.97598,     0.97698,     0.97798,     0.97898,     0.97998,     0.98098,     0.98198,     0.98298,     0.98398,\n",
            "           0.98498,     0.98599,     0.98699,     0.98799,     0.98899,     0.98999,     0.99099,     0.99199,     0.99299,     0.99399,     0.99499,       0.996,       0.997,       0.998,       0.999,           1]), array([[    0.97245,     0.97245,     0.96878, ...,           0,           0,           0],\n",
            "       [    0.95855,     0.95855,     0.95326, ...,           0,           0,           0]]), 'Confidence', 'Recall']]\n",
            "fitness: 0.619598143663095\n",
            "keys: ['metrics/precision(B)', 'metrics/recall(B)', 'metrics/mAP50(B)', 'metrics/mAP50-95(B)']\n",
            "maps: array([    0.63016,     0.54345])\n",
            "names: {0: 'human', 1: 'machine'}\n",
            "plot: True\n",
            "results_dict: {'metrics/precision(B)': 0.8973259954423192, 'metrics/recall(B)': 0.8750696213078645, 'metrics/mAP50(B)': 0.9147366096472999, 'metrics/mAP50-95(B)': 0.5868049807759611, 'fitness': 0.619598143663095}\n",
            "save_dir: PosixPath('runs/detect/val')\n",
            "speed: {'preprocess': 0.6526112051761119, 'inference': 4.1548374040363, 'loss': 0.001045730939666464, 'postprocess': 2.2362633139071675}\n",
            "task: 'detect'\n"
          ]
        }
      ]
    },
    {
      "cell_type": "code",
      "source": [
        "test_results = model.predict(\n",
        "    '/content/smart-poultry-farm-litter-raking-3/test/images',\n",
        "    conf=0.4,\n",
        "    device='cuda' if torch.cuda.is_available() else 'cpu',\n",
        "    save=True,\n",
        "    save_txt=True,\n",
        "    save_crop=True,\n",
        "    save_dir='/content/drive/MyDrive'\n",
        ")"
      ],
      "metadata": {
        "colab": {
          "base_uri": "https://localhost:8080/"
        },
        "id": "YDSG_RqbD4Io",
        "outputId": "9c155286-51fb-4e75-8ca1-529f0616a0ec"
      },
      "execution_count": 26,
      "outputs": [
        {
          "output_type": "stream",
          "name": "stdout",
          "text": [
            "\n",
            "image 1/603 /content/smart-poultry-farm-litter-raking-3/test/images/-trashed-1713364327-vf_how-to-do-Litter-raking-in-poultry-farm-_chicken-_farming-_poultrytreatment-_poultrydiseases-480P-_11000_jpeg_jpg.rf.e3eceffa14a1caa23fda46f08a9d9ca7.jpg: 640x640 1 human, 1 machine, 30.8ms\n",
            "image 2/603 /content/smart-poultry-farm-litter-raking-3/test/images/-trashed-1713364335-vf_how-to-do-Litter-raking-in-poultry-farm-_chicken-_farming-_poultrytreatment-_poultrydiseases-480P-_6000_jpeg_jpg.rf.d2f0e790565f6d06966e1621e271d447.jpg: 640x640 1 human, 1 machine, 7.5ms\n",
            "image 3/603 /content/smart-poultry-farm-litter-raking-3/test/images/-trashed-1713364337-vf_how-to-do-Litter-raking-in-poultry-farm-_chicken-_farming-_poultrytreatment-_poultrydiseases-480P-_5000_jpeg_jpg.rf.b4062c9a2568ad80390676481b3cc05e.jpg: 640x640 1 human, 1 machine, 7.3ms\n",
            "image 4/603 /content/smart-poultry-farm-litter-raking-3/test/images/-trashed-1713364342-vf_how-to-do-Litter-raking-in-poultry-farm-_chicken-_farming-_poultrytreatment-_poultrydiseases-480P-_1000_jpeg_jpg.rf.fbfd53d3529a41c3380233ee016f0dfd.jpg: 640x640 1 human, 1 machine, 10.3ms\n",
            "image 5/603 /content/smart-poultry-farm-litter-raking-3/test/images/-trashed-1713364476-vf_raking-machine-_poultrymanagement-_poultrymanagement-_best-_farming-720P_HD-_8000_jpeg_jpg.rf.223edc4c051d478a3b1e900501dac6f0.jpg: 640x640 1 human, 1 machine, 7.4ms\n",
            "image 6/603 /content/smart-poultry-farm-litter-raking-3/test/images/-trashed-1713365531-vf_Poultry-raking-with-brush-cutter-720P_HD-_8000_jpeg_jpg.rf.516db814df2b507e1ee6c81c58e8bdca.jpg: 640x640 1 human, 1 machine, 11.2ms\n",
            "image 7/603 /content/smart-poultry-farm-litter-raking-3/test/images/-trashed-1713365535-vf_Poultry-raking-with-brush-cutter-720P_HD-_5000_jpeg_jpg.rf.87ba3e02fc2c5daac630a8b6f25e962e.jpg: 640x640 1 human, 1 machine, 7.3ms\n",
            "image 8/603 /content/smart-poultry-farm-litter-raking-3/test/images/-trashed-1713365558-vf_Poultry-raking-with-brush-cutter-720P_HD-_3000_jpeg_jpg.rf.b14ba7c06e04c5b8396583885295505b.jpg: 640x640 1 human, 1 machine, 7.8ms\n",
            "image 9/603 /content/smart-poultry-farm-litter-raking-3/test/images/-trashed-1713373324-vf_Best-poultry-racking-at-low-cost-720P_HD-_5000_jpeg_jpg.rf.517661880dcd7f5f0f40d884ee8214c7.jpg: 640x640 1 machine, 7.4ms\n",
            "image 10/603 /content/smart-poultry-farm-litter-raking-3/test/images/-trashed-1713373324-vf_Best-poultry-racking-at-low-cost-720P_HD-_7000_jpeg_jpg.rf.3037268e416131b065caeaa8bedc7ed4.jpg: 640x640 (no detections), 7.3ms\n",
            "image 11/603 /content/smart-poultry-farm-litter-raking-3/test/images/-trashed-1713373324-vf_Litter-raking-machine-for-poultry-farm-details-360P-_1000_jpeg_jpg.rf.14e4ac2e5c042e2444c41b952b816732.jpg: 640x640 2 machines, 7.3ms\n",
            "image 12/603 /content/smart-poultry-farm-litter-raking-3/test/images/-trashed-1713373324-vf_Litter-raking-machine-for-poultry-farm-details-360P-_3000_jpeg_jpg.rf.44bfd754c7d938679c46b25ee3a9e7ef.jpg: 640x640 2 machines, 7.3ms\n",
            "image 13/603 /content/smart-poultry-farm-litter-raking-3/test/images/-trashed-1713373324-vf_Litter-raking-machine-for-poultry-farm-details-360P-_44000_jpeg_jpg.rf.4a6b640d4d479615b46d5aa3085cb1fc.jpg: 640x640 1 machine, 7.3ms\n",
            "image 14/603 /content/smart-poultry-farm-litter-raking-3/test/images/-trashed-1713373324-vf_Litter-raking-machine-for-poultry-farm-details-360P-_65000_jpeg_jpg.rf.090703d7018fc643bb001059825cd450.jpg: 640x640 1 machine, 7.3ms\n",
            "image 15/603 /content/smart-poultry-farm-litter-raking-3/test/images/-trashed-1713373324-vf_how-to-do-Litter-raking-in-poultry-farm-_chicken-_farming-_poultrytreatment-_poultrydiseases-480P-_10000_jpeg_jpg.rf.982dab9d75358b65daf2238a19895aa7.jpg: 640x640 1 human, 1 machine, 7.3ms\n",
            "image 16/603 /content/smart-poultry-farm-litter-raking-3/test/images/-trashed-1713373324-vf_how-to-do-Litter-raking-in-poultry-farm-_chicken-_farming-_poultrytreatment-_poultrydiseases-480P-_14000_jpeg_jpg.rf.4043c0d2da436f6ea8559bf7248d3396.jpg: 640x640 1 human, 1 machine, 7.3ms\n",
            "image 17/603 /content/smart-poultry-farm-litter-raking-3/test/images/-trashed-1713373324-vf_how-to-do-Litter-raking-in-poultry-farm-_chicken-_farming-_poultrytreatment-_poultrydiseases-480P-_15000_jpeg_jpg.rf.749f48e204ac132e49554e838a5f3e5d.jpg: 640x640 1 human, 2 machines, 8.9ms\n",
            "image 18/603 /content/smart-poultry-farm-litter-raking-3/test/images/-trashed-1713373324-vf_how-to-do-Litter-raking-in-poultry-farm-_chicken-_farming-_poultrytreatment-_poultrydiseases-480P-_16000_jpeg_jpg.rf.0ea83050b08f051402bdced7778d3e99.jpg: 640x640 1 human, 1 machine, 10.7ms\n",
            "image 19/603 /content/smart-poultry-farm-litter-raking-3/test/images/-trashed-1713373324-vf_how-to-do-Litter-raking-in-poultry-farm-_chicken-_farming-_poultrytreatment-_poultrydiseases-480P-_17000_jpeg_jpg.rf.24de672e1a0f37c6bd8ce1a70ec410f3.jpg: 640x640 1 human, 1 machine, 12.1ms\n",
            "image 20/603 /content/smart-poultry-farm-litter-raking-3/test/images/-trashed-1713373324-vf_how-to-do-Litter-raking-in-poultry-farm-_chicken-_farming-_poultrytreatment-_poultrydiseases-480P-_18000_jpeg_jpg.rf.7f6641ac683c4da5d768047b9d600150.jpg: 640x640 1 human, 1 machine, 7.9ms\n",
            "image 21/603 /content/smart-poultry-farm-litter-raking-3/test/images/-trashed-1713373324-vf_how-to-do-Litter-raking-in-poultry-farm-_chicken-_farming-_poultrytreatment-_poultrydiseases-480P-_3000_jpeg_jpg.rf.dd3cb9b41bf4bd0802e2624b334f90ce.jpg: 640x640 1 human, 1 machine, 7.3ms\n",
            "image 22/603 /content/smart-poultry-farm-litter-raking-3/test/images/-trashed-1713373324-vf_how-to-do-Litter-raking-in-poultry-farm-_chicken-_farming-_poultrytreatment-_poultrydiseases-480P-_4000_jpeg_jpg.rf.64baba9dee12d7ac9d176d3094183c69.jpg: 640x640 1 human, 1 machine, 7.3ms\n",
            "image 23/603 /content/smart-poultry-farm-litter-raking-3/test/images/-trashed-1713373324-vf_how-to-do-Litter-raking-in-poultry-farm-_chicken-_farming-_poultrytreatment-_poultrydiseases-480P-_7000_jpeg_jpg.rf.525a85518606926b691caeca5871118d.jpg: 640x640 1 human, 1 machine, 7.3ms\n",
            "image 24/603 /content/smart-poultry-farm-litter-raking-3/test/images/-trashed-1713373324-vf_how-to-do-Litter-raking-in-poultry-farm-_chicken-_farming-_poultrytreatment-_poultrydiseases-480P-_8000_jpeg_jpg.rf.b79f9d8700057daa8878142ddc33b678.jpg: 640x640 1 human, 1 machine, 7.3ms\n",
            "image 25/603 /content/smart-poultry-farm-litter-raking-3/test/images/-trashed-1713373324-vf_how-to-do-Litter-raking-in-poultry-farm-_chicken-_farming-_poultrytreatment-_poultrydiseases-480P-_9000_jpeg_jpg.rf.b2b4ca83690788caf9358d8bc6dc80ed.jpg: 640x640 1 human, 1 machine, 7.3ms\n",
            "image 26/603 /content/smart-poultry-farm-litter-raking-3/test/images/-trashed-1713373324-vf_raking-machine-_poultrymanagement-_poultrymanagement-_best-_farming-720P_HD-_0_jpeg_jpg.rf.6a30f60605c43a2c91e23ebfa79ea826.jpg: 640x640 1 human, 1 machine, 7.4ms\n",
            "image 27/603 /content/smart-poultry-farm-litter-raking-3/test/images/-trashed-1713373324-vf_raking-machine-_poultrymanagement-_poultrymanagement-_best-_farming-720P_HD-_10000_jpeg_jpg.rf.a5dde1579a149909aba2f02b8f128d4d.jpg: 640x640 1 human, 1 machine, 7.4ms\n",
            "image 28/603 /content/smart-poultry-farm-litter-raking-3/test/images/-trashed-1713373324-vf_raking-machine-_poultrymanagement-_poultrymanagement-_best-_farming-720P_HD-_1000_jpeg_jpg.rf.34c1486ffb2bef0164104f1a869686bd.jpg: 640x640 1 human, 1 machine, 7.3ms\n",
            "image 29/603 /content/smart-poultry-farm-litter-raking-3/test/images/-trashed-1713373324-vf_raking-machine-_poultrymanagement-_poultrymanagement-_best-_farming-720P_HD-_11000_jpeg_jpg.rf.cb9084acf16bf24ce5ac68396a1b231d.jpg: 640x640 1 human, 1 machine, 7.3ms\n",
            "image 30/603 /content/smart-poultry-farm-litter-raking-3/test/images/-trashed-1713373324-vf_raking-machine-_poultrymanagement-_poultrymanagement-_best-_farming-720P_HD-_12000_jpeg_jpg.rf.8e040077e4107d6c953f0f75cf8c285c.jpg: 640x640 1 human, 1 machine, 7.3ms\n",
            "image 31/603 /content/smart-poultry-farm-litter-raking-3/test/images/-trashed-1713373324-vf_raking-machine-_poultrymanagement-_poultrymanagement-_best-_farming-720P_HD-_14000_jpeg_jpg.rf.4845eef8aeb66896f44dae177f742f83.jpg: 640x640 1 human, 1 machine, 7.3ms\n",
            "image 32/603 /content/smart-poultry-farm-litter-raking-3/test/images/-trashed-1713373324-vf_raking-machine-_poultrymanagement-_poultrymanagement-_best-_farming-720P_HD-_15000_jpeg_jpg.rf.15b1c4faa613898cbb693d5cd83f661d.jpg: 640x640 1 human, 1 machine, 7.3ms\n",
            "image 33/603 /content/smart-poultry-farm-litter-raking-3/test/images/-trashed-1713373324-vf_raking-machine-_poultrymanagement-_poultrymanagement-_best-_farming-720P_HD-_2000_jpeg_jpg.rf.9e71731edb588c7834f315d544b16e02.jpg: 640x640 1 human, 1 machine, 7.3ms\n",
            "image 34/603 /content/smart-poultry-farm-litter-raking-3/test/images/-trashed-1713373324-vf_raking-machine-_poultrymanagement-_poultrymanagement-_best-_farming-720P_HD-_3000_jpeg_jpg.rf.b9d016788f7877066a8da2df9015f271.jpg: 640x640 1 human, 1 machine, 7.3ms\n",
            "image 35/603 /content/smart-poultry-farm-litter-raking-3/test/images/-trashed-1713373324-vf_raking-machine-_poultrymanagement-_poultrymanagement-_best-_farming-720P_HD-_4000_jpeg_jpg.rf.55c4b0ab695ec8669c0c467158fc1f62.jpg: 640x640 1 human, 1 machine, 7.3ms\n",
            "image 36/603 /content/smart-poultry-farm-litter-raking-3/test/images/-trashed-1713373324-vf_raking-machine-_poultrymanagement-_poultrymanagement-_best-_farming-720P_HD-_5000_jpeg_jpg.rf.7fc579a9a62da44abffa8af64faff718.jpg: 640x640 1 human, 1 machine, 7.3ms\n",
            "image 37/603 /content/smart-poultry-farm-litter-raking-3/test/images/-trashed-1713373324-vf_raking-machine-_poultrymanagement-_poultrymanagement-_best-_farming-720P_HD-_6000_jpeg_jpg.rf.d4e21874667bcb21441304975c88e3a3.jpg: 640x640 1 human, 1 machine, 7.4ms\n",
            "image 38/603 /content/smart-poultry-farm-litter-raking-3/test/images/-trashed-1713373324-vf_raking-machine-_poultrymanagement-_poultrymanagement-_best-_farming-720P_HD-_7000_jpeg_jpg.rf.b28e98d41cbcecf35fd464071544d1a8.jpg: 640x640 1 human, 1 machine, 7.3ms\n",
            "image 39/603 /content/smart-poultry-farm-litter-raking-3/test/images/-trashed-1713373325-vf_Litter-management-360P-_47000_jpeg_jpg.rf.07bb5dac09fa8262c89acd92a7d726d0.jpg: 640x640 1 human, 1 machine, 7.4ms\n",
            "image 40/603 /content/smart-poultry-farm-litter-raking-3/test/images/-trashed-1713373325-vf_Litter-management-360P-_8000_jpeg_jpg.rf.8ef71c80692da6226841cbfc6ff2010c.jpg: 640x640 1 human, 1 machine, 7.4ms\n",
            "image 41/603 /content/smart-poultry-farm-litter-raking-3/test/images/-trashed-1713373325-vf_Poultry-raking-with-brush-cutter-720P_HD-_0_jpeg_jpg.rf.001ca549ed5670581c2345d93f1e03f4.jpg: 640x640 1 human, 1 machine, 7.9ms\n",
            "image 42/603 /content/smart-poultry-farm-litter-raking-3/test/images/-trashed-1713373325-vf_Poultry-raking-with-brush-cutter-720P_HD-_1000_jpeg_jpg.rf.6c09a6c3afe3023eb5f4fecbc3b6a663.jpg: 640x640 1 human, 1 machine, 7.3ms\n",
            "image 43/603 /content/smart-poultry-farm-litter-raking-3/test/images/-trashed-1713373325-vf_Poultry-raking-with-brush-cutter-720P_HD-_12000_jpeg_jpg.rf.aad40a3d91ea7d902a045de45bcedab7.jpg: 640x640 1 human, 1 machine, 7.4ms\n",
            "image 44/603 /content/smart-poultry-farm-litter-raking-3/test/images/-trashed-1713373325-vf_Poultry-raking-with-brush-cutter-720P_HD-_13000_jpeg_jpg.rf.9b860f3f4cc14e66e24f376fab57f660.jpg: 640x640 1 human, 1 machine, 7.3ms\n",
            "image 45/603 /content/smart-poultry-farm-litter-raking-3/test/images/-trashed-1713373325-vf_Poultry-raking-with-brush-cutter-720P_HD-_14000_jpeg_jpg.rf.74a70f91543e092b9804fd1286318157.jpg: 640x640 1 human, 1 machine, 7.4ms\n",
            "image 46/603 /content/smart-poultry-farm-litter-raking-3/test/images/-trashed-1713373325-vf_Poultry-raking-with-brush-cutter-720P_HD-_2000_jpeg_jpg.rf.d145e1121b4ad703ffabfac1249c7621.jpg: 640x640 1 human, 1 machine, 7.3ms\n",
            "image 47/603 /content/smart-poultry-farm-litter-raking-3/test/images/-trashed-1713373325-vf_Poultry-raking-with-brush-cutter-720P_HD-_4000_jpeg_jpg.rf.6fdc2cfa03870bfa6d52117edb8b3fc5.jpg: 640x640 1 human, 1 machine, 7.3ms\n",
            "image 48/603 /content/smart-poultry-farm-litter-raking-3/test/images/-trashed-1713373325-vf_Poultry-raking-with-brush-cutter-720P_HD-_6000_jpeg_jpg.rf.004fff34973dd74569db435d17376fac.jpg: 640x640 1 human, 1 machine, 7.3ms\n",
            "image 49/603 /content/smart-poultry-farm-litter-raking-3/test/images/-trashed-1713373325-vf_Poultry-raking-with-brush-cutter-720P_HD-_7000_jpeg_jpg.rf.4478795bab08bb1c5d308f585e6e2509.jpg: 640x640 1 human, 1 machine, 7.4ms\n",
            "image 50/603 /content/smart-poultry-farm-litter-raking-3/test/images/-trashed-1713373465-vf_Best-poultry-racking-at-low-cost-720P_HD-_0_jpeg_jpg.rf.53e0629a3509fc65e0a0f6aa1e9e23d1.jpg: 640x640 (no detections), 7.3ms\n",
            "image 51/603 /content/smart-poultry-farm-litter-raking-3/test/images/-trashed-1713373465-vf_Best-poultry-racking-at-low-cost-720P_HD-_2000_jpeg_jpg.rf.2c417888d16dd37ab5201067665b4b2c.jpg: 640x640 3 machines, 7.3ms\n",
            "image 52/603 /content/smart-poultry-farm-litter-raking-3/test/images/0-2-_jpg.rf.763959c474ad8c876fe93ca9371f3b80.jpg: 640x640 1 machine, 7.8ms\n",
            "image 53/603 /content/smart-poultry-farm-litter-raking-3/test/images/0-4-_jpg.rf.ce97562b0a2035836f0a1e96bcb0d316.jpg: 640x640 2 machines, 7.3ms\n",
            "image 54/603 /content/smart-poultry-farm-litter-raking-3/test/images/0-6-_jpg.rf.7316c5392719237c0cc1c57025e253c1.jpg: 640x640 1 machine, 7.3ms\n",
            "image 55/603 /content/smart-poultry-farm-litter-raking-3/test/images/0-7-_jpg.rf.84abb3fe7171bdc2ee9c69eb625db45c.jpg: 640x640 1 human, 1 machine, 7.4ms\n",
            "image 56/603 /content/smart-poultry-farm-litter-raking-3/test/images/0001_jpg.rf.8df2d7b2b033ab8a9fa52c8afa343ec0.jpg: 640x640 1 human, 1 machine, 7.8ms\n",
            "image 57/603 /content/smart-poultry-farm-litter-raking-3/test/images/0003_jpg.rf.8b7dd71a8253e32134ab38cd6a068b0d.jpg: 640x640 1 human, 1 machine, 7.3ms\n",
            "image 58/603 /content/smart-poultry-farm-litter-raking-3/test/images/0004_jpg.rf.d4c8002cd5ace671454e3b275daa869f.jpg: 640x640 1 human, 1 machine, 7.3ms\n",
            "image 59/603 /content/smart-poultry-farm-litter-raking-3/test/images/0005_jpg.rf.02ae84770cf3378ddcde3a0c74793846.jpg: 640x640 1 human, 1 machine, 7.3ms\n",
            "image 60/603 /content/smart-poultry-farm-litter-raking-3/test/images/0006_jpg.rf.d40fd27a6a03c9b68c2ec01938ea0215.jpg: 640x640 1 human, 1 machine, 7.3ms\n",
            "image 61/603 /content/smart-poultry-farm-litter-raking-3/test/images/0007_jpg.rf.1e12b8b63919423b51004293e28c53c4.jpg: 640x640 1 human, 1 machine, 8.8ms\n",
            "image 62/603 /content/smart-poultry-farm-litter-raking-3/test/images/0008_jpg.rf.701421eff5e0c99c1b218116e3caa3aa.jpg: 640x640 1 human, 1 machine, 7.5ms\n",
            "image 63/603 /content/smart-poultry-farm-litter-raking-3/test/images/0009_jpg.rf.d86c79f139168e4fc812d41988c4356f.jpg: 640x640 1 human, 1 machine, 8.2ms\n",
            "image 64/603 /content/smart-poultry-farm-litter-raking-3/test/images/1-5-_jpg.rf.ce045d8eba79c63000b94c0de88aaee4.jpg: 640x640 1 machine, 7.3ms\n",
            "image 65/603 /content/smart-poultry-farm-litter-raking-3/test/images/1-6-_jpg.rf.41f1afcd39b600b0c4aea65043933f14.jpg: 640x640 1 human, 1 machine, 7.4ms\n",
            "image 66/603 /content/smart-poultry-farm-litter-raking-3/test/images/2-13-_jpg.rf.495b1590a06090cfea18fa6c200436b1.jpg: 640x640 1 machine, 7.5ms\n",
            "image 67/603 /content/smart-poultry-farm-litter-raking-3/test/images/2-14-_jpg.rf.e39275aebf1e33a2674a4b3db3311e74.jpg: 640x640 1 machine, 7.3ms\n",
            "image 68/603 /content/smart-poultry-farm-litter-raking-3/test/images/2-15-_jpg.rf.398af34d1d268e5b003f4e6457ad371f.jpg: 640x640 (no detections), 7.3ms\n",
            "image 69/603 /content/smart-poultry-farm-litter-raking-3/test/images/2-16-_jpg.rf.652adb59e44d2fcf886f68b24357b7c8.jpg: 640x640 (no detections), 7.4ms\n",
            "image 70/603 /content/smart-poultry-farm-litter-raking-3/test/images/2-17-_jpg.rf.822c1560b88021418a8509b57381c669.jpg: 640x640 1 machine, 7.3ms\n",
            "image 71/603 /content/smart-poultry-farm-litter-raking-3/test/images/2-4-_jpg.rf.698f55a4c7f796fc1082a2754cb60fa0.jpg: 640x640 (no detections), 7.5ms\n",
            "image 72/603 /content/smart-poultry-farm-litter-raking-3/test/images/2-6-_jpg.rf.0cbcbae94c38e9169fafdebca34caaae.jpg: 640x640 (no detections), 7.3ms\n",
            "image 73/603 /content/smart-poultry-farm-litter-raking-3/test/images/2_jpg.rf.04697d3b8d1177931a840b4c4397e8f4.jpg: 640x640 1 machine, 7.3ms\n",
            "image 74/603 /content/smart-poultry-farm-litter-raking-3/test/images/5-1-_jpg.rf.e1943747e94c37c27103e09d4b270cd9.jpg: 640x640 2 humans, 1 machine, 8.0ms\n",
            "image 75/603 /content/smart-poultry-farm-litter-raking-3/test/images/5-2-_jpg.rf.2a3cb08b3c2ba745dc14b57e9d5522cc.jpg: 640x640 1 machine, 7.6ms\n",
            "image 76/603 /content/smart-poultry-farm-litter-raking-3/test/images/6-1-_jpg.rf.fd942d86bb6f014e3743e03546315ba7.jpg: 640x640 1 machine, 7.3ms\n",
            "image 77/603 /content/smart-poultry-farm-litter-raking-3/test/images/6-2-_jpg.rf.36a399e318539131244897c7bd966238.jpg: 640x640 1 machine, 7.3ms\n",
            "image 78/603 /content/smart-poultry-farm-litter-raking-3/test/images/7_jpg.rf.41bd3f3d3b029666bf8b7cae9f63223d.jpg: 640x640 1 human, 1 machine, 7.4ms\n",
            "image 79/603 /content/smart-poultry-farm-litter-raking-3/test/images/8-3-_jpg.rf.58910499c701d566069018aef2221f42.jpg: 640x640 2 humans, 1 machine, 8.2ms\n",
            "image 80/603 /content/smart-poultry-farm-litter-raking-3/test/images/9-3-_jpg.rf.93ea6630926a2881699cc7266f6f7621.jpg: 640x640 1 human, 1 machine, 7.3ms\n",
            "image 81/603 /content/smart-poultry-farm-litter-raking-3/test/images/LITTER-RACKING-MACHINE-MANUAL-_-BROILER-FARMING-480P-_mp4-0000_jpg.rf.3c479c714a080fa9e7b97f09bbd5d209.jpg: 640x640 1 human, 1 machine, 7.3ms\n",
            "image 82/603 /content/smart-poultry-farm-litter-raking-3/test/images/LITTER-RACKING-MACHINE-MANUAL-_-BROILER-FARMING-480P-_mp4-0001_jpg.rf.e6a297185bdd3a5b0ec57fa4b74fd487.jpg: 640x640 1 human, 1 machine, 7.3ms\n",
            "image 83/603 /content/smart-poultry-farm-litter-raking-3/test/images/LITTER-RACKING-MACHINE-MANUAL-_-BROILER-FARMING-480P-_mp4-0002_jpg.rf.b2f23c40b4af6acc1aeb0077150e6e75.jpg: 640x640 1 human, 1 machine, 11.3ms\n",
            "image 84/603 /content/smart-poultry-farm-litter-raking-3/test/images/LITTER-RACKING-MACHINE-MANUAL-_-BROILER-FARMING-480P-_mp4-0003_jpg.rf.cdd26be87616c9208161853218abaad5.jpg: 640x640 1 machine, 7.3ms\n",
            "image 85/603 /content/smart-poultry-farm-litter-raking-3/test/images/LITTER-RACKING-MACHINE-MANUAL-_-BROILER-FARMING-480P-_mp4-0004_jpg.rf.b3e19bee9bad8db4c7a37bee1e1a243a.jpg: 640x640 1 machine, 7.4ms\n",
            "image 86/603 /content/smart-poultry-farm-litter-raking-3/test/images/LITTER-RACKING-MACHINE-MANUAL-_-BROILER-FARMING-480P-_mp4-0005_jpg.rf.da15c569a2be7caebc7251a2437ec133.jpg: 640x640 1 machine, 7.3ms\n",
            "image 87/603 /content/smart-poultry-farm-litter-raking-3/test/images/LITTER-RACKING-MACHINE-MANUAL-_-BROILER-FARMING-480P-_mp4-0007_jpg.rf.140c7138a9b9a0122c29c5de87c61d9d.jpg: 640x640 1 machine, 12.8ms\n",
            "image 88/603 /content/smart-poultry-farm-litter-raking-3/test/images/LITTER-RACKING-MACHINE-MANUAL-_-BROILER-FARMING-480P-_mp4-0008_jpg.rf.3d339b7ce7f8564103e6c09809acfed6.jpg: 640x640 1 machine, 7.3ms\n",
            "image 89/603 /content/smart-poultry-farm-litter-raking-3/test/images/LITTER-RACKING-MACHINE-MANUAL-_-BROILER-FARMING-480P-_mp4-0009_jpg.rf.1ca149f79cb0e1138194dc9a841e6e3a.jpg: 640x640 1 machine, 7.3ms\n",
            "image 90/603 /content/smart-poultry-farm-litter-raking-3/test/images/LITTER-RACKING-MACHINE-MANUAL-_-BROILER-FARMING-480P-_mp4-0010_jpg.rf.d0559d0a3a68dd0d4255a90646fa916e.jpg: 640x640 1 machine, 7.4ms\n",
            "image 91/603 /content/smart-poultry-farm-litter-raking-3/test/images/LITTER-RACKING-MACHINE-MANUAL-_-BROILER-FARMING-480P-_mp4-0011_jpg.rf.a4b8c3f90d206b391255c6dc6dc151cf.jpg: 640x640 1 machine, 7.6ms\n",
            "image 92/603 /content/smart-poultry-farm-litter-raking-3/test/images/LITTER-RACKING-MACHINE-MANUAL-_-BROILER-FARMING-480P-_mp4-0012_jpg.rf.e67ac7715500291f6b8a9a68816e997d.jpg: 640x640 1 machine, 7.3ms\n",
            "image 93/603 /content/smart-poultry-farm-litter-raking-3/test/images/LITTER-RACKING-MACHINE-MANUAL-_-BROILER-FARMING-480P-_mp4-0013_jpg.rf.dc52e7088e8b0aee9a3f64009ef21f64.jpg: 640x640 1 machine, 7.3ms\n",
            "image 94/603 /content/smart-poultry-farm-litter-raking-3/test/images/LITTER-RACKING-MACHINE-MANUAL-_-BROILER-FARMING-480P-_mp4-0014_jpg.rf.1567437dae8861199bdbbe25f5fb9c86.jpg: 640x640 1 human, 1 machine, 7.3ms\n",
            "image 95/603 /content/smart-poultry-farm-litter-raking-3/test/images/LITTER-RACKING-MACHINE-MANUAL-_-BROILER-FARMING-480P-_mp4-0016_jpg.rf.8e839dba5d4423ea0d39ec1d9f7c189c.jpg: 640x640 1 human, 1 machine, 7.3ms\n",
            "image 96/603 /content/smart-poultry-farm-litter-raking-3/test/images/LITTER-RACKING-MACHINE-MANUAL-_-BROILER-FARMING-480P-_mp4-0017_jpg.rf.3a8eeba5b264c772c750fd42990d5b1a.jpg: 640x640 1 human, 1 machine, 7.3ms\n",
            "image 97/603 /content/smart-poultry-farm-litter-raking-3/test/images/LITTER-RACKING-MACHINE-MANUAL-_-BROILER-FARMING-480P-_mp4-0018_jpg.rf.964301272df9fb38a65f9f900bc9cf5c.jpg: 640x640 2 humans, 1 machine, 7.4ms\n",
            "image 98/603 /content/smart-poultry-farm-litter-raking-3/test/images/LITTER-RACKING-MACHINE-MANUAL-_-BROILER-FARMING-480P-_mp4-0019_jpg.rf.9db8cd47b35afa1e2076df3fb3a39ad7.jpg: 640x640 2 machines, 7.3ms\n",
            "image 99/603 /content/smart-poultry-farm-litter-raking-3/test/images/LITTER-RACKING-MACHINE-MANUAL-_-BROILER-FARMING-480P-_mp4-0025_jpg.rf.9ea1d20eed61ccefbc428e8500cbb7bc.jpg: 640x640 1 machine, 7.6ms\n",
            "image 100/603 /content/smart-poultry-farm-litter-raking-3/test/images/LITTER-RACKING-MACHINE-MANUAL-_-BROILER-FARMING-480P-_mp4-0026_jpg.rf.acf17140674912f0f5337dfd1ca462cf.jpg: 640x640 1 machine, 7.3ms\n",
            "image 101/603 /content/smart-poultry-farm-litter-raking-3/test/images/LITTER-RACKING-MACHINE-MANUAL-_-BROILER-FARMING-480P-_mp4-0029_jpg.rf.47927ecfc9828a45cc0c1954e4b66e88.jpg: 640x640 1 machine, 7.3ms\n",
            "image 102/603 /content/smart-poultry-farm-litter-raking-3/test/images/LITTER-RACKING-MACHINE-MANUAL-_-BROILER-FARMING-480P-_mp4-0030_jpg.rf.c9601c6202751769a36cdbbbcd42de13.jpg: 640x640 1 machine, 7.3ms\n",
            "image 103/603 /content/smart-poultry-farm-litter-raking-3/test/images/LITTER-RACKING-MACHINE-MANUAL-_-BROILER-FARMING-480P-_mp4-0031_jpg.rf.57237e5dff06a1363b46792d68b1b412.jpg: 640x640 1 machine, 7.6ms\n",
            "image 104/603 /content/smart-poultry-farm-litter-raking-3/test/images/LITTER-RACKING-MACHINE-MANUAL-_-BROILER-FARMING-480P-_mp4-0042_jpg.rf.f8e35e61d1d0830f7c6d9a10d55dd432.jpg: 640x640 1 human, 1 machine, 10.2ms\n",
            "image 105/603 /content/smart-poultry-farm-litter-raking-3/test/images/LITTER-RACKING-MACHINE-MANUAL-_-BROILER-FARMING-480P-_mp4-0046_jpg.rf.87891dc40e8fbe99b3b6c5961890f82f.jpg: 640x640 1 machine, 7.7ms\n",
            "image 106/603 /content/smart-poultry-farm-litter-raking-3/test/images/LITTER-RACKING-MACHINE-MANUAL-_-BROILER-FARMING-480P-_mp4-0047_jpg.rf.9b1068883bfa30b1acb0b9971c95afd9.jpg: 640x640 2 machines, 8.5ms\n",
            "image 107/603 /content/smart-poultry-farm-litter-raking-3/test/images/LITTER-RACKING-MACHINE-MANUAL-_-BROILER-FARMING-480P-_mp4-0049_jpg.rf.079bbaeb5e401d4c8b81ba7bbceefacb.jpg: 640x640 1 human, 2 machines, 7.3ms\n",
            "image 108/603 /content/smart-poultry-farm-litter-raking-3/test/images/LITTER-RACKING-MACHINE-MANUAL-_-BROILER-FARMING-480P-_mp4-0051_jpg.rf.30a028493929b26da44711c008ca2b3e.jpg: 640x640 1 human, 7.3ms\n",
            "image 109/603 /content/smart-poultry-farm-litter-raking-3/test/images/LITTER-RACKING-MACHINE-MANUAL-_-BROILER-FARMING-480P-_mp4-0056_jpg.rf.cb78c2bf3bc92eb9e32c38dc94a10b35.jpg: 640x640 1 human, 7.5ms\n",
            "image 110/603 /content/smart-poultry-farm-litter-raking-3/test/images/LITTER-RACKING-MACHINE-MANUAL-_-BROILER-FARMING-480P-_mp4-0059_jpg.rf.6e9235a87250c0267e3c40b12c2c1251.jpg: 640x640 1 human, 1 machine, 7.3ms\n",
            "image 111/603 /content/smart-poultry-farm-litter-raking-3/test/images/LITTER-RACKING-MACHINE-MANUAL-_-BROILER-FARMING-480P-_mp4-0060_jpg.rf.f0c4cab1a465563d508f2c7df5372395.jpg: 640x640 1 machine, 8.3ms\n",
            "image 112/603 /content/smart-poultry-farm-litter-raking-3/test/images/LITTER-RACKING-MACHINE-MANUAL-_-BROILER-FARMING-480P-_mp4-0065_jpg.rf.8c1de927d21ae6aed100375488cfc93c.jpg: 640x640 1 human, 1 machine, 7.4ms\n",
            "image 113/603 /content/smart-poultry-farm-litter-raking-3/test/images/LITTER-RACKING-MACHINE-MANUAL-_-BROILER-FARMING-480P-_mp4-0067_jpg.rf.d36173c2b3e3b8aacdc5b91c3337c4e3.jpg: 640x640 1 machine, 7.9ms\n",
            "image 114/603 /content/smart-poultry-farm-litter-raking-3/test/images/LITTER-RACKING-MACHINE-MANUAL-_-BROILER-FARMING-480P-_mp4-0068_jpg.rf.30f5c617335942e1bb30a4070dc1553e.jpg: 640x640 1 machine, 7.3ms\n",
            "image 115/603 /content/smart-poultry-farm-litter-raking-3/test/images/LITTER-RACKING-MACHINE-MANUAL-_-BROILER-FARMING-480P-_mp4-0085_jpg.rf.22bf06423d46e6eeaca336d3936ea543.jpg: 640x640 (no detections), 7.3ms\n",
            "image 116/603 /content/smart-poultry-farm-litter-raking-3/test/images/LITTER-RACKING-MACHINE-MANUAL-_-BROILER-FARMING-480P-_mp4-0086_jpg.rf.a1a662ca521f35768312f95da7912831.jpg: 640x640 1 machine, 7.3ms\n",
            "image 117/603 /content/smart-poultry-farm-litter-raking-3/test/images/LITTER-RACKING-MACHINE-MANUAL-_-BROILER-FARMING-480P-_mp4-0087_jpg.rf.44099bf10648221d20e29a813224c1aa.jpg: 640x640 1 machine, 8.3ms\n",
            "image 118/603 /content/smart-poultry-farm-litter-raking-3/test/images/LITTER-RACKING-MACHINE-MANUAL-_-BROILER-FARMING-480P-_mp4-0088_jpg.rf.f73e3401b759cc2d7456c64c46ddb3d7.jpg: 640x640 1 human, 1 machine, 7.3ms\n",
            "image 119/603 /content/smart-poultry-farm-litter-raking-3/test/images/LITTER-RACKING-MACHINE-MANUAL-_-BROILER-FARMING-480P-_mp4-0089_jpg.rf.45669138fb1f545dfc6fc6038a77c74b.jpg: 640x640 1 machine, 7.3ms\n",
            "image 120/603 /content/smart-poultry-farm-litter-raking-3/test/images/LITTER-RACKING-MACHINE-MANUAL-_-BROILER-FARMING-480P-_mp4-0091_jpg.rf.5e50ee517ca0cc58089481aa69530510.jpg: 640x640 1 machine, 7.3ms\n",
            "image 121/603 /content/smart-poultry-farm-litter-raking-3/test/images/LITTER-RACKING-MACHINE-MANUAL-_-BROILER-FARMING-480P-_mp4-0093_jpg.rf.116677dc0671576f3a00d644c874bea5.jpg: 640x640 1 machine, 7.3ms\n",
            "image 122/603 /content/smart-poultry-farm-litter-raking-3/test/images/LITTER-RACKING-MACHINE-MANUAL-_-BROILER-FARMING-480P-_mp4-0094_jpg.rf.8429f907201715c4b5003991a00a6235.jpg: 640x640 2 machines, 7.3ms\n",
            "image 123/603 /content/smart-poultry-farm-litter-raking-3/test/images/LITTER-RACKING-MACHINE-MANUAL-_-BROILER-FARMING-480P-_mp4-0095_jpg.rf.52a4f5b2118051936327c73bebeb1137.jpg: 640x640 1 human, 1 machine, 7.3ms\n",
            "image 124/603 /content/smart-poultry-farm-litter-raking-3/test/images/LITTER-RACKING-MACHINE-MANUAL-_-BROILER-FARMING-480P-_mp4-0096_jpg.rf.25e9236480640beffc54f3a798b9ba87.jpg: 640x640 1 human, 1 machine, 7.3ms\n",
            "image 125/603 /content/smart-poultry-farm-litter-raking-3/test/images/LITTER-RACKING-MACHINE-MANUAL-_-BROILER-FARMING-480P-_mp4-0098_jpg.rf.0b921550d7a65d3a1ab2d542ee17e98c.jpg: 640x640 1 machine, 7.5ms\n",
            "image 126/603 /content/smart-poultry-farm-litter-raking-3/test/images/LITTER-RACKING-MACHINE-MANUAL-_-BROILER-FARMING-480P-_mp4-0099_jpg.rf.4bd6ba75704146e5cec0ba2449cf385b.jpg: 640x640 (no detections), 7.3ms\n",
            "image 127/603 /content/smart-poultry-farm-litter-raking-3/test/images/Litter-Raking-Machine-For-Poultry-Farming-Manual-1080P_HD-_mp4-0014_jpg.rf.83ae2afb6fae0146da299d85873ef105.jpg: 640x640 1 human, 1 machine, 7.3ms\n",
            "image 128/603 /content/smart-poultry-farm-litter-raking-3/test/images/Litter-Raking-Machine-For-Poultry-Farming-Manual-1080P_HD-_mp4-0015_jpg.rf.ce79f6fe4238cd179a06f47c2ed31e5d.jpg: 640x640 1 human, 1 machine, 7.3ms\n",
            "image 129/603 /content/smart-poultry-farm-litter-raking-3/test/images/Litter-Raking-Machine-For-Poultry-Farming-Manual-1080P_HD-_mp4-0018_jpg.rf.fcb718860c44c160b4a92181baad96d6.jpg: 640x640 1 human, 1 machine, 7.3ms\n",
            "image 130/603 /content/smart-poultry-farm-litter-raking-3/test/images/Litter-Raking-Machine-For-Poultry-Farming-Manual-1080P_HD-_mp4-0020_jpg.rf.5aa26646551565febeced01fd883e44e.jpg: 640x640 1 human, 1 machine, 7.3ms\n",
            "image 131/603 /content/smart-poultry-farm-litter-raking-3/test/images/Litter-Raking-Machine-For-Poultry-Farming-Manual-1080P_HD-_mp4-0021_jpg.rf.01f3312d3fc077a6a64342871100379a.jpg: 640x640 1 human, 1 machine, 7.6ms\n",
            "image 132/603 /content/smart-poultry-farm-litter-raking-3/test/images/Litter-Raking-Machine-For-Poultry-Farming-Manual-1080P_HD-_mp4-0022_jpg.rf.baef9dfb6d280da99ce672256edf421b.jpg: 640x640 1 human, 1 machine, 7.3ms\n",
            "image 133/603 /content/smart-poultry-farm-litter-raking-3/test/images/Litter-Raking-Machine-For-Poultry-Farming-Manual-1080P_HD-_mp4-0023_jpg.rf.8a8f4d68aa2cbb3884f74f7838794f4e.jpg: 640x640 1 human, 1 machine, 9.1ms\n",
            "image 134/603 /content/smart-poultry-farm-litter-raking-3/test/images/Litter-Raking-Machine-For-Poultry-Farming-Manual-1080P_HD-_mp4-0026_jpg.rf.70c01d3b60c57fc39d9433855922268e.jpg: 640x640 1 human, 1 machine, 7.3ms\n",
            "image 135/603 /content/smart-poultry-farm-litter-raking-3/test/images/Litter-Raking-Machine-For-Poultry-Farming-Manual-1080P_HD-_mp4-0029_jpg.rf.93a0aec1d0ecc393c4f32d8baeb05905.jpg: 640x640 1 human, 1 machine, 7.3ms\n",
            "image 136/603 /content/smart-poultry-farm-litter-raking-3/test/images/Litter-Raking-Machine-For-Poultry-Farming-Manual-1080P_HD-_mp4-0030_jpg.rf.8dc11b22a1c6bb791f9ecdd6598f9f89.jpg: 640x640 1 human, 1 machine, 7.3ms\n",
            "image 137/603 /content/smart-poultry-farm-litter-raking-3/test/images/Litter-Raking-Machine-For-Poultry-Farming-Manual-1080P_HD-_mp4-0031_jpg.rf.d0705b9074b41b2ba4697741fa86becd.jpg: 640x640 1 human, 1 machine, 7.3ms\n",
            "image 138/603 /content/smart-poultry-farm-litter-raking-3/test/images/Litter-Raking-Machine-For-Poultry-Farming-Manual-1080P_HD-_mp4-0032_jpg.rf.93f9bc7b95f21dc642048c7305b76b7f.jpg: 640x640 1 human, 1 machine, 7.3ms\n",
            "image 139/603 /content/smart-poultry-farm-litter-raking-3/test/images/Litter-Raking-Machine-For-Poultry-Farming-Manual-1080P_HD-_mp4-0033_jpg.rf.366c4109664c3b903d3739920f55166e.jpg: 640x640 1 human, 1 machine, 7.3ms\n",
            "image 140/603 /content/smart-poultry-farm-litter-raking-3/test/images/Litter-Raking-Machine-For-Poultry-Farming-Manual-1080P_HD-_mp4-0035_jpg.rf.2e4d974dc8b85bc03bca0ad1664bbb49.jpg: 640x640 1 human, 1 machine, 7.3ms\n",
            "image 141/603 /content/smart-poultry-farm-litter-raking-3/test/images/Litter-Raking-Machine-For-Poultry-Farming-Manual-1080P_HD-_mp4-0036_jpg.rf.84fad72003ac034c0c3f4bf115e23cfa.jpg: 640x640 1 human, 1 machine, 7.5ms\n",
            "image 142/603 /content/smart-poultry-farm-litter-raking-3/test/images/Litter-Raking-Machine-For-Poultry-Farming-Manual-1080P_HD-_mp4-0040_jpg.rf.c8396acbeca5f0ec158330791d6b51b4.jpg: 640x640 1 human, 1 machine, 7.3ms\n",
            "image 143/603 /content/smart-poultry-farm-litter-raking-3/test/images/Litter-Raking-Machine-For-Poultry-Farming-Manual-1080P_HD-_mp4-0041_jpg.rf.e0854babf9a334885b053d8488ede1db.jpg: 640x640 1 human, 1 machine, 7.3ms\n",
            "image 144/603 /content/smart-poultry-farm-litter-raking-3/test/images/Litter-Raking-Machine-For-Poultry-Farming-Manual-1080P_HD-_mp4-0042_jpg.rf.37d7319a3aaef43cffe9ab577387eef6.jpg: 640x640 1 human, 1 machine, 7.3ms\n",
            "image 145/603 /content/smart-poultry-farm-litter-raking-3/test/images/Litter-Raking-Machine-For-Poultry-Farming-Manual-1080P_HD-_mp4-0043_jpg.rf.ba023628ef098528638dfe15fa63a629.jpg: 640x640 1 human, 1 machine, 7.3ms\n",
            "image 146/603 /content/smart-poultry-farm-litter-raking-3/test/images/Litter-Raking-Machine-For-Poultry-Farming-Manual-1080P_HD-_mp4-0053_jpg.rf.4e5ba9166f6b1787bff8792b7fb0784f.jpg: 640x640 1 machine, 11.4ms\n",
            "image 147/603 /content/smart-poultry-farm-litter-raking-3/test/images/Litter-Raking-Machine-For-Poultry-Farming-Manual-1080P_HD-_mp4-0054_jpg.rf.571651714fc2bf727337a7526b3a17c3.jpg: 640x640 1 machine, 7.3ms\n",
            "image 148/603 /content/smart-poultry-farm-litter-raking-3/test/images/Litter-Raking-Machine-For-Poultry-Farming-Manual-1080P_HD-_mp4-0056_jpg.rf.6f7d43181a9c1f46d81a83b6cf494ce1.jpg: 640x640 1 human, 1 machine, 7.3ms\n",
            "image 149/603 /content/smart-poultry-farm-litter-raking-3/test/images/Litter-Raking-Machine-For-Poultry-Farming-Manual-1080P_HD-_mp4-0058_jpg.rf.5e41274164bfe1496a58f5fe946d9ead.jpg: 640x640 1 machine, 7.3ms\n",
            "image 150/603 /content/smart-poultry-farm-litter-raking-3/test/images/Litter-Raking-Machine-For-Poultry-Farming-Manual-1080P_HD-_mp4-0059_jpg.rf.de89d30c9ea9518ace1ccc9382740020.jpg: 640x640 1 machine, 7.3ms\n",
            "image 151/603 /content/smart-poultry-farm-litter-raking-3/test/images/Litter-Raking-Machine-For-Poultry-Farming-Manual-1080P_HD-_mp4-0061_jpg.rf.5401d9e8728cc6a8cb8f3a9628d5d599.jpg: 640x640 1 human, 1 machine, 7.3ms\n",
            "image 152/603 /content/smart-poultry-farm-litter-raking-3/test/images/Litter-Raking-Machine-For-Poultry-Farming-Manual-1080P_HD-_mp4-0062_jpg.rf.822d8220dd43b4597fe9e438ff38d1e4.jpg: 640x640 1 machine, 7.3ms\n",
            "image 153/603 /content/smart-poultry-farm-litter-raking-3/test/images/Litter-Raking-Machine-For-Poultry-Farming-Manual-1080P_HD-_mp4-0063_jpg.rf.7a2ce19a7f446b625891d625dba3db26.jpg: 640x640 1 human, 1 machine, 7.3ms\n",
            "image 154/603 /content/smart-poultry-farm-litter-raking-3/test/images/Litter-Raking-Machine-For-Poultry-Farming-Manual-1080P_HD-_mp4-0065_jpg.rf.f7bbddd8548c6bf38e0cb369f075bb88.jpg: 640x640 1 human, 1 machine, 7.3ms\n",
            "image 155/603 /content/smart-poultry-farm-litter-raking-3/test/images/Litter-Raking-Machine-For-Poultry-Farming-Manual-1080P_HD-_mp4-0066_jpg.rf.bd5a294d32f2d51723ba8370ebd3d2d7.jpg: 640x640 1 human, 1 machine, 7.3ms\n",
            "image 156/603 /content/smart-poultry-farm-litter-raking-3/test/images/Litter-Raking-Machine-For-Poultry-Farming-Manual-1080P_HD-_mp4-0068_jpg.rf.fdfaf8f527b4fd9a5a4930cc153af85e.jpg: 640x640 1 human, 1 machine, 7.3ms\n",
            "image 157/603 /content/smart-poultry-farm-litter-raking-3/test/images/Litter-Raking-Machine-For-Poultry-Farming-Manual-1080P_HD-_mp4-0070_jpg.rf.29b0b4f4c67de14ae219745c18e95bdc.jpg: 640x640 1 human, 1 machine, 7.6ms\n",
            "image 158/603 /content/smart-poultry-farm-litter-raking-3/test/images/Litter-Raking-Machine-For-Poultry-Farming-Manual-1080P_HD-_mp4-0072_jpg.rf.bbca65236af91c390d954266bba81baf.jpg: 640x640 1 human, 1 machine, 7.3ms\n",
            "image 159/603 /content/smart-poultry-farm-litter-raking-3/test/images/Litter-Raking-Machine-For-Poultry-Farming-Manual-1080P_HD-_mp4-0074_jpg.rf.eb54edd44b0ec18aa5fc267e5b423642.jpg: 640x640 1 human, 1 machine, 8.6ms\n",
            "image 160/603 /content/smart-poultry-farm-litter-raking-3/test/images/Litter-Raking-Machine-For-Poultry-Farming-Manual-1080P_HD-_mp4-0076_jpg.rf.ead3f484d6f2f329115d8efe00849898.jpg: 640x640 1 human, 1 machine, 7.8ms\n",
            "image 161/603 /content/smart-poultry-farm-litter-raking-3/test/images/Litter-Raking-Machine-For-Poultry-Farming-Manual-1080P_HD-_mp4-0077_jpg.rf.d88a3a8be163c383c68decde1de82c05.jpg: 640x640 1 human, 1 machine, 7.3ms\n",
            "image 162/603 /content/smart-poultry-farm-litter-raking-3/test/images/Litter-Raking-Machine-For-Poultry-Farming-Manual-1080P_HD-_mp4-0081_jpg.rf.4bdcfa90fd76b976354d505b3825b3de.jpg: 640x640 1 human, 1 machine, 7.3ms\n",
            "image 163/603 /content/smart-poultry-farm-litter-raking-3/test/images/Litter-Raking-Machine-For-Poultry-Farming-Manual-1080P_HD-_mp4-0082_jpg.rf.f85b86d3bac45be17b3db369b08c5620.jpg: 640x640 1 human, 1 machine, 7.3ms\n",
            "image 164/603 /content/smart-poultry-farm-litter-raking-3/test/images/Litter-Raking-Machine-For-Poultry-Farming-Manual-1080P_HD-_mp4-0083_jpg.rf.5ca1fc4b3e405d81d40467b5f71cd018.jpg: 640x640 1 human, 1 machine, 7.3ms\n",
            "image 165/603 /content/smart-poultry-farm-litter-raking-3/test/images/Litter-Raking-Machine-For-Poultry-Farming-Manual-1080P_HD-_mp4-0086_jpg.rf.69b113a05f941b2ecfb72d69309f123d.jpg: 640x640 1 human, 1 machine, 7.3ms\n",
            "image 166/603 /content/smart-poultry-farm-litter-raking-3/test/images/Litter-Raking-Machine-For-Poultry-Farming-Manual-1080P_HD-_mp4-0087_jpg.rf.a4ea8fb4ad0ab5fd4e58838937ebe5db.jpg: 640x640 1 human, 1 machine, 7.3ms\n",
            "image 167/603 /content/smart-poultry-farm-litter-raking-3/test/images/Litter-Raking-Machine-For-Poultry-Farming-Manual-1080P_HD-_mp4-0088_jpg.rf.e66be11dafa483fe2ef00fc77a33ed47.jpg: 640x640 1 human, 1 machine, 7.3ms\n",
            "image 168/603 /content/smart-poultry-farm-litter-raking-3/test/images/Litter-Raking-Machine-For-Poultry-Farming-Manual-1080P_HD-_mp4-0089_jpg.rf.55e0d638f60f9c300a57b94211fc88e3.jpg: 640x640 1 human, 1 machine, 10.5ms\n",
            "image 169/603 /content/smart-poultry-farm-litter-raking-3/test/images/Litter-Raking-Machine-For-Poultry-Farming-Manual-1080P_HD-_mp4-0091_jpg.rf.0708a4b31115b6369fdf72b89733b52e.jpg: 640x640 1 human, 1 machine, 8.3ms\n",
            "image 170/603 /content/smart-poultry-farm-litter-raking-3/test/images/Litter-raking-Images-1742-_png_jpg.rf.1bb9c3a9ce17580610b3029a5e71ecb6.jpg: 640x640 2 humans, 1 machine, 8.0ms\n",
            "image 171/603 /content/smart-poultry-farm-litter-raking-3/test/images/Litter-raking-Images-1747-_png_jpg.rf.5190abd51bfc8ae1eb323b0acbd37985.jpg: 640x640 2 humans, 1 machine, 7.3ms\n",
            "image 172/603 /content/smart-poultry-farm-litter-raking-3/test/images/Litter-raking-Images-1748-_png_jpg.rf.437051e999b00130763442c9e854eaa8.jpg: 640x640 2 humans, 1 machine, 7.3ms\n",
            "image 173/603 /content/smart-poultry-farm-litter-raking-3/test/images/Litter-raking-Images-1749-_png_jpg.rf.f7d0f7b968fa32ab6696b4f336a68a5f.jpg: 640x640 2 humans, 1 machine, 7.4ms\n",
            "image 174/603 /content/smart-poultry-farm-litter-raking-3/test/images/Litter-raking-Images-1750-_png_jpg.rf.eb8ee19b44dfe1c704866199e14e06b1.jpg: 640x640 2 humans, 7.3ms\n",
            "image 175/603 /content/smart-poultry-farm-litter-raking-3/test/images/Litter-raking-Images-1751-_png_jpg.rf.8ce99dff860395a890e77c2fb3028853.jpg: 640x640 2 humans, 1 machine, 7.3ms\n",
            "image 176/603 /content/smart-poultry-farm-litter-raking-3/test/images/Litter-raking-Images-1754-_png_jpg.rf.6e6f3382496369d52cccfcbca15ebc30.jpg: 640x640 3 humans, 7.3ms\n",
            "image 177/603 /content/smart-poultry-farm-litter-raking-3/test/images/Litter-raking-Images-1755-_png_jpg.rf.c6e229c20958ab3e41dac01b1d4195eb.jpg: 640x640 3 humans, 1 machine, 7.3ms\n",
            "image 178/603 /content/smart-poultry-farm-litter-raking-3/test/images/Litter-raking-Images-1756-_png_jpg.rf.52fc04a7e314b34aa5be31481834a365.jpg: 640x640 2 humans, 1 machine, 7.3ms\n",
            "image 179/603 /content/smart-poultry-farm-litter-raking-3/test/images/Litter-raking-Images-1757-_png_jpg.rf.e58cb748c702f0fc9ee861a7d980782b.jpg: 640x640 2 humans, 1 machine, 10.4ms\n",
            "image 180/603 /content/smart-poultry-farm-litter-raking-3/test/images/Litter-raking-Images-1758-_png_jpg.rf.25e36a12b2487ce3b5225af9480442ba.jpg: 640x640 2 humans, 1 machine, 9.6ms\n",
            "image 181/603 /content/smart-poultry-farm-litter-raking-3/test/images/Litter-raking-Images-1761-_png_jpg.rf.30bfbdd78ab53e6f03cd481389d37a55.jpg: 640x640 3 humans, 1 machine, 7.9ms\n",
            "image 182/603 /content/smart-poultry-farm-litter-raking-3/test/images/Litter-raking-Images-1764-_png_jpg.rf.bd707cb4adc264e2cbc37878b32647f5.jpg: 640x640 2 humans, 1 machine, 7.4ms\n",
            "image 183/603 /content/smart-poultry-farm-litter-raking-3/test/images/Litter-raking-Images-1767-_png_jpg.rf.8fab4ffb710926e8b010a7e669036c3b.jpg: 640x640 2 humans, 1 machine, 7.3ms\n",
            "image 184/603 /content/smart-poultry-farm-litter-raking-3/test/images/Litter-raking-Images-1769-_png_jpg.rf.1ccbd6fc766822e2a7056b2c5258b914.jpg: 640x640 2 humans, 1 machine, 7.3ms\n",
            "image 185/603 /content/smart-poultry-farm-litter-raking-3/test/images/Litter-raking-Images-1770-_png_jpg.rf.f65c8c00e0095eed6c5bb070b00d17d4.jpg: 640x640 2 humans, 1 machine, 7.3ms\n",
            "image 186/603 /content/smart-poultry-farm-litter-raking-3/test/images/Litter-raking-Images-1772-_png_jpg.rf.5e92a56840015aba6d6ae070912ce55b.jpg: 640x640 2 humans, 8.9ms\n",
            "image 187/603 /content/smart-poultry-farm-litter-raking-3/test/images/Litter-raking-Images-1773-_png_jpg.rf.a0165cc5296782980c8a2e8b0ac8bc0e.jpg: 640x640 2 humans, 1 machine, 7.3ms\n",
            "image 188/603 /content/smart-poultry-farm-litter-raking-3/test/images/Litter-raking-Images-1775-_png_jpg.rf.4baae2d83bb092a0d6c22dc9b6a37566.jpg: 640x640 2 humans, 1 machine, 7.5ms\n",
            "image 189/603 /content/smart-poultry-farm-litter-raking-3/test/images/Litter-raking-Images-1777-_png_jpg.rf.31cfdfdad0453ada0b43be083a40cc24.jpg: 640x640 2 humans, 1 machine, 7.3ms\n",
            "image 190/603 /content/smart-poultry-farm-litter-raking-3/test/images/Litter-raking-Images-1778-_png_jpg.rf.64f1b53545f93e238f962813fa4f416c.jpg: 640x640 2 humans, 1 machine, 7.3ms\n",
            "image 191/603 /content/smart-poultry-farm-litter-raking-3/test/images/Litter-raking-Images-1779-_png_jpg.rf.1cf4bb7065f5860cea7e5258d6c64489.jpg: 640x640 2 humans, 1 machine, 7.3ms\n",
            "image 192/603 /content/smart-poultry-farm-litter-raking-3/test/images/Litter-raking-Images-1780-_png_jpg.rf.fe5a98e7b99b7c1b1cd7c6341bcf3c65.jpg: 640x640 2 humans, 1 machine, 7.3ms\n",
            "image 193/603 /content/smart-poultry-farm-litter-raking-3/test/images/Litter-raking-Images-1781-_png_jpg.rf.1e2ad7840949dbae7689a7f33732517f.jpg: 640x640 2 humans, 1 machine, 7.5ms\n",
            "image 194/603 /content/smart-poultry-farm-litter-raking-3/test/images/Litter-raking-Images-1782-_png_jpg.rf.06fb1cc7959c810e4c7c4a230779d3f2.jpg: 640x640 2 humans, 1 machine, 7.3ms\n",
            "image 195/603 /content/smart-poultry-farm-litter-raking-3/test/images/Litter-raking-Images-1783-_png_jpg.rf.cae1bb5c335545f495547a3302372251.jpg: 640x640 2 humans, 1 machine, 7.3ms\n",
            "image 196/603 /content/smart-poultry-farm-litter-raking-3/test/images/Litter-raking-Images-1784-_png_jpg.rf.ee0c3217f3a328dacdbb4544497d8f71.jpg: 640x640 2 humans, 1 machine, 7.4ms\n",
            "image 197/603 /content/smart-poultry-farm-litter-raking-3/test/images/Litter-raking-Images-1785-_png_jpg.rf.14f1c25ce6f89188b92535f89ba94671.jpg: 640x640 2 humans, 1 machine, 7.3ms\n",
            "image 198/603 /content/smart-poultry-farm-litter-raking-3/test/images/Litter-raking-Images-1786-_png_jpg.rf.fe8c610718f874679eca5c3f1d3d5c4b.jpg: 640x640 2 humans, 7.3ms\n",
            "image 199/603 /content/smart-poultry-farm-litter-raking-3/test/images/Litter-raking-Images-1787-_png_jpg.rf.89927ea5178bbc17db7cddc561a0f19f.jpg: 640x640 2 humans, 7.3ms\n",
            "image 200/603 /content/smart-poultry-farm-litter-raking-3/test/images/Litter-raking-Images-1788-_png_jpg.rf.ec1e1d65ba603cfaa3be55a69608749e.jpg: 640x640 2 humans, 1 machine, 7.3ms\n",
            "image 201/603 /content/smart-poultry-farm-litter-raking-3/test/images/Litter-raking-Images-1789-_png_jpg.rf.334be2e09c9207e718d8fcfc4f518206.jpg: 640x640 2 humans, 1 machine, 7.3ms\n",
            "image 202/603 /content/smart-poultry-farm-litter-raking-3/test/images/Litter-raking-Images-1790-_png_jpg.rf.70c98020772c96dd8c364748bd2c0b55.jpg: 640x640 2 humans, 1 machine, 7.3ms\n",
            "image 203/603 /content/smart-poultry-farm-litter-raking-3/test/images/Litter-raking-Images-1791-_png_jpg.rf.398f76e1794e737c66ceaef7b1c033c6.jpg: 640x640 2 humans, 1 machine, 7.3ms\n",
            "image 204/603 /content/smart-poultry-farm-litter-raking-3/test/images/Litter-raking-Images-1792-_png_jpg.rf.02525a9d4ceb58b0d125e6f9402f5840.jpg: 640x640 2 humans, 1 machine, 7.4ms\n",
            "image 205/603 /content/smart-poultry-farm-litter-raking-3/test/images/Litter-raking-Images-1793-_png_jpg.rf.7cb3669b5944e1b5ef20572be629bbc5.jpg: 640x640 2 humans, 7.9ms\n",
            "image 206/603 /content/smart-poultry-farm-litter-raking-3/test/images/Litter-raking-Images-1794-_png_jpg.rf.4b340c32ea967cd20ea13b1694a0080a.jpg: 640x640 2 humans, 1 machine, 11.4ms\n",
            "image 207/603 /content/smart-poultry-farm-litter-raking-3/test/images/Litter-raking-Images-1795-_png_jpg.rf.46e9bfa0e2b09b88f86968ab894d5f29.jpg: 640x640 2 humans, 1 machine, 7.5ms\n",
            "image 208/603 /content/smart-poultry-farm-litter-raking-3/test/images/Litter-raking-Images-1796-_png_jpg.rf.180f833b0ccb51584e6588dc75eee38c.jpg: 640x640 2 humans, 1 machine, 7.3ms\n",
            "image 209/603 /content/smart-poultry-farm-litter-raking-3/test/images/Litter-raking-Images-1797-_png_jpg.rf.23a57031d1fd0afd5adbfc3c04f314a8.jpg: 640x640 2 humans, 2 machines, 7.3ms\n",
            "image 210/603 /content/smart-poultry-farm-litter-raking-3/test/images/Litter-raking-Images-1798-_png_jpg.rf.fdece19d51a6344c3ae2600bea436885.jpg: 640x640 2 humans, 7.3ms\n",
            "image 211/603 /content/smart-poultry-farm-litter-raking-3/test/images/Litter-raking-Images-1799-_png_jpg.rf.555d431ad85e342734936bed1db02699.jpg: 640x640 2 humans, 1 machine, 7.3ms\n",
            "image 212/603 /content/smart-poultry-farm-litter-raking-3/test/images/Litter-raking-Images-1800-_png_jpg.rf.f725febc37ff3fad41948810c66d3dee.jpg: 640x640 2 humans, 2 machines, 7.3ms\n",
            "image 213/603 /content/smart-poultry-farm-litter-raking-3/test/images/Litter-raking-Images-1801-_png_jpg.rf.3334b92c9a97f086a5b019bb75fb2dff.jpg: 640x640 2 humans, 1 machine, 7.5ms\n",
            "image 214/603 /content/smart-poultry-farm-litter-raking-3/test/images/Litter-raking-Images-1802-_png_jpg.rf.f8ba319c9ee51a2c43dd6faf306d3156.jpg: 640x640 2 humans, 1 machine, 7.3ms\n",
            "image 215/603 /content/smart-poultry-farm-litter-raking-3/test/images/Litter-raking-Images-1803-_png_jpg.rf.27cb5703488617616324e987eb934176.jpg: 640x640 2 humans, 7.4ms\n",
            "image 216/603 /content/smart-poultry-farm-litter-raking-3/test/images/Litter-raking-Images-1804-_png_jpg.rf.74581a123cf27916706252a43efa09e7.jpg: 640x640 2 humans, 7.4ms\n",
            "image 217/603 /content/smart-poultry-farm-litter-raking-3/test/images/Litter-raking-Images-1805-_png_jpg.rf.9a8f02d297ecdfde4010df2acdfeeb29.jpg: 640x640 2 humans, 7.3ms\n",
            "image 218/603 /content/smart-poultry-farm-litter-raking-3/test/images/Litter-raking-Images-1806-_png_jpg.rf.2e9f9177fad712ebcb9ca60fd47dab66.jpg: 640x640 2 humans, 7.3ms\n",
            "image 219/603 /content/smart-poultry-farm-litter-raking-3/test/images/Litter-raking-Images-1807-_png_jpg.rf.582ea1bfc6364694cea97d36babab12d.jpg: 640x640 2 humans, 7.3ms\n",
            "image 220/603 /content/smart-poultry-farm-litter-raking-3/test/images/Litter-raking-Images-1808-_png_jpg.rf.27c28ba948807fa1acb1587974bae126.jpg: 640x640 2 humans, 8.1ms\n",
            "image 221/603 /content/smart-poultry-farm-litter-raking-3/test/images/Litter-raking-Images-1809-_png_jpg.rf.7606d4627aa2d9c779f1b3d69deb870e.jpg: 640x640 2 humans, 1 machine, 7.4ms\n",
            "image 222/603 /content/smart-poultry-farm-litter-raking-3/test/images/Litter-raking-Images-1810-_png_jpg.rf.b7f1e0f80f43edfe829b121e9efb9b0d.jpg: 640x640 2 humans, 1 machine, 7.4ms\n",
            "image 223/603 /content/smart-poultry-farm-litter-raking-3/test/images/Litter-raking-Images-1811-_png_jpg.rf.e194ae7f0222e03d2c9fcbae60c1aba1.jpg: 640x640 2 humans, 1 machine, 7.3ms\n",
            "image 224/603 /content/smart-poultry-farm-litter-raking-3/test/images/Litter-raking-Images-1812-_png_jpg.rf.9f4f4d0092e9600c8e14d9bfd8394610.jpg: 640x640 2 humans, 1 machine, 7.3ms\n",
            "image 225/603 /content/smart-poultry-farm-litter-raking-3/test/images/Litter-raking-Images-1813-_png_jpg.rf.6e174a2708e46f7208c06dc22d47bdf3.jpg: 640x640 2 humans, 1 machine, 7.3ms\n",
            "image 226/603 /content/smart-poultry-farm-litter-raking-3/test/images/Litter-raking-Images-1814-_png_jpg.rf.1eabc8eeafd0b828aa19a1a5c5c69caa.jpg: 640x640 2 humans, 1 machine, 7.3ms\n",
            "image 227/603 /content/smart-poultry-farm-litter-raking-3/test/images/Litter-raking-Images-1815-_png_jpg.rf.bb03f2a8896cc90517a1979188301e79.jpg: 640x640 2 humans, 1 machine, 7.3ms\n",
            "image 228/603 /content/smart-poultry-farm-litter-raking-3/test/images/Litter-raking-Images-1816-_png_jpg.rf.67ab09d0c33a2818f7ff04ca47b96d0d.jpg: 640x640 2 humans, 1 machine, 7.3ms\n",
            "image 229/603 /content/smart-poultry-farm-litter-raking-3/test/images/Litter-raking-Images-1817-_png_jpg.rf.f25541044b662b0fa72c6dcbe3c5902e.jpg: 640x640 2 humans, 1 machine, 7.3ms\n",
            "image 230/603 /content/smart-poultry-farm-litter-raking-3/test/images/Litter-raking-Images-1818-_png_jpg.rf.230053540adb4ffabbc7e9ba711a2435.jpg: 640x640 2 humans, 1 machine, 7.9ms\n",
            "image 231/603 /content/smart-poultry-farm-litter-raking-3/test/images/Litter-raking-Images-1819-_png_jpg.rf.aef3aeb1efa2d49d175e8e86647f73ef.jpg: 640x640 2 humans, 1 machine, 7.3ms\n",
            "image 232/603 /content/smart-poultry-farm-litter-raking-3/test/images/Litter-raking-Images-1820-_png_jpg.rf.c5ca163235c9e6c56b2004dae2e5222b.jpg: 640x640 2 humans, 1 machine, 7.3ms\n",
            "image 233/603 /content/smart-poultry-farm-litter-raking-3/test/images/Litter-raking-Images-1821-_png_jpg.rf.c10d4e5d1363f95807f346f79809f897.jpg: 640x640 2 humans, 1 machine, 7.3ms\n",
            "image 234/603 /content/smart-poultry-farm-litter-raking-3/test/images/Litter-raking-Images-1822-_png_jpg.rf.8d6cf85ed4b09e40618f0d911144be65.jpg: 640x640 2 humans, 1 machine, 8.8ms\n",
            "image 235/603 /content/smart-poultry-farm-litter-raking-3/test/images/Litter-raking-Images-1823-_png_jpg.rf.90b9069e7799732fefe5c8fd86770a64.jpg: 640x640 2 humans, 1 machine, 7.3ms\n",
            "image 236/603 /content/smart-poultry-farm-litter-raking-3/test/images/Litter-raking-Images-1824-_png_jpg.rf.f9506f64c7f3acc15d7ecd1270d66ff5.jpg: 640x640 2 humans, 1 machine, 7.3ms\n",
            "image 237/603 /content/smart-poultry-farm-litter-raking-3/test/images/Litter-raking-Images-1825-_png_jpg.rf.ff783788bd8cc1e36cf203cd5c6d861d.jpg: 640x640 2 humans, 1 machine, 7.3ms\n",
            "image 238/603 /content/smart-poultry-farm-litter-raking-3/test/images/Litter-raking-Images-1826-_png_jpg.rf.da877c7e5dba0716a798927dff5683bc.jpg: 640x640 2 humans, 1 machine, 7.3ms\n",
            "image 239/603 /content/smart-poultry-farm-litter-raking-3/test/images/Litter-raking-Images-1827-_png_jpg.rf.da53e7802217344f134664e64a98df23.jpg: 640x640 2 humans, 1 machine, 7.3ms\n",
            "image 240/603 /content/smart-poultry-farm-litter-raking-3/test/images/Litter-raking-Images-1828-_png_jpg.rf.9884444a1b148075f6ebf39dde8a819e.jpg: 640x640 2 humans, 1 machine, 7.3ms\n",
            "image 241/603 /content/smart-poultry-farm-litter-raking-3/test/images/Litter-raking-Images-1829-_png_jpg.rf.34ac959811184a4258f935f160b5fdb7.jpg: 640x640 2 humans, 1 machine, 7.3ms\n",
            "image 242/603 /content/smart-poultry-farm-litter-raking-3/test/images/Litter-raking-Images-1830-_png_jpg.rf.69603275ca9223f60229209ec107a107.jpg: 640x640 2 humans, 2 machines, 7.3ms\n",
            "image 243/603 /content/smart-poultry-farm-litter-raking-3/test/images/Litter-raking-Images-660-_png_jpg.rf.e168fb8ed1021cebfbab1117bdcd3f50.jpg: 640x640 2 humans, 1 machine, 7.3ms\n",
            "image 244/603 /content/smart-poultry-farm-litter-raking-3/test/images/Litter-raking-Images-661-_png_jpg.rf.10d7ec7c3e14cd03ab3601dc6781e0ec.jpg: 640x640 2 humans, 1 machine, 7.3ms\n",
            "image 245/603 /content/smart-poultry-farm-litter-raking-3/test/images/Litter-raking-Images-662-_png_jpg.rf.daa0160b223a322865ef6fc02e1e6452.jpg: 640x640 2 humans, 1 machine, 7.3ms\n",
            "image 246/603 /content/smart-poultry-farm-litter-raking-3/test/images/Litter-raking-Images-663-_png_jpg.rf.3e05ea6c3fbc9461cea75f1b433c6d5a.jpg: 640x640 2 humans, 1 machine, 7.3ms\n",
            "image 247/603 /content/smart-poultry-farm-litter-raking-3/test/images/Litter-raking-Images-664-_png_jpg.rf.42f9ab2d84b590ba78d57658b0d872ff.jpg: 640x640 2 humans, 1 machine, 7.6ms\n",
            "image 248/603 /content/smart-poultry-farm-litter-raking-3/test/images/Litter-raking-Images-665-_png_jpg.rf.6d002c0e0eb04c6fa670abaa28d8b2e8.jpg: 640x640 2 humans, 1 machine, 10.5ms\n",
            "image 249/603 /content/smart-poultry-farm-litter-raking-3/test/images/Litter-raking-Images-666-_png_jpg.rf.5c3a15828f5aac4134062ef5f15e1470.jpg: 640x640 2 humans, 2 machines, 13.5ms\n",
            "image 250/603 /content/smart-poultry-farm-litter-raking-3/test/images/Litter-raking-Images-667-_png_jpg.rf.1a61f94422ebda55b9ca283e7afd1286.jpg: 640x640 2 humans, 1 machine, 10.0ms\n",
            "image 251/603 /content/smart-poultry-farm-litter-raking-3/test/images/Litter-raking-Images-668-_png_jpg.rf.817ff06fde8a2e6e7bf4a26aea77e811.jpg: 640x640 2 humans, 1 machine, 14.6ms\n",
            "image 252/603 /content/smart-poultry-farm-litter-raking-3/test/images/Litter-raking-Images-669-_png_jpg.rf.f5b99ecbecdc9a6b68b7bd472d0c2f1d.jpg: 640x640 2 humans, 1 machine, 11.4ms\n",
            "image 253/603 /content/smart-poultry-farm-litter-raking-3/test/images/Litter-raking-Images-670-_png_jpg.rf.c748ad4fdc3c0127a3bff1739fc211ca.jpg: 640x640 2 humans, 2 machines, 62.6ms\n",
            "image 254/603 /content/smart-poultry-farm-litter-raking-3/test/images/Litter-raking-Images-671-_png_jpg.rf.bce5d2dd070fe5a7de26e0f5e5aa22f7.jpg: 640x640 2 humans, 1 machine, 9.4ms\n",
            "image 255/603 /content/smart-poultry-farm-litter-raking-3/test/images/Litter-raking-Images-672-_png_jpg.rf.24d3145af056ce777c1294551f0e13df.jpg: 640x640 2 humans, 1 machine, 9.4ms\n",
            "image 256/603 /content/smart-poultry-farm-litter-raking-3/test/images/Litter-raking-Images-673-_png_jpg.rf.56365da3415758a2a0e05b6a68fecf98.jpg: 640x640 2 humans, 2 machines, 9.8ms\n",
            "image 257/603 /content/smart-poultry-farm-litter-raking-3/test/images/Litter-raking-Images-674-_png_jpg.rf.28c26b80907dfd998ad5728ba1b71b25.jpg: 640x640 2 humans, 1 machine, 9.5ms\n",
            "image 258/603 /content/smart-poultry-farm-litter-raking-3/test/images/Litter-raking-Images-675-_png_jpg.rf.eb2e5d7ba225e7ad072e2c92f1f99cba.jpg: 640x640 2 humans, 1 machine, 12.3ms\n",
            "image 259/603 /content/smart-poultry-farm-litter-raking-3/test/images/Litter-raking-Images-676-_png_jpg.rf.20e50628a1cff28ef31eba6fe320b98e.jpg: 640x640 2 humans, 1 machine, 16.6ms\n",
            "image 260/603 /content/smart-poultry-farm-litter-raking-3/test/images/Litter-raking-Images-677-_png_jpg.rf.1fb4b382acd4b55b80019fdf17bc2018.jpg: 640x640 2 humans, 1 machine, 9.9ms\n",
            "image 261/603 /content/smart-poultry-farm-litter-raking-3/test/images/Litter-raking-Images-678-_png_jpg.rf.ff5cdfde11dee4888b3de21f5354a32e.jpg: 640x640 2 humans, 1 machine, 10.2ms\n",
            "image 262/603 /content/smart-poultry-farm-litter-raking-3/test/images/Litter-raking-Images-679-_png_jpg.rf.154c53d6f8d10a969dc66a29de61fda5.jpg: 640x640 2 humans, 1 machine, 80.9ms\n",
            "image 263/603 /content/smart-poultry-farm-litter-raking-3/test/images/Litter-raking-Images-680-_png_jpg.rf.1eea8bb562400d9fea27f5e66d8342a3.jpg: 640x640 2 humans, 1 machine, 66.3ms\n",
            "image 264/603 /content/smart-poultry-farm-litter-raking-3/test/images/Litter-raking-Images-681-_png_jpg.rf.92421ac3ba0a366b22c6543faad37887.jpg: 640x640 2 humans, 1 machine, 9.1ms\n",
            "image 265/603 /content/smart-poultry-farm-litter-raking-3/test/images/Litter-raking-Images-682-_png_jpg.rf.802800a40130e546b0432d0da69325a4.jpg: 640x640 2 humans, 1 machine, 8.8ms\n",
            "image 266/603 /content/smart-poultry-farm-litter-raking-3/test/images/Litter-raking-Images-683-_png_jpg.rf.53e217d43960c89389594271e163bfe7.jpg: 640x640 2 humans, 1 machine, 11.3ms\n",
            "image 267/603 /content/smart-poultry-farm-litter-raking-3/test/images/Litter-raking-Images-684-_png_jpg.rf.c9762fabf7afa62fbe5010587cdb4f0f.jpg: 640x640 2 humans, 2 machines, 11.5ms\n",
            "image 268/603 /content/smart-poultry-farm-litter-raking-3/test/images/Litter-raking-Images-685-_png_jpg.rf.0d1743b7f35e918eb3620f8dbcf5f2ec.jpg: 640x640 2 humans, 1 machine, 9.2ms\n",
            "image 269/603 /content/smart-poultry-farm-litter-raking-3/test/images/Litter-raking-Images-686-_png_jpg.rf.3ae9058a922354bd721d7c8fba65d934.jpg: 640x640 2 humans, 1 machine, 8.9ms\n",
            "image 270/603 /content/smart-poultry-farm-litter-raking-3/test/images/Litter-raking-Images-687-_png_jpg.rf.f4775f51939783bced5e00d85270ac57.jpg: 640x640 2 humans, 1 machine, 8.5ms\n",
            "image 271/603 /content/smart-poultry-farm-litter-raking-3/test/images/Litter-raking-Images-688-_png_jpg.rf.31b7b3002a73887de62709fdda9d4a2a.jpg: 640x640 2 humans, 1 machine, 8.9ms\n",
            "image 272/603 /content/smart-poultry-farm-litter-raking-3/test/images/Litter-raking-Images-689-_png_jpg.rf.28113df8848f957b6c3b3096189ff253.jpg: 640x640 2 humans, 1 machine, 58.7ms\n",
            "image 273/603 /content/smart-poultry-farm-litter-raking-3/test/images/Litter-raking-Images-690-_png_jpg.rf.a8f39d251ec38b578fffa11f424d4bc0.jpg: 640x640 2 humans, 2 machines, 40.1ms\n",
            "image 274/603 /content/smart-poultry-farm-litter-raking-3/test/images/Litter-raking-Images-691-_png_jpg.rf.1ac53b2d97fe89e96a7bab67f1bd31bd.jpg: 640x640 2 humans, 1 machine, 15.7ms\n",
            "image 275/603 /content/smart-poultry-farm-litter-raking-3/test/images/Litter-raking-Images-692-_png_jpg.rf.e531277d8339a6428d529dd40c651adc.jpg: 640x640 2 humans, 1 machine, 9.7ms\n",
            "image 276/603 /content/smart-poultry-farm-litter-raking-3/test/images/Litter-raking-Images-693-_png_jpg.rf.a399b93946d1c36131bdefcd4d629097.jpg: 640x640 2 humans, 1 machine, 9.7ms\n",
            "image 277/603 /content/smart-poultry-farm-litter-raking-3/test/images/Litter-raking-Images-694-_png_jpg.rf.c44b349ec11fda780230e4d171d32a45.jpg: 640x640 2 humans, 1 machine, 9.9ms\n",
            "image 278/603 /content/smart-poultry-farm-litter-raking-3/test/images/Litter-raking-Images-695-_png_jpg.rf.5e3e106202ad7486f72cdfde38363199.jpg: 640x640 2 humans, 1 machine, 12.1ms\n",
            "image 279/603 /content/smart-poultry-farm-litter-raking-3/test/images/Litter-raking-Images-696-_png_jpg.rf.74b61930977ffb96606eaf64b2be8ec1.jpg: 640x640 2 humans, 1 machine, 12.3ms\n",
            "image 280/603 /content/smart-poultry-farm-litter-raking-3/test/images/Litter-raking-Images-697-_png_jpg.rf.101b38bb276e39594d47a43c36d28ece.jpg: 640x640 2 humans, 1 machine, 12.3ms\n",
            "image 281/603 /content/smart-poultry-farm-litter-raking-3/test/images/Litter-raking-Images-698-_png_jpg.rf.6f93722a4ba5ad2fab11f8a70ebebfb9.jpg: 640x640 2 humans, 1 machine, 13.3ms\n",
            "image 282/603 /content/smart-poultry-farm-litter-raking-3/test/images/Litter-raking-Images-699-_png_jpg.rf.9b17d24caeb01a8183f5e154c33f41b8.jpg: 640x640 2 humans, 1 machine, 14.1ms\n",
            "image 283/603 /content/smart-poultry-farm-litter-raking-3/test/images/Litter-raking-Images-700-_png_jpg.rf.274a57c35aaa3d26a2e57d91b29908c7.jpg: 640x640 2 humans, 1 machine, 11.5ms\n",
            "image 284/603 /content/smart-poultry-farm-litter-raking-3/test/images/Litter-raking-Images-701-_png_jpg.rf.303dd9b4149352e6fce53bada964dd6e.jpg: 640x640 2 humans, 1 machine, 7.3ms\n",
            "image 285/603 /content/smart-poultry-farm-litter-raking-3/test/images/Litter-raking-Images-702-_png_jpg.rf.ae8ff59c1c2a161d11c67bd3980a90c6.jpg: 640x640 2 humans, 7.3ms\n",
            "image 286/603 /content/smart-poultry-farm-litter-raking-3/test/images/Litter-raking-Images-703-_png_jpg.rf.b447ace9f0eca4c629c7ea6b198d3b35.jpg: 640x640 2 humans, 7.3ms\n",
            "image 287/603 /content/smart-poultry-farm-litter-raking-3/test/images/Litter-raking-Images-704-_png_jpg.rf.72b60aa2e5ec6b3cd437b42f66a19341.jpg: 640x640 2 humans, 7.4ms\n",
            "image 288/603 /content/smart-poultry-farm-litter-raking-3/test/images/Litter-raking-Images-705-_png_jpg.rf.0554770b4f7299ee7d3fff499ec40d00.jpg: 640x640 2 humans, 7.4ms\n",
            "image 289/603 /content/smart-poultry-farm-litter-raking-3/test/images/Litter-raking-Images-706-_png_jpg.rf.c625f1ff65c8430c6477221e90ba2295.jpg: 640x640 2 humans, 1 machine, 7.7ms\n",
            "image 290/603 /content/smart-poultry-farm-litter-raking-3/test/images/Litter-raking-Images-707-_png_jpg.rf.23326c4c6d0546a4bcd79bd4523254b5.jpg: 640x640 2 humans, 1 machine, 7.3ms\n",
            "image 291/603 /content/smart-poultry-farm-litter-raking-3/test/images/Litter-raking-Images-708-_png_jpg.rf.833cd30116c2b0d0bec4f970119c79ed.jpg: 640x640 2 humans, 1 machine, 7.3ms\n",
            "image 292/603 /content/smart-poultry-farm-litter-raking-3/test/images/Litter-raking-Images-709-_png_jpg.rf.612ba44dbe1d8c9dc683a1a26db1b1ff.jpg: 640x640 2 humans, 1 machine, 7.3ms\n",
            "image 293/603 /content/smart-poultry-farm-litter-raking-3/test/images/Litter-raking-Images-710-_png_jpg.rf.86fa6028a75ed7205b735da6c2d3372e.jpg: 640x640 2 humans, 1 machine, 7.3ms\n",
            "image 294/603 /content/smart-poultry-farm-litter-raking-3/test/images/Litter-raking-Images-711-_png_jpg.rf.616c6f31d1fb62cfc31835625fbbfdc5.jpg: 640x640 2 humans, 8.2ms\n",
            "image 295/603 /content/smart-poultry-farm-litter-raking-3/test/images/Litter-raking-Images-712-_png_jpg.rf.cc9bf2d7d2b80d665117ea768f1c3106.jpg: 640x640 2 humans, 1 machine, 7.8ms\n",
            "image 296/603 /content/smart-poultry-farm-litter-raking-3/test/images/Litter-raking-Images-713-_png_jpg.rf.96fe887fad88e31b52e6528e26245d51.jpg: 640x640 2 humans, 1 machine, 7.3ms\n",
            "image 297/603 /content/smart-poultry-farm-litter-raking-3/test/images/Litter-raking-Images-714-_png_jpg.rf.8ff99745c765cc51dd4cb2a7fe0d2587.jpg: 640x640 2 humans, 1 machine, 7.4ms\n",
            "image 298/603 /content/smart-poultry-farm-litter-raking-3/test/images/Litter-raking-Images-715-_png_jpg.rf.37fb3912336b0bfe824de7f3d08805ac.jpg: 640x640 2 humans, 1 machine, 7.3ms\n",
            "image 299/603 /content/smart-poultry-farm-litter-raking-3/test/images/Litter-raking-Images-716-_png_jpg.rf.56b94e48ec3716173db881a606e99ddf.jpg: 640x640 2 humans, 1 machine, 7.6ms\n",
            "image 300/603 /content/smart-poultry-farm-litter-raking-3/test/images/Litter-raking-Images-717-_png_jpg.rf.f0ed921b786b6b71ce24d2199ee72c17.jpg: 640x640 2 humans, 1 machine, 7.3ms\n",
            "image 301/603 /content/smart-poultry-farm-litter-raking-3/test/images/Litter-raking-Images-718-_png_jpg.rf.dda6e855126c523234021da9be633f14.jpg: 640x640 2 humans, 1 machine, 11.2ms\n",
            "image 302/603 /content/smart-poultry-farm-litter-raking-3/test/images/Litter-raking-Images-719-_png_jpg.rf.7ca7ed8c1f996851d526965d8ba3aaca.jpg: 640x640 2 humans, 1 machine, 7.4ms\n",
            "image 303/603 /content/smart-poultry-farm-litter-raking-3/test/images/Litter-raking-Images-720-_png_jpg.rf.1ac7200af781dc4b75ff1e6e4c07a8f0.jpg: 640x640 2 humans, 1 machine, 7.3ms\n",
            "image 304/603 /content/smart-poultry-farm-litter-raking-3/test/images/Litter-raking-Images-721-_png_jpg.rf.bf42011d46e35a29afd3e4a78ea05f2c.jpg: 640x640 2 humans, 7.3ms\n",
            "image 305/603 /content/smart-poultry-farm-litter-raking-3/test/images/Litter-raking-Images-722-_png_jpg.rf.d9a32ce8bd9afd2805e7aa83c37920e7.jpg: 640x640 2 humans, 7.3ms\n",
            "image 306/603 /content/smart-poultry-farm-litter-raking-3/test/images/Litter-raking-Images-723-_png_jpg.rf.52765121290fcfa9c5abe9d14339e0e7.jpg: 640x640 2 humans, 1 machine, 7.3ms\n",
            "image 307/603 /content/smart-poultry-farm-litter-raking-3/test/images/Litter-raking-Images-724-_png_jpg.rf.7f0ddcc0398983ddf8f6d45173997a65.jpg: 640x640 2 humans, 1 machine, 7.3ms\n",
            "image 308/603 /content/smart-poultry-farm-litter-raking-3/test/images/Litter-raking-Images-725-_png_jpg.rf.63e8a26c30a0a43d335128e51eec0eb6.jpg: 640x640 2 humans, 1 machine, 8.2ms\n",
            "image 309/603 /content/smart-poultry-farm-litter-raking-3/test/images/Litter-raking-Images-731-_png_jpg.rf.26f7362a9237f31a9da970cb464a452d.jpg: 640x640 2 humans, 1 machine, 7.3ms\n",
            "image 310/603 /content/smart-poultry-farm-litter-raking-3/test/images/Litter-raking-Images-732-_png_jpg.rf.d5e7c6a2fdb25824796cf4d361ce44a1.jpg: 640x640 2 humans, 1 machine, 7.3ms\n",
            "image 311/603 /content/smart-poultry-farm-litter-raking-3/test/images/Litter-raking-Images-733-_png_jpg.rf.242ccdb316a24169af2a39cf1c23fbb8.jpg: 640x640 2 humans, 1 machine, 7.3ms\n",
            "image 312/603 /content/smart-poultry-farm-litter-raking-3/test/images/Litter-raking-Images-734-_png_jpg.rf.07b3f92e44e04fc05b7bc8f56eaf1a44.jpg: 640x640 2 humans, 1 machine, 7.4ms\n",
            "image 313/603 /content/smart-poultry-farm-litter-raking-3/test/images/Litter-raking-Images-735-_png_jpg.rf.74d923de54a4584c08ae1a4cf43dfd8c.jpg: 640x640 2 humans, 1 machine, 7.6ms\n",
            "image 314/603 /content/smart-poultry-farm-litter-raking-3/test/images/Litter-raking-Images-736-_png_jpg.rf.e4174773daa36d94e4310fe713f61e7b.jpg: 640x640 2 humans, 1 machine, 12.0ms\n",
            "image 315/603 /content/smart-poultry-farm-litter-raking-3/test/images/Litter-raking-Images-737-_png_jpg.rf.de90d02f063e3b302ea3e646ec4ad39c.jpg: 640x640 2 humans, 1 machine, 7.3ms\n",
            "image 316/603 /content/smart-poultry-farm-litter-raking-3/test/images/Litter-raking-Images-738-_png_jpg.rf.4d84a09e0c5c4b46cea6341eeb6b0365.jpg: 640x640 2 humans, 1 machine, 7.3ms\n",
            "image 317/603 /content/smart-poultry-farm-litter-raking-3/test/images/Litter-raking-Images-739-_png_jpg.rf.0b0a4c38e12f1f8f1e034b3272187aeb.jpg: 640x640 2 humans, 1 machine, 8.1ms\n",
            "image 318/603 /content/smart-poultry-farm-litter-raking-3/test/images/Litter-raking-Images-740-_png_jpg.rf.3b9ca6e06411ca1b2e2fc04b2ef971a5.jpg: 640x640 2 humans, 8.3ms\n",
            "image 319/603 /content/smart-poultry-farm-litter-raking-3/test/images/Litter-raking-Images-741-_png_jpg.rf.35f3f2c241d6b2040b240e08749b0ac5.jpg: 640x640 2 humans, 7.5ms\n",
            "image 320/603 /content/smart-poultry-farm-litter-raking-3/test/images/Litter-raking-Images-742-_png_jpg.rf.dc44276747603786d74e948def34839c.jpg: 640x640 2 humans, 1 machine, 7.4ms\n",
            "image 321/603 /content/smart-poultry-farm-litter-raking-3/test/images/Litter-raking-Images-743-_png_jpg.rf.bfe0415556077c648bd3f2742534f77c.jpg: 640x640 2 humans, 1 machine, 7.3ms\n",
            "image 322/603 /content/smart-poultry-farm-litter-raking-3/test/images/Litter-raking-Images-744-_png_jpg.rf.4d927d20e58326bdc306baee8d7536a4.jpg: 640x640 2 humans, 1 machine, 7.3ms\n",
            "image 323/603 /content/smart-poultry-farm-litter-raking-3/test/images/Litter-raking-Images-745-_png_jpg.rf.f6cfc375e705693256f24fe7907dd6ac.jpg: 640x640 2 humans, 1 machine, 7.3ms\n",
            "image 324/603 /content/smart-poultry-farm-litter-raking-3/test/images/Litter-raking-Images-746-_png_jpg.rf.8e552ef4f321d191892436a0113343d8.jpg: 640x640 2 humans, 1 machine, 7.3ms\n",
            "image 325/603 /content/smart-poultry-farm-litter-raking-3/test/images/Litter-raking-Images-747-_png_jpg.rf.bb40ca0f1349402d115c1ac100fa9286.jpg: 640x640 2 humans, 1 machine, 7.4ms\n",
            "image 326/603 /content/smart-poultry-farm-litter-raking-3/test/images/Litter-raking-Images-748-_png_jpg.rf.7546f8fe0ca2be69b771a52ee16a67dc.jpg: 640x640 2 humans, 1 machine, 7.3ms\n",
            "image 327/603 /content/smart-poultry-farm-litter-raking-3/test/images/Litter-raking-Images-749-_png_jpg.rf.2872c7cd9a5b50973bd168c35980de96.jpg: 640x640 1 human, 1 machine, 7.3ms\n",
            "image 328/603 /content/smart-poultry-farm-litter-raking-3/test/images/Litter-raking-Images-750-_png_jpg.rf.79dac1ffd5b8a730478f576747a8fb57.jpg: 640x640 1 human, 1 machine, 7.3ms\n",
            "image 329/603 /content/smart-poultry-farm-litter-raking-3/test/images/Litter-raking-Images-751-_png_jpg.rf.d10cfb5928f21eaabd1bfab3eb2dbe08.jpg: 640x640 1 human, 1 machine, 7.3ms\n",
            "image 330/603 /content/smart-poultry-farm-litter-raking-3/test/images/Litter-raking-Images-752-_png_jpg.rf.41defdba618556f79c5d7a4cf1a4ae00.jpg: 640x640 1 human, 1 machine, 8.4ms\n",
            "image 331/603 /content/smart-poultry-farm-litter-raking-3/test/images/Litter-raking-Images-753-_png_jpg.rf.b06383643c5ae2c62e77d6822ce33f3b.jpg: 640x640 1 human, 7.4ms\n",
            "image 332/603 /content/smart-poultry-farm-litter-raking-3/test/images/Litter-raking-Images-754-_png_jpg.rf.e4b32fa104cfefc5f00ec0ff08ef51b3.jpg: 640x640 2 humans, 1 machine, 7.3ms\n",
            "image 333/603 /content/smart-poultry-farm-litter-raking-3/test/images/Litter-raking-Images-755-_png_jpg.rf.e6dc79d0d0ffb662917f1a736182d137.jpg: 640x640 2 humans, 1 machine, 11.9ms\n",
            "image 334/603 /content/smart-poultry-farm-litter-raking-3/test/images/Litter-raking-Images-756-_png_jpg.rf.fc8e80e4f1980dc6222620513b1fd71e.jpg: 640x640 1 human, 7.3ms\n",
            "image 335/603 /content/smart-poultry-farm-litter-raking-3/test/images/Litter-raking-Images-757-_png_jpg.rf.396b91d479ac738656382cef96791480.jpg: 640x640 2 humans, 7.3ms\n",
            "image 336/603 /content/smart-poultry-farm-litter-raking-3/test/images/Litter-raking-Images-758-_png_jpg.rf.79c22cdff384b2878d5ad8750323d22c.jpg: 640x640 2 humans, 7.3ms\n",
            "image 337/603 /content/smart-poultry-farm-litter-raking-3/test/images/Litter-raking-Images-759-_png_jpg.rf.0abe926fec78eb13d7962df74591a340.jpg: 640x640 2 humans, 7.3ms\n",
            "image 338/603 /content/smart-poultry-farm-litter-raking-3/test/images/Litter-raking-Images-760-_png_jpg.rf.dd2fbbf224f4b590eea4f53ca1c5126a.jpg: 640x640 2 humans, 1 machine, 7.4ms\n",
            "image 339/603 /content/smart-poultry-farm-litter-raking-3/test/images/Litter-raking-Images-761-_png_jpg.rf.b8fc0e38072cdfa933f0c8d94a469a82.jpg: 640x640 2 humans, 1 machine, 7.4ms\n",
            "image 340/603 /content/smart-poultry-farm-litter-raking-3/test/images/Litter-raking-Images-762-_png_jpg.rf.cac5197ea7ca81e9422939fad4c2fbab.jpg: 640x640 2 humans, 1 machine, 7.4ms\n",
            "image 341/603 /content/smart-poultry-farm-litter-raking-3/test/images/Litter-raking-Images-763-_png_jpg.rf.a5932be4689cf218f5a3a0b4ead268cc.jpg: 640x640 2 humans, 1 machine, 7.8ms\n",
            "image 342/603 /content/smart-poultry-farm-litter-raking-3/test/images/Litter-raking-Images-764-_png_jpg.rf.03a0f739736009ac5d8e4bf6ba9e4496.jpg: 640x640 2 humans, 1 machine, 7.3ms\n",
            "image 343/603 /content/smart-poultry-farm-litter-raking-3/test/images/Litter-raking-Images-765-_png_jpg.rf.4b01a04343568dc4c521dd891f093a00.jpg: 640x640 2 humans, 1 machine, 7.4ms\n",
            "image 344/603 /content/smart-poultry-farm-litter-raking-3/test/images/Litter-raking-Images-777-_png_jpg.rf.a5f20befdd009622bc4358e031734661.jpg: 640x640 2 humans, 1 machine, 7.3ms\n",
            "image 345/603 /content/smart-poultry-farm-litter-raking-3/test/images/Litter-raking-Images-778-_png_jpg.rf.afc8c82ddbc11f366301329311f34e83.jpg: 640x640 2 humans, 1 machine, 7.8ms\n",
            "image 346/603 /content/smart-poultry-farm-litter-raking-3/test/images/Litter-raking-Images-779-_png_jpg.rf.524cac8fa481a4049928242fcdd3d960.jpg: 640x640 2 humans, 1 machine, 7.8ms\n",
            "image 347/603 /content/smart-poultry-farm-litter-raking-3/test/images/Litter-raking-Images-780-_png_jpg.rf.cfa9a2760746b0fc140de94d53fc42cd.jpg: 640x640 2 humans, 1 machine, 7.3ms\n",
            "image 348/603 /content/smart-poultry-farm-litter-raking-3/test/images/Litter-raking-Images-783-_png_jpg.rf.43715fd4a3ba0906d78ef6fdab0d9749.jpg: 640x640 2 humans, 1 machine, 7.3ms\n",
            "image 349/603 /content/smart-poultry-farm-litter-raking-3/test/images/Litter-raking-Images-784-_png_jpg.rf.3ed2eeeeb5e3124cc6b1dbad09ad3917.jpg: 640x640 2 humans, 1 machine, 7.3ms\n",
            "image 350/603 /content/smart-poultry-farm-litter-raking-3/test/images/Litter-raking-Images-793-_png_jpg.rf.207142f0ed90bf17ac30fae9fd60cf91.jpg: 640x640 2 humans, 2 machines, 7.3ms\n",
            "image 351/603 /content/smart-poultry-farm-litter-raking-3/test/images/Litter-raking-Images-794-_png_jpg.rf.a3f2d197054ada33f769ea1314b81eb4.jpg: 640x640 2 humans, 1 machine, 7.7ms\n",
            "image 352/603 /content/smart-poultry-farm-litter-raking-3/test/images/Litter-raking-Images-795-_png_jpg.rf.326e5ca3865abdbbe8a617e4b853ade2.jpg: 640x640 2 humans, 1 machine, 7.3ms\n",
            "image 353/603 /content/smart-poultry-farm-litter-raking-3/test/images/Litter-raking-Images-796-_png_jpg.rf.201e0574d79d91db541104ef8674bc8e.jpg: 640x640 2 humans, 1 machine, 7.6ms\n",
            "image 354/603 /content/smart-poultry-farm-litter-raking-3/test/images/Litter-raking-Images-826-_png_jpg.rf.6bdc699b619c904f8d509a50f14e922d.jpg: 640x640 2 humans, 1 machine, 7.3ms\n",
            "image 355/603 /content/smart-poultry-farm-litter-raking-3/test/images/Litter-raking-Images-827-_jpg.rf.2b45fad42c4a927725cb8c8929c9c60c.jpg: 640x640 1 human, 1 machine, 7.3ms\n",
            "image 356/603 /content/smart-poultry-farm-litter-raking-3/test/images/Litter-raking-Images-827-_png_jpg.rf.c6b8d19b2f016d998cc8407bf9ab1d60.jpg: 640x640 2 humans, 1 machine, 8.8ms\n",
            "image 357/603 /content/smart-poultry-farm-litter-raking-3/test/images/Litter-raking-Images-828-_png_jpg.rf.f7d7bf54fa7ea2bb2a0139ff8b65e936.jpg: 640x640 2 humans, 1 machine, 7.3ms\n",
            "image 358/603 /content/smart-poultry-farm-litter-raking-3/test/images/Litter-raking-Images-829-_jpg.rf.71664a09b14c3db2a0187a05819c832a.jpg: 640x640 2 humans, 1 machine, 8.7ms\n",
            "image 359/603 /content/smart-poultry-farm-litter-raking-3/test/images/Litter-raking-Images-829-_png_jpg.rf.05b5ae26d08ad8757a740b2c4e799e4b.jpg: 640x640 2 humans, 1 machine, 7.3ms\n",
            "image 360/603 /content/smart-poultry-farm-litter-raking-3/test/images/Litter-raking-Images-830-_png_jpg.rf.97a0a4f7bcd4fe91a021469e4e32d6af.jpg: 640x640 2 humans, 1 machine, 7.3ms\n",
            "image 361/603 /content/smart-poultry-farm-litter-raking-3/test/images/Litter-raking-Images-831-_png_jpg.rf.5dd6d18a094ff4780936fb56462f3a8e.jpg: 640x640 2 humans, 1 machine, 7.4ms\n",
            "image 362/603 /content/smart-poultry-farm-litter-raking-3/test/images/Litter-raking-Images-831-_png_jpg.rf.a7c9af8db0029deffb34a8b1727bc6d2.jpg: 640x640 1 human, 1 machine, 7.4ms\n",
            "image 363/603 /content/smart-poultry-farm-litter-raking-3/test/images/Litter-raking-Images-832-_png_jpg.rf.8f1dde8442a7457e34901117520aac33.jpg: 640x640 1 human, 1 machine, 7.3ms\n",
            "image 364/603 /content/smart-poultry-farm-litter-raking-3/test/images/Litter-raking-Images-832-_png_jpg.rf.e7a2d7c0fa2fc1092bd0e7b6de9cb1e8.jpg: 640x640 2 humans, 1 machine, 7.3ms\n",
            "image 365/603 /content/smart-poultry-farm-litter-raking-3/test/images/Litter-raking-Images-833-_png_jpg.rf.8c7dbbde5a1e4a53720e15944da39b10.jpg: 640x640 1 human, 1 machine, 7.3ms\n",
            "image 366/603 /content/smart-poultry-farm-litter-raking-3/test/images/Litter-raking-Images-833-_png_jpg.rf.be0cbd5adb0382e70289c3757ab2b042.jpg: 640x640 2 humans, 1 machine, 7.3ms\n",
            "image 367/603 /content/smart-poultry-farm-litter-raking-3/test/images/Litter-raking-Images-834-_png_jpg.rf.4346e50345fb75e22f19b5870db22622.jpg: 640x640 2 humans, 1 machine, 7.3ms\n",
            "image 368/603 /content/smart-poultry-farm-litter-raking-3/test/images/Litter-raking-Images-834-_png_jpg.rf.8a43c10fd6037fae0d257e82e6c8953d.jpg: 640x640 1 human, 1 machine, 7.3ms\n",
            "image 369/603 /content/smart-poultry-farm-litter-raking-3/test/images/Litter-raking-Images-835-_png_jpg.rf.133816e22071448644c6936f5ba77f8b.jpg: 640x640 2 humans, 1 machine, 7.3ms\n",
            "image 370/603 /content/smart-poultry-farm-litter-raking-3/test/images/Litter-raking-Images-835-_png_jpg.rf.e0d538781895023f56571c3e2d165873.jpg: 640x640 1 human, 1 machine, 7.4ms\n",
            "image 371/603 /content/smart-poultry-farm-litter-raking-3/test/images/Litter-raking-Images-836-_png_jpg.rf.5aad10ac3bb8572b4746814459868c83.jpg: 640x640 2 humans, 1 machine, 7.4ms\n",
            "image 372/603 /content/smart-poultry-farm-litter-raking-3/test/images/Litter-raking-Images-837-_jpg.rf.e89a40c6bfa1011f83d6f778b9b94fb0.jpg: 640x640 1 human, 7.3ms\n",
            "image 373/603 /content/smart-poultry-farm-litter-raking-3/test/images/Litter-raking-Images-837-_png_jpg.rf.a422ca9d64fd490a336548b5d1f58832.jpg: 640x640 2 humans, 1 machine, 7.5ms\n",
            "image 374/603 /content/smart-poultry-farm-litter-raking-3/test/images/Litter-raking-Images-837-_png_jpg.rf.e728c3d79e9390979cf5ed929836deb0.jpg: 640x640 1 human, 1 machine, 7.3ms\n",
            "image 375/603 /content/smart-poultry-farm-litter-raking-3/test/images/Litter-raking-Images-838-_png_jpg.rf.46cfd193df9ad5a855b2cf5b9c0ee175.jpg: 640x640 2 humans, 1 machine, 7.4ms\n",
            "image 376/603 /content/smart-poultry-farm-litter-raking-3/test/images/Litter-raking-Images-839-_png_jpg.rf.4e8e6316e6a2a91c30ea6935c62a5040.jpg: 640x640 2 humans, 1 machine, 7.3ms\n",
            "image 377/603 /content/smart-poultry-farm-litter-raking-3/test/images/Litter-raking-Images-839-_png_jpg.rf.a8a60a8e85b8a984762b7b9044063a8f.jpg: 640x640 1 human, 1 machine, 7.3ms\n",
            "image 378/603 /content/smart-poultry-farm-litter-raking-3/test/images/Litter-raking-Images-840-_png_jpg.rf.afd6f9a2a7431948879666be2ed30187.jpg: 640x640 2 humans, 1 machine, 7.3ms\n",
            "image 379/603 /content/smart-poultry-farm-litter-raking-3/test/images/Litter-raking-Images-841-_png_jpg.rf.1430cee4fef631272dcadbcce4fe3972.jpg: 640x640 1 human, 7.3ms\n",
            "image 380/603 /content/smart-poultry-farm-litter-raking-3/test/images/Litter-raking-Images-841-_png_jpg.rf.402de8a0c04ed3fbfeea820c6f33925c.jpg: 640x640 2 humans, 1 machine, 7.3ms\n",
            "image 381/603 /content/smart-poultry-farm-litter-raking-3/test/images/Litter-raking-Images-842-_png_jpg.rf.7a6c2515a85fc28a598084064e2bfd83.jpg: 640x640 2 humans, 1 machine, 7.3ms\n",
            "image 382/603 /content/smart-poultry-farm-litter-raking-3/test/images/Litter-raking-Images-842-_png_jpg.rf.da1979c2d7c2e84c189106fd8505ae28.jpg: 640x640 1 human, 1 machine, 7.3ms\n",
            "image 383/603 /content/smart-poultry-farm-litter-raking-3/test/images/Litter-raking-Images-843-_png_jpg.rf.05b9a3f45ae3812a1fdfb2dd0a7b6bb9.jpg: 640x640 1 human, 1 machine, 7.3ms\n",
            "image 384/603 /content/smart-poultry-farm-litter-raking-3/test/images/Litter-raking-Images-843-_png_jpg.rf.24915897f320b1288279e14dffb8a7f2.jpg: 640x640 2 humans, 1 machine, 7.3ms\n",
            "image 385/603 /content/smart-poultry-farm-litter-raking-3/test/images/Litter-raking-Images-844-_png_jpg.rf.0628b928497302a569465458041b254d.jpg: 640x640 2 humans, 1 machine, 7.3ms\n",
            "image 386/603 /content/smart-poultry-farm-litter-raking-3/test/images/Litter-raking-Images-845-_png_jpg.rf.b68fe57b8629a66fcf9175f34cfc525b.jpg: 640x640 2 humans, 1 machine, 7.3ms\n",
            "image 387/603 /content/smart-poultry-farm-litter-raking-3/test/images/Litter-raking-Images-846-_png_jpg.rf.01e25792a00bd5c97a5810d201dcc803.jpg: 640x640 1 human, 1 machine, 7.4ms\n",
            "image 388/603 /content/smart-poultry-farm-litter-raking-3/test/images/Litter-raking-Images-846-_png_jpg.rf.f437c176fde0e1e8036d262ef188d237.jpg: 640x640 2 humans, 1 machine, 7.3ms\n",
            "image 389/603 /content/smart-poultry-farm-litter-raking-3/test/images/Litter-raking-Images-847-_png_jpg.rf.1134fbc864aae41c3c9a7efc44dbdd68.jpg: 640x640 2 humans, 1 machine, 7.3ms\n",
            "image 390/603 /content/smart-poultry-farm-litter-raking-3/test/images/Litter-raking-Images-848-_png_jpg.rf.6622e14f3c6ed0609d45559bf78212fe.jpg: 640x640 2 humans, 1 machine, 7.3ms\n",
            "image 391/603 /content/smart-poultry-farm-litter-raking-3/test/images/Litter-raking-Images-848-_png_jpg.rf.e2214ecb63662b37920429c820fac597.jpg: 640x640 1 human, 1 machine, 7.6ms\n",
            "image 392/603 /content/smart-poultry-farm-litter-raking-3/test/images/Litter-raking-Images-849-_png_jpg.rf.9625433afa6947ab55967faa285bab2c.jpg: 640x640 1 human, 1 machine, 7.7ms\n",
            "image 393/603 /content/smart-poultry-farm-litter-raking-3/test/images/Litter-raking-Images-849-_png_jpg.rf.afd9e652ac65e060ed491f325055c16b.jpg: 640x640 2 humans, 1 machine, 7.4ms\n",
            "image 394/603 /content/smart-poultry-farm-litter-raking-3/test/images/Litter-raking-Images-850-_png_jpg.rf.4770a9dade2c0851192437dc0ef6b024.jpg: 640x640 2 humans, 1 machine, 7.3ms\n",
            "image 395/603 /content/smart-poultry-farm-litter-raking-3/test/images/Litter-raking-Images-850-_png_jpg.rf.bff0618327904ce3d490097d55b2929e.jpg: 640x640 1 human, 1 machine, 10.6ms\n",
            "image 396/603 /content/smart-poultry-farm-litter-raking-3/test/images/Litter-raking-Images-851-_png_jpg.rf.26985bc0c456f01a62b353447d13e452.jpg: 640x640 1 human, 1 machine, 7.3ms\n",
            "image 397/603 /content/smart-poultry-farm-litter-raking-3/test/images/Litter-raking-Images-851-_png_jpg.rf.ce79b208a30068992f0ed7f8d5512542.jpg: 640x640 2 humans, 1 machine, 7.3ms\n",
            "image 398/603 /content/smart-poultry-farm-litter-raking-3/test/images/Litter-raking-Images-852-_png_jpg.rf.844e6988210c36a5558734ce08a75446.jpg: 640x640 1 human, 1 machine, 7.5ms\n",
            "image 399/603 /content/smart-poultry-farm-litter-raking-3/test/images/Litter-raking-Images-852-_png_jpg.rf.9a07cd418f49d707c19ee6ec8ea245d5.jpg: 640x640 2 humans, 1 machine, 7.3ms\n",
            "image 400/603 /content/smart-poultry-farm-litter-raking-3/test/images/Litter-raking-Images-853-_png_jpg.rf.9148b219c696408ad5e55c249849cce6.jpg: 640x640 2 humans, 1 machine, 7.3ms\n",
            "image 401/603 /content/smart-poultry-farm-litter-raking-3/test/images/Litter-raking-Images-854-_png_jpg.rf.4da1375ba1d4530113bea2cc1991c419.jpg: 640x640 2 humans, 1 machine, 7.4ms\n",
            "image 402/603 /content/smart-poultry-farm-litter-raking-3/test/images/Litter-raking-Images-855-_png_jpg.rf.ac86b9f02fa4025bbd8334ef92622e13.jpg: 640x640 2 humans, 1 machine, 7.3ms\n",
            "image 403/603 /content/smart-poultry-farm-litter-raking-3/test/images/Litter-raking-Images-856-_png_jpg.rf.17c7482c7b345a42e547afc581518512.jpg: 640x640 1 human, 1 machine, 7.3ms\n",
            "image 404/603 /content/smart-poultry-farm-litter-raking-3/test/images/Litter-raking-Images-856-_png_jpg.rf.780e383e7e1db54d3e6fe0804e2909b0.jpg: 640x640 2 humans, 1 machine, 7.3ms\n",
            "image 405/603 /content/smart-poultry-farm-litter-raking-3/test/images/Litter-raking-Images-857-_png_jpg.rf.0d964e605f06e34e001b7e3ed87ce76e.jpg: 640x640 2 humans, 1 machine, 7.3ms\n",
            "image 406/603 /content/smart-poultry-farm-litter-raking-3/test/images/Litter-raking-Images-857-_png_jpg.rf.4e01c6a3a83b36e9365f795ae03dc33e.jpg: 640x640 1 human, 1 machine, 8.6ms\n",
            "image 407/603 /content/smart-poultry-farm-litter-raking-3/test/images/Litter-raking-Images-858-_png_jpg.rf.2cc1a3d6e3bbf85f913feab670373dd5.jpg: 640x640 2 humans, 1 machine, 7.3ms\n",
            "image 408/603 /content/smart-poultry-farm-litter-raking-3/test/images/Litter-raking-Images-859-_png_jpg.rf.1a7a89f22dc3537c62d16d356cfa69fe.jpg: 640x640 1 human, 1 machine, 12.2ms\n",
            "image 409/603 /content/smart-poultry-farm-litter-raking-3/test/images/Litter-raking-Images-859-_png_jpg.rf.e6df8d91e0f9913decff723fcb773415.jpg: 640x640 2 humans, 1 machine, 8.0ms\n",
            "image 410/603 /content/smart-poultry-farm-litter-raking-3/test/images/Litter-raking-Images-860-_png_jpg.rf.35d89c44e16ee9923eedd53fe6aed666.jpg: 640x640 2 humans, 1 machine, 7.3ms\n",
            "image 411/603 /content/smart-poultry-farm-litter-raking-3/test/images/Litter-raking-Images-861-_png_jpg.rf.23ee20de7801c6cfb306e1ceb6429f9d.jpg: 640x640 1 human, 1 machine, 7.3ms\n",
            "image 412/603 /content/smart-poultry-farm-litter-raking-3/test/images/Litter-raking-Images-861-_png_jpg.rf.7948dba9367b5be2c18deb0647a52f4d.jpg: 640x640 2 humans, 1 machine, 7.3ms\n",
            "image 413/603 /content/smart-poultry-farm-litter-raking-3/test/images/Litter-raking-Images-862-_png_jpg.rf.3725f138194f22cce0841fa79648163f.jpg: 640x640 1 human, 1 machine, 9.1ms\n",
            "image 414/603 /content/smart-poultry-farm-litter-raking-3/test/images/Litter-raking-Images-862-_png_jpg.rf.e47d83dd26d135d3af66ace6d103b615.jpg: 640x640 2 humans, 1 machine, 7.3ms\n",
            "image 415/603 /content/smart-poultry-farm-litter-raking-3/test/images/Litter-raking-Images-863-_png_jpg.rf.6aeee35a7d3f4b1a4378fd1ac61a6b12.jpg: 640x640 2 humans, 1 machine, 7.3ms\n",
            "image 416/603 /content/smart-poultry-farm-litter-raking-3/test/images/Litter-raking-Images-863-_png_jpg.rf.7470705a18e13385b6efe8299e0ecbc9.jpg: 640x640 1 human, 1 machine, 9.6ms\n",
            "image 417/603 /content/smart-poultry-farm-litter-raking-3/test/images/Litter-raking-Images-864-_png_jpg.rf.6df649cfa573a48869c211ddf9adb4b1.jpg: 640x640 1 human, 1 machine, 7.3ms\n",
            "image 418/603 /content/smart-poultry-farm-litter-raking-3/test/images/Litter-raking-Images-864-_png_jpg.rf.99a24b0dc4b59b85c89019e5673ef458.jpg: 640x640 2 humans, 1 machine, 7.3ms\n",
            "image 419/603 /content/smart-poultry-farm-litter-raking-3/test/images/Litter-raking-Images-865-_png_jpg.rf.37364434d77b780c8346def9daf11e0d.jpg: 640x640 2 humans, 1 machine, 7.3ms\n",
            "image 420/603 /content/smart-poultry-farm-litter-raking-3/test/images/Litter-raking-Images-865-_png_jpg.rf.73eaa623c0f6809d2a640406d0eeb5da.jpg: 640x640 1 human, 1 machine, 7.5ms\n",
            "image 421/603 /content/smart-poultry-farm-litter-raking-3/test/images/Litter-raking-Images-866-_png_jpg.rf.22807686dbf35727ae3f71d569147864.jpg: 640x640 1 human, 1 machine, 7.3ms\n",
            "image 422/603 /content/smart-poultry-farm-litter-raking-3/test/images/Litter-raking-Images-866-_png_jpg.rf.f8a30f0c6350db4906f2e8f93f789477.jpg: 640x640 2 humans, 1 machine, 7.3ms\n",
            "image 423/603 /content/smart-poultry-farm-litter-raking-3/test/images/Litter-raking-Images-867-_png_jpg.rf.122b4e157f8ea19e46ba26fcad9fed31.jpg: 640x640 1 human, 1 machine, 7.4ms\n",
            "image 424/603 /content/smart-poultry-farm-litter-raking-3/test/images/Litter-raking-Images-867-_png_jpg.rf.e4547cdcaf9ce5ad6ff8b05cd08fc3d6.jpg: 640x640 2 humans, 1 machine, 7.3ms\n",
            "image 425/603 /content/smart-poultry-farm-litter-raking-3/test/images/Litter-raking-Images-868-_png_jpg.rf.acc4b39601eac474f02ef28ed4bc7056.jpg: 640x640 2 humans, 1 machine, 9.7ms\n",
            "image 426/603 /content/smart-poultry-farm-litter-raking-3/test/images/Litter-raking-Images-868-_png_jpg.rf.f2fb38771ac45656b089a0c90685845e.jpg: 640x640 1 human, 1 machine, 7.3ms\n",
            "image 427/603 /content/smart-poultry-farm-litter-raking-3/test/images/Litter-raking-Images-869-_jpg.rf.edf6e6b556da09cc7e38187844e498a1.jpg: 640x640 1 human, 7.3ms\n",
            "image 428/603 /content/smart-poultry-farm-litter-raking-3/test/images/Litter-raking-Images-869-_png_jpg.rf.90eafcd15921fd9747440984aa22a101.jpg: 640x640 2 humans, 1 machine, 7.3ms\n",
            "image 429/603 /content/smart-poultry-farm-litter-raking-3/test/images/Litter-raking-Images-870-_jpg.rf.1d7696238e8f55a0081c94ed3ee3a803.jpg: 640x640 1 human, 1 machine, 7.3ms\n",
            "image 430/603 /content/smart-poultry-farm-litter-raking-3/test/images/Litter-raking-Images-870-_png_jpg.rf.7f2a9496a009863cb7c6c4fbe4a242d6.jpg: 640x640 3 humans, 1 machine, 7.6ms\n",
            "image 431/603 /content/smart-poultry-farm-litter-raking-3/test/images/Litter-raking-Images-872-_png_jpg.rf.59ca77ef77a99fe598499761f9827243.jpg: 640x640 2 humans, 7.4ms\n",
            "image 432/603 /content/smart-poultry-farm-litter-raking-3/test/images/Litter-raking-Images-874-1_jpg.rf.689978a89375ccb300c816d307d308a7.jpg: 640x640 1 human, 1 machine, 7.3ms\n",
            "image 433/603 /content/smart-poultry-farm-litter-raking-3/test/images/Litter-raking-Images-875-1_jpg.rf.cb8a7486969334af2432d42396d75f41.jpg: 640x640 1 human, 7.3ms\n",
            "image 434/603 /content/smart-poultry-farm-litter-raking-3/test/images/Litter-raking-Images-875-_png_jpg.rf.77bda215f8c335e09e52e0991bfbdb33.jpg: 640x640 2 humans, 1 machine, 8.5ms\n",
            "image 435/603 /content/smart-poultry-farm-litter-raking-3/test/images/Litter-raking-Images-877-_png_jpg.rf.4f8ad03eb99265a707b90c1da2cf806d.jpg: 640x640 3 humans, 1 machine, 7.3ms\n",
            "image 436/603 /content/smart-poultry-farm-litter-raking-3/test/images/Litter-raking-Images-880-_png_jpg.rf.101a025641ee54d218ad2c128659e85b.jpg: 640x640 2 humans, 1 machine, 7.3ms\n",
            "image 437/603 /content/smart-poultry-farm-litter-raking-3/test/images/Litter-raking-Images-884-1_jpg.rf.5f953e321cef62f52fbf5cc440742912.jpg: 640x640 1 human, 1 machine, 7.3ms\n",
            "image 438/603 /content/smart-poultry-farm-litter-raking-3/test/images/Litter-raking-Images-884-_png_jpg.rf.d415f4dcf2130677321c41af6fcbf129.jpg: 640x640 2 humans, 1 machine, 7.3ms\n",
            "image 439/603 /content/smart-poultry-farm-litter-raking-3/test/images/Litter-raking-Images-885-1_jpg.rf.3c3fea397ffe89b310b844b695165b9c.jpg: 640x640 1 human, 7.3ms\n",
            "image 440/603 /content/smart-poultry-farm-litter-raking-3/test/images/Litter-raking-Images-887-_png_jpg.rf.5ebcb0ad3dd0cac72dd1c275b4c74098.jpg: 640x640 1 human, 1 machine, 7.3ms\n",
            "image 441/603 /content/smart-poultry-farm-litter-raking-3/test/images/Litter-raking-Images-888-_png_jpg.rf.e1620858b590304b43613ebca1ea76f2.jpg: 640x640 2 humans, 1 machine, 7.3ms\n",
            "image 442/603 /content/smart-poultry-farm-litter-raking-3/test/images/Litter-raking-Images-889-_png_jpg.rf.e12450aa8ac0cb43ac432e38a1ec2922.jpg: 640x640 1 human, 1 machine, 7.3ms\n",
            "image 443/603 /content/smart-poultry-farm-litter-raking-3/test/images/Litter-raking-Images-892-_png_jpg.rf.37ef4c065f817d59b1c69a900eb6a8a2.jpg: 640x640 1 human, 7.5ms\n",
            "image 444/603 /content/smart-poultry-farm-litter-raking-3/test/images/Litter-raking-Images-894-_png_jpg.rf.e146fc052df8f7ed8dd5207ca31451f3.jpg: 640x640 1 human, 7.4ms\n",
            "image 445/603 /content/smart-poultry-farm-litter-raking-3/test/images/Litter-raking-Images-895-1_jpg.rf.4e19cb502855b7c9f27bb948f92ab6e7.jpg: 640x640 1 human, 1 machine, 7.3ms\n",
            "image 446/603 /content/smart-poultry-farm-litter-raking-3/test/images/Litter-raking-Images-895-_png_jpg.rf.df06fb44ca799bce26b6049d819251f8.jpg: 640x640 2 humans, 7.4ms\n",
            "image 447/603 /content/smart-poultry-farm-litter-raking-3/test/images/Poultry-Raking-Machine-360P-_mp4-0002_jpg.rf.194785bbdb531d22f3950fad4fae7c3f.jpg: 640x640 2 humans, 1 machine, 7.3ms\n",
            "image 448/603 /content/smart-poultry-farm-litter-raking-3/test/images/Poultry-Raking-Machine-360P-_mp4-0003_jpg.rf.499ad597a86ad56f5be6560091e206bd.jpg: 640x640 2 humans, 1 machine, 7.3ms\n",
            "image 449/603 /content/smart-poultry-farm-litter-raking-3/test/images/Poultry-Raking-Machine-360P-_mp4-0005_jpg.rf.14bab481962f25284b49e0d09417b161.jpg: 640x640 2 humans, 1 machine, 7.3ms\n",
            "image 450/603 /content/smart-poultry-farm-litter-raking-3/test/images/Poultry-Raking-Machine-360P-_mp4-0006_jpg.rf.45614f92175067cc5547a556e612ded1.jpg: 640x640 1 human, 1 machine, 7.3ms\n",
            "image 451/603 /content/smart-poultry-farm-litter-raking-3/test/images/Raking-machine-720P_HD-_mp4-0010_jpg.rf.fc9305afbb1a6e0bad0de32a37b29a92.jpg: 640x640 1 human, 1 machine, 7.3ms\n",
            "image 452/603 /content/smart-poultry-farm-litter-raking-3/test/images/Raking-machine-720P_HD-_mp4-0012_jpg.rf.7e2fb3c7cbefdff29eb2a1889d85bcd6.jpg: 640x640 1 human, 1 machine, 7.3ms\n",
            "image 453/603 /content/smart-poultry-farm-litter-raking-3/test/images/Raking-machine-720P_HD-_mp4-0013_jpg.rf.fc320a82f59c1965f9562f78a9028097.jpg: 640x640 1 human, 1 machine, 7.3ms\n",
            "image 454/603 /content/smart-poultry-farm-litter-raking-3/test/images/Raking-machine-720P_HD-_mp4-0014_jpg.rf.5617133f391b24b4711a86fdf1b1b711.jpg: 640x640 1 human, 1 machine, 7.4ms\n",
            "image 455/603 /content/smart-poultry-farm-litter-raking-3/test/images/Raking-machine-720P_HD-_mp4-0015_jpg.rf.fc7f028cd6839a70eb39f8508a0f35f4.jpg: 640x640 1 human, 1 machine, 7.8ms\n",
            "image 456/603 /content/smart-poultry-farm-litter-raking-3/test/images/Raking-machine-720P_HD-_mp4-0046_jpg.rf.f16db23f1d0095462900daa7e1623680.jpg: 640x640 1 machine, 7.3ms\n",
            "image 457/603 /content/smart-poultry-farm-litter-raking-3/test/images/download_jpeg_jpg.rf.95e3b2445d362b38ace7e36d9099f8b7.jpg: 640x640 1 machine, 7.3ms\n",
            "image 458/603 /content/smart-poultry-farm-litter-raking-3/test/images/how-to-do-Litter-raking-in-poultry-farm-_chicken-_farming-_poultrytreatment-_poultrydiseases-480P-_mp4-0009_jpg.rf.e2defec2dd47e8e75ed4d787539eb693.jpg: 640x640 1 human, 1 machine, 12.4ms\n",
            "image 459/603 /content/smart-poultry-farm-litter-raking-3/test/images/how-to-do-Litter-raking-in-poultry-farm-_chicken-_farming-_poultrytreatment-_poultrydiseases-480P-_mp4-0011_jpg.rf.ed4b38e4e5740bc82593536b95726783.jpg: 640x640 1 human, 1 machine, 7.3ms\n",
            "image 460/603 /content/smart-poultry-farm-litter-raking-3/test/images/how-to-do-Litter-raking-in-poultry-farm-_chicken-_farming-_poultrytreatment-_poultrydiseases-480P-_mp4-0012_jpg.rf.51acbc2f440e7150da7b2087ec27405f.jpg: 640x640 1 human, 1 machine, 7.4ms\n",
            "image 461/603 /content/smart-poultry-farm-litter-raking-3/test/images/how-to-do-Litter-raking-in-poultry-farm-_chicken-_farming-_poultrytreatment-_poultrydiseases-480P-_mp4-0014_jpg.rf.a52351f9810fd402b5a264bacb789f4d.jpg: 640x640 1 human, 1 machine, 7.3ms\n",
            "image 462/603 /content/smart-poultry-farm-litter-raking-3/test/images/how-to-do-Litter-raking-in-poultry-farm-_chicken-_farming-_poultrytreatment-_poultrydiseases-480P-_mp4-0015_jpg.rf.ea047d0b128a3dd051f6a0be008fd162.jpg: 640x640 1 human, 1 machine, 8.2ms\n",
            "image 463/603 /content/smart-poultry-farm-litter-raking-3/test/images/how-to-do-Litter-raking-in-poultry-farm-_chicken-_farming-_poultrytreatment-_poultrydiseases-480P-_mp4-0017_jpg.rf.9ab1fdd28262137345855defce77056e.jpg: 640x640 1 human, 1 machine, 7.3ms\n",
            "image 464/603 /content/smart-poultry-farm-litter-raking-3/test/images/how-to-do-Litter-raking-in-poultry-farm-_chicken-_farming-_poultrytreatment-_poultrydiseases-480P-_mp4-0025_jpg.rf.e40596c66e7fe61611fb62c70b442e81.jpg: 640x640 1 human, 1 machine, 7.3ms\n",
            "image 465/603 /content/smart-poultry-farm-litter-raking-3/test/images/how-to-do-Litter-raking-in-poultry-farm-_chicken-_farming-_poultrytreatment-_poultrydiseases-480P-_mp4-0026_jpg.rf.14a3fbf169c524ca670caf95e0b1a069.jpg: 640x640 1 human, 1 machine, 7.3ms\n",
            "image 466/603 /content/smart-poultry-farm-litter-raking-3/test/images/how-to-do-Litter-raking-in-poultry-farm-_chicken-_farming-_poultrytreatment-_poultrydiseases-480P-_mp4-0027_jpg.rf.038104b62918e8da53b6f3de82241088.jpg: 640x640 1 human, 1 machine, 7.4ms\n",
            "image 467/603 /content/smart-poultry-farm-litter-raking-3/test/images/how-to-do-Litter-raking-in-poultry-farm-_chicken-_farming-_poultrytreatment-_poultrydiseases-480P-_mp4-0029_jpg.rf.e14a7f86e13df169f6279d57dc08a576.jpg: 640x640 1 human, 1 machine, 7.4ms\n",
            "image 468/603 /content/smart-poultry-farm-litter-raking-3/test/images/how-to-do-Litter-raking-in-poultry-farm-_chicken-_farming-_poultrytreatment-_poultrydiseases-480P-_mp4-0036_jpg.rf.4f812c4dc2695a780f06e4bb174e0a1b.jpg: 640x640 1 human, 1 machine, 7.3ms\n",
            "image 469/603 /content/smart-poultry-farm-litter-raking-3/test/images/how-to-do-Litter-raking-in-poultry-farm-_chicken-_farming-_poultrytreatment-_poultrydiseases-480P-_mp4-0037_jpg.rf.1754e4acc73669c7fe4a458f91e4a754.jpg: 640x640 1 human, 1 machine, 7.3ms\n",
            "image 470/603 /content/smart-poultry-farm-litter-raking-3/test/images/how-to-do-Litter-raking-in-poultry-farm-_chicken-_farming-_poultrytreatment-_poultrydiseases-480P-_mp4-0039_jpg.rf.7976f9a8cf2772c3c3760845ecce88d8.jpg: 640x640 1 human, 1 machine, 7.3ms\n",
            "image 471/603 /content/smart-poultry-farm-litter-raking-3/test/images/how-to-do-Litter-raking-in-poultry-farm-_chicken-_farming-_poultrytreatment-_poultrydiseases-480P-_mp4-0040_jpg.rf.2fa359611aefb871f278afaa826f6f63.jpg: 640x640 1 human, 1 machine, 7.3ms\n",
            "image 472/603 /content/smart-poultry-farm-litter-raking-3/test/images/how-to-do-Litter-raking-in-poultry-farm-_chicken-_farming-_poultrytreatment-_poultrydiseases-480P-_mp4-0041_jpg.rf.bd63d3f5118e96765f4bd9f49b475907.jpg: 640x640 1 human, 1 machine, 7.3ms\n",
            "image 473/603 /content/smart-poultry-farm-litter-raking-3/test/images/how-to-do-Litter-raking-in-poultry-farm-_chicken-_farming-_poultrytreatment-_poultrydiseases-480P-_mp4-0048_jpg.rf.0d433b28f4afd22bf0305700029c1391.jpg: 640x640 1 human, 1 machine, 7.4ms\n",
            "image 474/603 /content/smart-poultry-farm-litter-raking-3/test/images/how-to-do-Litter-raking-in-poultry-farm-_chicken-_farming-_poultrytreatment-_poultrydiseases-480P-_mp4-0050_jpg.rf.f3bf2cae09e63c8039006de42f75a904.jpg: 640x640 1 human, 1 machine, 8.1ms\n",
            "image 475/603 /content/smart-poultry-farm-litter-raking-3/test/images/how-to-do-Litter-raking-in-poultry-farm-_chicken-_farming-_poultrytreatment-_poultrydiseases-480P-_mp4-0052_jpg.rf.78287c33340dde9a85cccc51e97215dd.jpg: 640x640 1 human, 1 machine, 7.3ms\n",
            "image 476/603 /content/smart-poultry-farm-litter-raking-3/test/images/how-to-do-Litter-raking-in-poultry-farm-_chicken-_farming-_poultrytreatment-_poultrydiseases-480P-_mp4-0053_jpg.rf.5e483253a87b0cbf4ba5fb2f631bd867.jpg: 640x640 1 human, 1 machine, 7.3ms\n",
            "image 477/603 /content/smart-poultry-farm-litter-raking-3/test/images/how-to-do-Litter-raking-in-poultry-farm-_chicken-_farming-_poultrytreatment-_poultrydiseases-480P-_mp4-0056_jpg.rf.781d26cac40c26fe4f757477b2c40809.jpg: 640x640 1 human, 1 machine, 7.3ms\n",
            "image 478/603 /content/smart-poultry-farm-litter-raking-3/test/images/how-to-do-Litter-raking-in-poultry-farm-_chicken-_farming-_poultrytreatment-_poultrydiseases-480P-_mp4-0059_jpg.rf.bb16d34b3a8b926f5ba2b55a71ba29a4.jpg: 640x640 1 human, 1 machine, 7.4ms\n",
            "image 479/603 /content/smart-poultry-farm-litter-raking-3/test/images/how-to-do-Litter-raking-in-poultry-farm-_chicken-_farming-_poultrytreatment-_poultrydiseases-480P-_mp4-0069_jpg.rf.5dd782824dc9231b682f118abab8c1d4.jpg: 640x640 1 machine, 7.7ms\n",
            "image 480/603 /content/smart-poultry-farm-litter-raking-3/test/images/how-to-do-Litter-raking-in-poultry-farm-_chicken-_farming-_poultrytreatment-_poultrydiseases-480P-_mp4-0071_jpg.rf.501afe0f735bc68b87d146ed9b5a3f15.jpg: 640x640 1 machine, 7.3ms\n",
            "image 481/603 /content/smart-poultry-farm-litter-raking-3/test/images/how-to-do-Litter-raking-in-poultry-farm-_chicken-_farming-_poultrytreatment-_poultrydiseases-480P-_mp4-0075_jpg.rf.fce5f42c0dcf9d7903a993087033701d.jpg: 640x640 1 machine, 7.3ms\n",
            "image 482/603 /content/smart-poultry-farm-litter-raking-3/test/images/how-to-do-Litter-raking-in-poultry-farm-_chicken-_farming-_poultrytreatment-_poultrydiseases-480P-_mp4-0077_jpg.rf.9d60f6fcb1320b4075bf0a66c8a762bc.jpg: 640x640 1 machine, 7.6ms\n",
            "image 483/603 /content/smart-poultry-farm-litter-raking-3/test/images/how-to-do-Litter-raking-in-poultry-farm-_chicken-_farming-_poultrytreatment-_poultrydiseases-480P-_mp4-0080_jpg.rf.1e236da0999ce887c03010f86996efa9.jpg: 640x640 1 human, 1 machine, 7.6ms\n",
            "image 484/603 /content/smart-poultry-farm-litter-raking-3/test/images/how-to-do-Litter-raking-in-poultry-farm-_chicken-_farming-_poultrytreatment-_poultrydiseases-480P-_mp4-0081_jpg.rf.b71699982d0d1ef85b02b596075ded75.jpg: 640x640 1 human, 1 machine, 7.3ms\n",
            "image 485/603 /content/smart-poultry-farm-litter-raking-3/test/images/how-to-do-Litter-raking-in-poultry-farm-_chicken-_farming-_poultrytreatment-_poultrydiseases-480P-_mp4-0086_jpg.rf.664e2850871ac12285147f040ae23001.jpg: 640x640 1 human, 1 machine, 7.3ms\n",
            "image 486/603 /content/smart-poultry-farm-litter-raking-3/test/images/how-to-do-Litter-raking-in-poultry-farm-_chicken-_farming-_poultrytreatment-_poultrydiseases-480P-_mp4-0087_jpg.rf.68df9e6811bf31f019fddd1bb144781f.jpg: 640x640 1 human, 1 machine, 7.3ms\n",
            "image 487/603 /content/smart-poultry-farm-litter-raking-3/test/images/how-to-do-Litter-raking-in-poultry-farm-_chicken-_farming-_poultrytreatment-_poultrydiseases-480P-_mp4-0088_jpg.rf.e5a5957e0d311d271f10fb5da10bcd2d.jpg: 640x640 1 human, 2 machines, 7.4ms\n",
            "image 488/603 /content/smart-poultry-farm-litter-raking-3/test/images/how-to-do-Litter-raking-in-poultry-farm-_chicken-_farming-_poultrytreatment-_poultrydiseases-480P-_mp4-0093_jpg.rf.f458bf52b78150500fb85fd9797bddba.jpg: 640x640 1 human, 2 machines, 7.3ms\n",
            "image 489/603 /content/smart-poultry-farm-litter-raking-3/test/images/how-to-do-Litter-raking-in-poultry-farm-_chicken-_farming-_poultrytreatment-_poultrydiseases-480P-_mp4-0100_jpg.rf.7393e20aae6c26631c1c6664003171d5.jpg: 640x640 1 human, 1 machine, 7.3ms\n",
            "image 490/603 /content/smart-poultry-farm-litter-raking-3/test/images/how-to-do-Litter-raking-in-poultry-farm-_chicken-_farming-_poultrytreatment-_poultrydiseases-480P-_mp4-0102_jpg.rf.13348e51a18785bb9293c2164679ca24.jpg: 640x640 1 human, 1 machine, 7.3ms\n",
            "image 491/603 /content/smart-poultry-farm-litter-raking-3/test/images/how-to-do-Litter-raking-in-poultry-farm-_chicken-_farming-_poultrytreatment-_poultrydiseases-480P-_mp4-0103_jpg.rf.f4daa1e5f30a4556115f137255773be2.jpg: 640x640 1 human, 1 machine, 8.1ms\n",
            "image 492/603 /content/smart-poultry-farm-litter-raking-3/test/images/how-to-do-Litter-raking-in-poultry-farm-_chicken-_farming-_poultrytreatment-_poultrydiseases-480P-_mp4-0109_jpg.rf.bf2897eef7a55cdd750b6c925c1b7f24.jpg: 640x640 1 machine, 7.3ms\n",
            "image 493/603 /content/smart-poultry-farm-litter-raking-3/test/images/how-to-do-Litter-raking-in-poultry-farm-_chicken-_farming-_poultrytreatment-_poultrydiseases-480P-_mp4-0110_jpg.rf.bedfd6eb66a96181d9dcd038b1859a79.jpg: 640x640 1 machine, 7.5ms\n",
            "image 494/603 /content/smart-poultry-farm-litter-raking-3/test/images/images-12-_jpeg_jpg.rf.13a0189274c5e27ffb34e7b8fb8cb156.jpg: 640x640 2 humans, 7.3ms\n",
            "image 495/603 /content/smart-poultry-farm-litter-raking-3/test/images/images-2-_jpeg_jpg.rf.d45bdb43dd7ef0115d98f08403175e36.jpg: 640x640 1 machine, 7.3ms\n",
            "image 496/603 /content/smart-poultry-farm-litter-raking-3/test/images/images-20-_jpeg_jpg.rf.7a5ce2243ec1b95c4f5864f91235d334.jpg: 640x640 1 machine, 7.3ms\n",
            "image 497/603 /content/smart-poultry-farm-litter-raking-3/test/images/images-21-_jpeg_jpg.rf.875ee6d078fb61ce33700eef4bf55d4b.jpg: 640x640 1 machine, 7.4ms\n",
            "image 498/603 /content/smart-poultry-farm-litter-raking-3/test/images/images-22-_jpeg_jpg.rf.0fb140d6008b58b89fcb589e9329020f.jpg: 640x640 1 machine, 7.3ms\n",
            "image 499/603 /content/smart-poultry-farm-litter-raking-3/test/images/images-24-_jpeg_jpg.rf.7813d1a76a0c2685d5f955147e65269e.jpg: 640x640 1 machine, 7.3ms\n",
            "image 500/603 /content/smart-poultry-farm-litter-raking-3/test/images/images-34-_jpeg_jpg.rf.8dc1e3f3203fff3eb58a4015056cdf2b.jpg: 640x640 1 human, 1 machine, 8.9ms\n",
            "image 501/603 /content/smart-poultry-farm-litter-raking-3/test/images/images-35-_jpeg_jpg.rf.b4aea74e6157a6a4f022ee23e64268d0.jpg: 640x640 1 machine, 7.3ms\n",
            "image 502/603 /content/smart-poultry-farm-litter-raking-3/test/images/images-38-_jpeg_jpg.rf.f04aa08e959c620bb452889318db5ed0.jpg: 640x640 1 machine, 8.4ms\n",
            "image 503/603 /content/smart-poultry-farm-litter-raking-3/test/images/images-4-_jpeg_jpg.rf.122edb9ce675f657a455c0a70f17d073.jpg: 640x640 1 human, 1 machine, 7.3ms\n",
            "image 504/603 /content/smart-poultry-farm-litter-raking-3/test/images/images-42-_jpeg_jpg.rf.aa925fd5ea476d58f05374f814989bf8.jpg: 640x640 1 machine, 7.3ms\n",
            "image 505/603 /content/smart-poultry-farm-litter-raking-3/test/images/images-44-_jpeg_jpg.rf.a2b9bdb4b1fe16631165e87c22e526db.jpg: 640x640 1 machine, 7.3ms\n",
            "image 506/603 /content/smart-poultry-farm-litter-raking-3/test/images/images-45-_jpeg_jpg.rf.c848533dd747445c33df43195f92f331.jpg: 640x640 1 machine, 7.3ms\n",
            "image 507/603 /content/smart-poultry-farm-litter-raking-3/test/images/images-49-_jpeg_jpg.rf.cb2f2a436ce1c1e9c2e7ebf0edf3c31d.jpg: 640x640 1 machine, 9.1ms\n",
            "image 508/603 /content/smart-poultry-farm-litter-raking-3/test/images/images-52-_jpeg_jpg.rf.390de717578213b252c45fc8bac0b03d.jpg: 640x640 1 machine, 7.3ms\n",
            "image 509/603 /content/smart-poultry-farm-litter-raking-3/test/images/images-53-_jpeg_jpg.rf.0fa47c1e9b383f52115f1a7b236f99bf.jpg: 640x640 1 machine, 7.4ms\n",
            "image 510/603 /content/smart-poultry-farm-litter-raking-3/test/images/images-54-_jpeg_jpg.rf.3c1a6c295fd7af932ee295245c47e04f.jpg: 640x640 1 machine, 8.1ms\n",
            "image 511/603 /content/smart-poultry-farm-litter-raking-3/test/images/images-55-_jpeg_jpg.rf.fb47e0d87e1075b6059985a41193f312.jpg: 640x640 2 machines, 7.4ms\n",
            "image 512/603 /content/smart-poultry-farm-litter-raking-3/test/images/images-7-_jpeg_jpg.rf.3faed2ffc9a949cfbd48ec3dafd5b56a.jpg: 640x640 1 machine, 7.4ms\n",
            "image 513/603 /content/smart-poultry-farm-litter-raking-3/test/images/images-8-_jpeg_jpg.rf.525bba2f8e8bb1bcf82d92667d58518e.jpg: 640x640 1 machine, 7.3ms\n",
            "image 514/603 /content/smart-poultry-farm-litter-raking-3/test/images/images_jpeg_jpg.rf.b9c1f5a382802c561b365b4abac6834c.jpg: 640x640 1 machine, 7.3ms\n",
            "image 515/603 /content/smart-poultry-farm-litter-raking-3/test/images/poultry-Raking-Machine_-poultry-farming-Assam__poultry-farming_broilar-_poultry-_company-720P_HD-_mp4-0001_jpg.rf.0882f7860266f47a44b88eeb41fe7387.jpg: 640x640 2 machines, 7.7ms\n",
            "image 516/603 /content/smart-poultry-farm-litter-raking-3/test/images/poultry-Raking-Machine_-poultry-farming-Assam__poultry-farming_broilar-_poultry-_company-720P_HD-_mp4-0014_jpg.rf.1493244db5c96c8dfafb110632289389.jpg: 640x640 1 human, 1 machine, 7.3ms\n",
            "image 517/603 /content/smart-poultry-farm-litter-raking-3/test/images/poultry-Raking-Machine_-poultry-farming-Assam__poultry-farming_broilar-_poultry-_company-720P_HD-_mp4-0030_jpg.rf.fb0b745b5c8bed38fd5d09391f7c0ca1.jpg: 640x640 1 machine, 7.4ms\n",
            "image 518/603 /content/smart-poultry-farm-litter-raking-3/test/images/poultry-Raking-Machine_-poultry-farming-Assam__poultry-farming_broilar-_poultry-_company-720P_HD-_mp4-0031_jpg.rf.4fccc32d134cdea17b30eb83a1371f30.jpg: 640x640 1 machine, 7.3ms\n",
            "image 519/603 /content/smart-poultry-farm-litter-raking-3/test/images/poultry-Raking-Machine_-poultry-farming-Assam__poultry-farming_broilar-_poultry-_company-720P_HD-_mp4-0035_jpg.rf.7f53668cb26d652fe6880ea01e42fc25.jpg: 640x640 1 machine, 7.3ms\n",
            "image 520/603 /content/smart-poultry-farm-litter-raking-3/test/images/poultry-litter-raking-_-change-1080P_HD-_mp4-0000_jpg.rf.d1649b6391048d56f0b64a158c0bd032.jpg: 640x640 1 human, 1 machine, 7.4ms\n",
            "image 521/603 /content/smart-poultry-farm-litter-raking-3/test/images/poultry-litter-raking-_-change-1080P_HD-_mp4-0001_jpg.rf.fe4191ffef4b9fade8c8e808429586f4.jpg: 640x640 1 human, 1 machine, 7.3ms\n",
            "image 522/603 /content/smart-poultry-farm-litter-raking-3/test/images/poultry-litter-raking-_-change-1080P_HD-_mp4-0004_jpg.rf.36e032b2b5e8d6b72a52e8dcbe52e36d.jpg: 640x640 1 human, 1 machine, 7.4ms\n",
            "image 523/603 /content/smart-poultry-farm-litter-raking-3/test/images/poultry-litter-raking-_-change-1080P_HD-_mp4-0005_jpg.rf.47547e68295e960506a118f073dd7ec4.jpg: 640x640 1 human, 1 machine, 7.3ms\n",
            "image 524/603 /content/smart-poultry-farm-litter-raking-3/test/images/poultry-litter-raking-_-change-1080P_HD-_mp4-0006_jpg.rf.4e577d64caf00533576be0fcc078f60e.jpg: 640x640 1 machine, 7.3ms\n",
            "image 525/603 /content/smart-poultry-farm-litter-raking-3/test/images/poultry-litter-raking-_-change-1080P_HD-_mp4-0008_jpg.rf.646a834830f308bd1061e2f06cc6c379.jpg: 640x640 1 human, 1 machine, 7.3ms\n",
            "image 526/603 /content/smart-poultry-farm-litter-raking-3/test/images/poultry-litter-raking-_-change-1080P_HD-_mp4-0009_jpg.rf.7469056757bcb4ea4b050e58adaf6d5e.jpg: 640x640 1 machine, 7.3ms\n",
            "image 527/603 /content/smart-poultry-farm-litter-raking-3/test/images/poultry-litter-raking-_-change-1080P_HD-_mp4-0010_jpg.rf.9ec0852b4fe22a92f77425a41dba3d14.jpg: 640x640 1 human, 1 machine, 7.3ms\n",
            "image 528/603 /content/smart-poultry-farm-litter-raking-3/test/images/poultry-litter-raking-_-change-1080P_HD-_mp4-0011_jpg.rf.7c2c1ab7ca5ccfcfbe950ee894039fb0.jpg: 640x640 1 human, 1 machine, 17.0ms\n",
            "image 529/603 /content/smart-poultry-farm-litter-raking-3/test/images/poultry-litter-raking-_-change-1080P_HD-_mp4-0012_jpg.rf.a2de391bd7a643847feb5863527b64af.jpg: 640x640 1 human, 1 machine, 14.0ms\n",
            "image 530/603 /content/smart-poultry-farm-litter-raking-3/test/images/poultry-litter-raking-_-change-1080P_HD-_mp4-0013_jpg.rf.9551b8af4684f76402114aa2a9c2f582.jpg: 640x640 1 human, 1 machine, 10.0ms\n",
            "image 531/603 /content/smart-poultry-farm-litter-raking-3/test/images/poultry-litter-raking-_-change-1080P_HD-_mp4-0014_jpg.rf.9c01e91b4a6a1e55dc4570a57bfcb58e.jpg: 640x640 1 human, 1 machine, 16.0ms\n",
            "image 532/603 /content/smart-poultry-farm-litter-raking-3/test/images/poultry-litter-raking-_-change-1080P_HD-_mp4-0018_jpg.rf.1efa6e2886594408bc6e25fc8add68fe.jpg: 640x640 1 machine, 9.5ms\n",
            "image 533/603 /content/smart-poultry-farm-litter-raking-3/test/images/poultry-litter-raking-_-change-1080P_HD-_mp4-0019_jpg.rf.a32e9df8b97bf06d2b24bbfe889155d3.jpg: 640x640 1 human, 1 machine, 9.3ms\n",
            "image 534/603 /content/smart-poultry-farm-litter-raking-3/test/images/poultry-litter-raking-_-change-1080P_HD-_mp4-0020_jpg.rf.2947932b34578683eb3257bcefaf38f9.jpg: 640x640 1 human, 1 machine, 9.3ms\n",
            "image 535/603 /content/smart-poultry-farm-litter-raking-3/test/images/poultry-litter-raking-tools-_-Nexgen-farming-machineries-8712137637-1080P_HD-_mp4-0005_jpg.rf.ae31b68be18480752ac07c6a01e01449.jpg: 640x640 1 machine, 9.2ms\n",
            "image 536/603 /content/smart-poultry-farm-litter-raking-3/test/images/vf_Raking-machine-720P_HD-_2000_jpeg_jpg.rf.f4274675c2cdbf2bbdbde6706288025d.jpg: 640x640 1 machine, 9.8ms\n",
            "image 537/603 /content/smart-poultry-farm-litter-raking-3/test/images/vf_Raking-machine-720P_HD-_32000_jpeg_jpg.rf.3e87bdc08c50516f688c61b52e06b524.jpg: 640x640 1 human, 1 machine, 9.6ms\n",
            "image 538/603 /content/smart-poultry-farm-litter-raking-3/test/images/vf_Raking-machine-720P_HD-_42000_jpeg_jpg.rf.723b8e4be3ffaab60ce51386a0a7741e.jpg: 640x640 1 machine, 10.3ms\n",
            "image 539/603 /content/smart-poultry-farm-litter-raking-3/test/images/vf_Raking-machine-720P_HD-_50000_jpeg_jpg.rf.2a5b4338dfd036af4b3a154e2eea5d43.jpg: 640x640 1 machine, 10.2ms\n",
            "image 540/603 /content/smart-poultry-farm-litter-raking-3/test/images/vf_Raking-machine-720P_HD-_52000_jpeg_jpg.rf.379c2856759529bc870eea4914aff4f3.jpg: 640x640 1 machine, 8.8ms\n",
            "image 541/603 /content/smart-poultry-farm-litter-raking-3/test/images/vf_Raking-machine-720P_HD-_54000_jpeg_jpg.rf.18a9a28443af7f94ce89382fb3de8e7e.jpg: 640x640 1 machine, 8.5ms\n",
            "image 542/603 /content/smart-poultry-farm-litter-raking-3/test/images/vf_Raking-machine-720P_HD-_58000_jpeg_jpg.rf.42d160ad931ed5d7ae524ca0a24eb659.jpg: 640x640 1 human, 1 machine, 8.4ms\n",
            "image 543/603 /content/smart-poultry-farm-litter-raking-3/test/images/vf_Raking-machine-720P_HD-_6000_jpeg_jpg.rf.ae4846d30c56f00845d8c9d4dfe825bf.jpg: 640x640 1 machine, 8.5ms\n",
            "image 544/603 /content/smart-poultry-farm-litter-raking-3/test/images/vf_Raking-machine-720P_HD-_8000_jpeg_jpg.rf.26584fd167ce5daf13fb32d3bb0b85f5.jpg: 640x640 1 machine, 8.6ms\n",
            "image 545/603 /content/smart-poultry-farm-litter-raking-3/test/images/vf_VID_20240319043109_24000_jpeg_jpg.rf.2669d2ed3f3830c50eaf522a81738a0f.jpg: 640x640 1 human, 1 machine, 8.5ms\n",
            "image 546/603 /content/smart-poultry-farm-litter-raking-3/test/images/vf_VID_20240319043109_50000_jpeg_jpg.rf.12f04ba0b077d539a0bc4a825a44a336.jpg: 640x640 1 human, 1 machine, 8.6ms\n",
            "image 547/603 /content/smart-poultry-farm-litter-raking-3/test/images/vf_VID_20240319043109_52000_jpeg_jpg.rf.fa2fd18b58b75e7394281155f6c13399.jpg: 640x640 1 human, 1 machine, 14.8ms\n",
            "image 548/603 /content/smart-poultry-farm-litter-raking-3/test/images/vf_VID_20240319043109_54000_jpeg_jpg.rf.01226c9669ae1fc98703f473593f0ac5.jpg: 640x640 1 machine, 12.8ms\n",
            "image 549/603 /content/smart-poultry-farm-litter-raking-3/test/images/vf_VID_20240319043109_56000_jpeg_jpg.rf.83b859d1722f2d96648bbe911ee5aa38.jpg: 640x640 1 human, 1 machine, 13.3ms\n",
            "image 550/603 /content/smart-poultry-farm-litter-raking-3/test/images/vf_VID_20240319043109_58000_jpeg_jpg.rf.45d69f23f005f5619a650a41d57c4fea.jpg: 640x640 1 machine, 14.5ms\n",
            "image 551/603 /content/smart-poultry-farm-litter-raking-3/test/images/vf_VID_20240319043109_60000_jpeg_jpg.rf.9fe636e851b91efe6bf7380b2dace533.jpg: 640x640 1 machine, 25.5ms\n",
            "image 552/603 /content/smart-poultry-farm-litter-raking-3/test/images/vf_VID_20240319043109_6000_jpeg_jpg.rf.b6f3f7345649327f4c841b81171f625f.jpg: 640x640 1 human, 1 machine, 14.3ms\n",
            "image 553/603 /content/smart-poultry-farm-litter-raking-3/test/images/vf_VID_20240319043109_62000_jpeg_jpg.rf.06cf5e13a9bec7d0b2ad5ded350507cf.jpg: 640x640 1 machine, 9.1ms\n",
            "image 554/603 /content/smart-poultry-farm-litter-raking-3/test/images/vf_VID_20240319043109_64000_jpeg_jpg.rf.fda42af3e84d2635ac9174e3028ec647.jpg: 640x640 1 human, 1 machine, 8.8ms\n",
            "image 555/603 /content/smart-poultry-farm-litter-raking-3/test/images/vf_VID_20240319043109_66000_jpeg_jpg.rf.d9e0e8e3c36f7f2a8a8770eda0291e4e.jpg: 640x640 1 human, 1 machine, 8.5ms\n",
            "image 556/603 /content/smart-poultry-farm-litter-raking-3/test/images/vf_VID_20240319043109_68000_jpeg_jpg.rf.29a3752e7d3879408f17816587e6a9b6.jpg: 640x640 1 human, 1 machine, 9.1ms\n",
            "image 557/603 /content/smart-poultry-farm-litter-raking-3/test/images/vf_VID_20240319043109_70000_jpeg_jpg.rf.c3105538fae13d88d8dd2f9ead1a32a3.jpg: 640x640 1 human, 1 machine, 11.5ms\n",
            "image 558/603 /content/smart-poultry-farm-litter-raking-3/test/images/vf_VID_20240319043109_72000_jpeg_jpg.rf.98cc86a307ada9dabeeb758000b7933a.jpg: 640x640 1 human, 1 machine, 9.0ms\n",
            "image 559/603 /content/smart-poultry-farm-litter-raking-3/test/images/vf_VID_20240319043109_74000_jpeg_jpg.rf.24a44cf79ba74dbaac2a019c4e10980b.jpg: 640x640 1 human, 1 machine, 8.9ms\n",
            "image 560/603 /content/smart-poultry-farm-litter-raking-3/test/images/vf_VID_20240319043109_80000_jpeg_jpg.rf.04dc68a7ce1c20b13ab04abfc06bb756.jpg: 640x640 1 human, 1 machine, 8.9ms\n",
            "image 561/603 /content/smart-poultry-farm-litter-raking-3/test/images/vf_VID_20240319043109_8000_jpeg_jpg.rf.852a3bd81ff82d4b0ef848c7675d1b37.jpg: 640x640 1 human, 1 machine, 8.8ms\n",
            "image 562/603 /content/smart-poultry-farm-litter-raking-3/test/images/vf_VID_20240319043109_82000_jpeg_jpg.rf.693351ea9a76aaf0f0f1ea1f7af6b4b8.jpg: 640x640 1 human, 1 machine, 8.9ms\n",
            "image 563/603 /content/smart-poultry-farm-litter-raking-3/test/images/vf_VID_20240319043109_84000_jpeg_jpg.rf.13e60f8075869c5deea3351499bbf922.jpg: 640x640 1 human, 1 machine, 9.5ms\n",
            "image 564/603 /content/smart-poultry-farm-litter-raking-3/test/images/vf_VID_20240319043109_86000_jpeg_jpg.rf.3bc2f572d99ecd77d592d7cf00cfd18a.jpg: 640x640 1 human, 1 machine, 9.2ms\n",
            "image 565/603 /content/smart-poultry-farm-litter-raking-3/test/images/vf_VID_20240319043109_88000_jpeg_jpg.rf.717315495640d20207872774e7c880de.jpg: 640x640 1 human, 1 machine, 8.8ms\n",
            "image 566/603 /content/smart-poultry-farm-litter-raking-3/test/images/vf_VID_20240319043109_92000_jpeg_jpg.rf.f6caab03f413920d655e347dba92ef2b.jpg: 640x640 1 human, 1 machine, 9.0ms\n",
            "image 567/603 /content/smart-poultry-farm-litter-raking-3/test/images/vf_VID_20240319043109_94000_jpeg_jpg.rf.e401fa73d90634a951659d572ea5d2d2.jpg: 640x640 1 human, 1 machine, 8.7ms\n",
            "image 568/603 /content/smart-poultry-farm-litter-raking-3/test/images/vf_VID_20240319043109_96000_jpeg_jpg.rf.1853aeb163a75846eb4cc0015dfef140.jpg: 640x640 1 human, 1 machine, 8.6ms\n",
            "image 569/603 /content/smart-poultry-farm-litter-raking-3/test/images/vf_VID_20240319043109_98000_jpeg_jpg.rf.c728b0f7b271b7423ec18bd6125f9602.jpg: 640x640 1 human, 1 machine, 10.5ms\n",
            "image 570/603 /content/smart-poultry-farm-litter-raking-3/test/images/vid200001_png_jpg.rf.541f2588f43ad206f7342afd8bc34436.jpg: 640x640 1 human, 1 machine, 8.8ms\n",
            "image 571/603 /content/smart-poultry-farm-litter-raking-3/test/images/vid200011_png_jpg.rf.db8fbc1d2171fda762af3b064301f628.jpg: 640x640 1 human, 1 machine, 9.0ms\n",
            "image 572/603 /content/smart-poultry-farm-litter-raking-3/test/images/vid200031_png_jpg.rf.835e6fdaada1e38efa0705a04921b75d.jpg: 640x640 1 human, 1 machine, 9.7ms\n",
            "image 573/603 /content/smart-poultry-farm-litter-raking-3/test/images/vid200061_png_jpg.rf.e43fa5e10987a6a1b1934a0d4c807a81.jpg: 640x640 1 human, 1 machine, 14.6ms\n",
            "image 574/603 /content/smart-poultry-farm-litter-raking-3/test/images/vid200081_png_jpg.rf.71b3be6275759a4b2837aa03df602f1d.jpg: 640x640 1 human, 1 machine, 12.8ms\n",
            "image 575/603 /content/smart-poultry-farm-litter-raking-3/test/images/vid200131_png_jpg.rf.f8e988cb13c05675e37fa408028c1027.jpg: 640x640 1 human, 1 machine, 13.7ms\n",
            "image 576/603 /content/smart-poultry-farm-litter-raking-3/test/images/vid200161_png_jpg.rf.1e69e27b2153f53f7089b062f5860490.jpg: 640x640 1 human, 1 machine, 14.0ms\n",
            "image 577/603 /content/smart-poultry-farm-litter-raking-3/test/images/vid200171_png_jpg.rf.d5f5aee2682d0fcdb64d025b96356c84.jpg: 640x640 1 human, 1 machine, 9.1ms\n",
            "image 578/603 /content/smart-poultry-farm-litter-raking-3/test/images/vid200181_png_jpg.rf.c780a5b9597de1173174a1464e6ecb7a.jpg: 640x640 1 human, 1 machine, 12.6ms\n",
            "image 579/603 /content/smart-poultry-farm-litter-raking-3/test/images/vid200191_png_jpg.rf.5baf9f2fc2604e507d8edc9aa467c45a.jpg: 640x640 1 human, 1 machine, 9.3ms\n",
            "image 580/603 /content/smart-poultry-farm-litter-raking-3/test/images/vid300081_png_jpg.rf.1a840a0eb27e9da21473edcf7920c0af.jpg: 640x640 1 human, 1 machine, 9.9ms\n",
            "image 581/603 /content/smart-poultry-farm-litter-raking-3/test/images/vid300091_png_jpg.rf.5b5b43a837f84da81b533222f057d020.jpg: 640x640 1 human, 1 machine, 10.9ms\n",
            "image 582/603 /content/smart-poultry-farm-litter-raking-3/test/images/vid300101_png_jpg.rf.cd667eca6d74b0cef7262694d1892087.jpg: 640x640 1 human, 1 machine, 10.7ms\n",
            "image 583/603 /content/smart-poultry-farm-litter-raking-3/test/images/vid300111_png_jpg.rf.373a2d2b8cd2643f46e066b183c902d5.jpg: 640x640 1 human, 1 machine, 13.3ms\n",
            "image 584/603 /content/smart-poultry-farm-litter-raking-3/test/images/vid300121_png_jpg.rf.04f3f532857a97019df3f806a5bf687e.jpg: 640x640 1 human, 1 machine, 13.2ms\n",
            "image 585/603 /content/smart-poultry-farm-litter-raking-3/test/images/vid300131_png_jpg.rf.18e5719f42664a68674370ad09966373.jpg: 640x640 1 human, 1 machine, 13.0ms\n",
            "image 586/603 /content/smart-poultry-farm-litter-raking-3/test/images/vid300141_png_jpg.rf.1f137dc0633373bb32d6d4fd68523686.jpg: 640x640 1 human, 1 machine, 12.7ms\n",
            "image 587/603 /content/smart-poultry-farm-litter-raking-3/test/images/vid300151_png_jpg.rf.ef0cd0e3b535142ef621377f65d6db79.jpg: 640x640 1 human, 1 machine, 15.7ms\n",
            "image 588/603 /content/smart-poultry-farm-litter-raking-3/test/images/vid300161_png_jpg.rf.4961df493ff9c3877c5f9eddbbccefc3.jpg: 640x640 1 human, 1 machine, 10.3ms\n",
            "image 589/603 /content/smart-poultry-farm-litter-raking-3/test/images/vid300171_png_jpg.rf.f20680d96dd5fb1b00afd509eaed9032.jpg: 640x640 1 human, 1 machine, 7.3ms\n",
            "image 590/603 /content/smart-poultry-farm-litter-raking-3/test/images/vid300181_png_jpg.rf.42422b663066fa9878addbee7d3e5fdd.jpg: 640x640 1 human, 1 machine, 7.4ms\n",
            "image 591/603 /content/smart-poultry-farm-litter-raking-3/test/images/vid300191_png_jpg.rf.ac81fea19698579aabce89c538b7b4b2.jpg: 640x640 1 human, 1 machine, 7.3ms\n",
            "image 592/603 /content/smart-poultry-farm-litter-raking-3/test/images/vid300201_png_jpg.rf.4a7edd00539b52e3ebc20122fabb45ff.jpg: 640x640 1 human, 1 machine, 7.4ms\n",
            "image 593/603 /content/smart-poultry-farm-litter-raking-3/test/images/vid300211_png_jpg.rf.26ff6944e8f9a56e93ce3b5c0b29ec55.jpg: 640x640 1 human, 1 machine, 8.8ms\n",
            "image 594/603 /content/smart-poultry-farm-litter-raking-3/test/images/vid300221_png_jpg.rf.622ea2a753c1b57a929ac8bad8c2cfd0.jpg: 640x640 1 human, 1 machine, 7.3ms\n",
            "image 595/603 /content/smart-poultry-farm-litter-raking-3/test/images/vid300231_png_jpg.rf.3fb9519f49806dda57f815a9380454ec.jpg: 640x640 1 human, 1 machine, 7.3ms\n",
            "image 596/603 /content/smart-poultry-farm-litter-raking-3/test/images/vid300241_png_jpg.rf.0d87d873f861851b2f1722c60a217487.jpg: 640x640 1 human, 1 machine, 9.1ms\n",
            "image 597/603 /content/smart-poultry-farm-litter-raking-3/test/images/vid300251_png_jpg.rf.feff62380e58377ec11bc5910b5b5d13.jpg: 640x640 1 human, 1 machine, 7.3ms\n",
            "image 598/603 /content/smart-poultry-farm-litter-raking-3/test/images/vid300261_png_jpg.rf.44610e113dfea4bef2af07d9dd293d9c.jpg: 640x640 1 human, 1 machine, 7.3ms\n",
            "image 599/603 /content/smart-poultry-farm-litter-raking-3/test/images/vid400001_png_jpg.rf.60aa0c9d8a3ff887d8f62fa670e65e6a.jpg: 640x640 1 human, 1 machine, 7.3ms\n",
            "image 600/603 /content/smart-poultry-farm-litter-raking-3/test/images/vid400011_png_jpg.rf.8163b9f7bc4ea1ce1b2c75748ac03201.jpg: 640x640 1 human, 1 machine, 7.3ms\n",
            "image 601/603 /content/smart-poultry-farm-litter-raking-3/test/images/vid400021_png_jpg.rf.910b1282dfc727fac52090a0eaf37cf2.jpg: 640x640 1 human, 1 machine, 7.3ms\n",
            "image 602/603 /content/smart-poultry-farm-litter-raking-3/test/images/vid400031_png_jpg.rf.97381f7b51d14d191d97f06900626d53.jpg: 640x640 1 human, 1 machine, 7.3ms\n",
            "image 603/603 /content/smart-poultry-farm-litter-raking-3/test/images/vid400041_png_jpg.rf.1931b905bcb410f3f79a725a568691ce.jpg: 640x640 1 human, 12.9ms\n",
            "Speed: 2.2ms preprocess, 8.6ms inference, 1.4ms postprocess per image at shape (1, 3, 640, 640)\n",
            "Results saved to \u001b[1mruns/detect/predict\u001b[0m\n",
            "595 labels saved to runs/detect/predict/labels\n"
          ]
        }
      ]
    }
  ]
}